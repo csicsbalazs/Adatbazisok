{
    "metadata": {
        "kernelspec": {
            "name": "SQL",
            "display_name": "SQL",
            "language": "sql"
        },
        "language_info": {
            "name": "sql",
            "version": ""
        }
    },
    "nbformat_minor": 2,
    "nbformat": 4,
    "cells": [
        {
            "cell_type": "code",
            "source": [
                "-- Első feladat\r\n",
                "SELECT szo.SZOBA_ID AS 'Szoba azonosítója',\r\n",
                "       szo.FEROHELY AS 'Férőhely',\r\n",
                "       DENSE_RANK() OVER(ORDER BY COUNT(*) DESC, szo.FEROHELY ASC) AS 'Helyezés'\r\n",
                "FROM Szoba szo INNER JOIN Foglalas f ON f.SZOBA_FK = szo.SZOBA_ID\r\n",
                "GROUP BY szo.SZOBA_ID, szo.FEROHELY\r\n",
                ""
            ],
            "metadata": {
                "azdata_cell_guid": "1c2f5a10-f551-424e-b908-07531f49b5ef",
                "language": "sql"
            },
            "outputs": [
                {
                    "output_type": "display_data",
                    "data": {
                        "text/html": "(197 rows affected)"
                    },
                    "metadata": {}
                },
                {
                    "output_type": "display_data",
                    "data": {
                        "text/html": "Total execution time: 00:00:00.049"
                    },
                    "metadata": {}
                },
                {
                    "output_type": "execute_result",
                    "metadata": {},
                    "execution_count": 17,
                    "data": {
                        "application/vnd.dataresource+json": {
                            "schema": {
                                "fields": [
                                    {
                                        "name": "Szoba azonosítója"
                                    },
                                    {
                                        "name": "Férőhely"
                                    },
                                    {
                                        "name": "Helyezés"
                                    }
                                ]
                            },
                            "data": [
                                {
                                    "Szoba azonosítója": "58",
                                    "Férőhely": "2",
                                    "Helyezés": "1"
                                },
                                {
                                    "Szoba azonosítója": "182",
                                    "Férőhely": "2",
                                    "Helyezés": "2"
                                },
                                {
                                    "Szoba azonosítója": "185",
                                    "Férőhely": "3",
                                    "Helyezés": "3"
                                },
                                {
                                    "Szoba azonosítója": "70",
                                    "Férőhely": "2",
                                    "Helyezés": "4"
                                },
                                {
                                    "Szoba azonosítója": "94",
                                    "Férőhely": "2",
                                    "Helyezés": "5"
                                },
                                {
                                    "Szoba azonosítója": "12",
                                    "Férőhely": "2",
                                    "Helyezés": "6"
                                },
                                {
                                    "Szoba azonosítója": "172",
                                    "Férőhely": "2",
                                    "Helyezés": "6"
                                },
                                {
                                    "Szoba azonosítója": "35",
                                    "Férőhely": "3",
                                    "Helyezés": "7"
                                },
                                {
                                    "Szoba azonosítója": "48",
                                    "Férőhely": "3",
                                    "Helyezés": "7"
                                },
                                {
                                    "Szoba azonosítója": "74",
                                    "Férőhely": "3",
                                    "Helyezés": "7"
                                },
                                {
                                    "Szoba azonosítója": "122",
                                    "Férőhely": "3",
                                    "Helyezés": "7"
                                },
                                {
                                    "Szoba azonosítója": "121",
                                    "Férőhely": "2",
                                    "Helyezés": "8"
                                },
                                {
                                    "Szoba azonosítója": "140",
                                    "Férőhely": "2",
                                    "Helyezés": "8"
                                },
                                {
                                    "Szoba azonosítója": "110",
                                    "Férőhely": "2",
                                    "Helyezés": "8"
                                },
                                {
                                    "Szoba azonosítója": "55",
                                    "Férőhely": "2",
                                    "Helyezés": "8"
                                },
                                {
                                    "Szoba azonosítója": "38",
                                    "Férőhely": "2",
                                    "Helyezés": "8"
                                },
                                {
                                    "Szoba azonosítója": "1",
                                    "Férőhely": "3",
                                    "Helyezés": "9"
                                },
                                {
                                    "Szoba azonosítója": "3",
                                    "Férőhely": "3",
                                    "Helyezés": "9"
                                },
                                {
                                    "Szoba azonosítója": "43",
                                    "Férőhely": "3",
                                    "Helyezés": "9"
                                },
                                {
                                    "Szoba azonosítója": "83",
                                    "Férőhely": "3",
                                    "Helyezés": "9"
                                },
                                {
                                    "Szoba azonosítója": "88",
                                    "Férőhely": "3",
                                    "Helyezés": "9"
                                },
                                {
                                    "Szoba azonosítója": "89",
                                    "Férőhely": "3",
                                    "Helyezés": "9"
                                },
                                {
                                    "Szoba azonosítója": "117",
                                    "Férőhely": "3",
                                    "Helyezés": "9"
                                },
                                {
                                    "Szoba azonosítója": "198",
                                    "Férőhely": "3",
                                    "Helyezés": "9"
                                },
                                {
                                    "Szoba azonosítója": "149",
                                    "Férőhely": "2",
                                    "Helyezés": "10"
                                },
                                {
                                    "Szoba azonosítója": "156",
                                    "Férőhely": "2",
                                    "Helyezés": "10"
                                },
                                {
                                    "Szoba azonosítója": "163",
                                    "Férőhely": "2",
                                    "Helyezés": "10"
                                },
                                {
                                    "Szoba azonosítója": "165",
                                    "Férőhely": "2",
                                    "Helyezés": "10"
                                },
                                {
                                    "Szoba azonosítója": "118",
                                    "Férőhely": "2",
                                    "Helyezés": "10"
                                },
                                {
                                    "Szoba azonosítója": "109",
                                    "Férőhely": "2",
                                    "Helyezés": "10"
                                },
                                {
                                    "Szoba azonosítója": "127",
                                    "Férőhely": "2",
                                    "Helyezés": "10"
                                },
                                {
                                    "Szoba azonosítója": "139",
                                    "Férőhely": "2",
                                    "Helyezés": "10"
                                },
                                {
                                    "Szoba azonosítója": "80",
                                    "Férőhely": "2",
                                    "Helyezés": "10"
                                },
                                {
                                    "Szoba azonosítója": "59",
                                    "Férőhely": "2",
                                    "Helyezés": "10"
                                },
                                {
                                    "Szoba azonosítója": "39",
                                    "Férőhely": "2",
                                    "Helyezés": "10"
                                },
                                {
                                    "Szoba azonosítója": "27",
                                    "Férőhely": "3",
                                    "Helyezés": "11"
                                },
                                {
                                    "Szoba azonosítója": "49",
                                    "Férőhely": "3",
                                    "Helyezés": "11"
                                },
                                {
                                    "Szoba azonosítója": "96",
                                    "Férőhely": "3",
                                    "Helyezés": "11"
                                },
                                {
                                    "Szoba azonosítója": "97",
                                    "Férőhely": "3",
                                    "Helyezés": "11"
                                },
                                {
                                    "Szoba azonosítója": "138",
                                    "Férőhely": "3",
                                    "Helyezés": "11"
                                },
                                {
                                    "Szoba azonosítója": "143",
                                    "Férőhely": "3",
                                    "Helyezés": "11"
                                },
                                {
                                    "Szoba azonosítója": "115",
                                    "Férőhely": "3",
                                    "Helyezés": "11"
                                },
                                {
                                    "Szoba azonosítója": "187",
                                    "Férőhely": "3",
                                    "Helyezés": "11"
                                },
                                {
                                    "Szoba azonosítója": "193",
                                    "Férőhely": "3",
                                    "Helyezés": "11"
                                },
                                {
                                    "Szoba azonosítója": "195",
                                    "Férőhely": "2",
                                    "Helyezés": "12"
                                },
                                {
                                    "Szoba azonosítója": "161",
                                    "Férőhely": "2",
                                    "Helyezés": "12"
                                },
                                {
                                    "Szoba azonosítója": "150",
                                    "Férőhely": "2",
                                    "Helyezés": "12"
                                },
                                {
                                    "Szoba azonosítója": "148",
                                    "Férőhely": "2",
                                    "Helyezés": "12"
                                },
                                {
                                    "Szoba azonosítója": "169",
                                    "Férőhely": "2",
                                    "Helyezés": "12"
                                },
                                {
                                    "Szoba azonosítója": "106",
                                    "Férőhely": "2",
                                    "Helyezés": "12"
                                },
                                {
                                    "Szoba azonosítója": "126",
                                    "Férőhely": "2",
                                    "Helyezés": "12"
                                },
                                {
                                    "Szoba azonosítója": "145",
                                    "Férőhely": "2",
                                    "Helyezés": "12"
                                },
                                {
                                    "Szoba azonosítója": "141",
                                    "Férőhely": "2",
                                    "Helyezés": "12"
                                },
                                {
                                    "Szoba azonosítója": "130",
                                    "Férőhely": "2",
                                    "Helyezés": "12"
                                },
                                {
                                    "Szoba azonosítója": "137",
                                    "Férőhely": "2",
                                    "Helyezés": "12"
                                },
                                {
                                    "Szoba azonosítója": "78",
                                    "Férőhely": "2",
                                    "Helyezés": "12"
                                },
                                {
                                    "Szoba azonosítója": "42",
                                    "Férőhely": "2",
                                    "Helyezés": "12"
                                },
                                {
                                    "Szoba azonosítója": "64",
                                    "Férőhely": "2",
                                    "Helyezés": "12"
                                },
                                {
                                    "Szoba azonosítója": "67",
                                    "Férőhely": "2",
                                    "Helyezés": "12"
                                },
                                {
                                    "Szoba azonosítója": "28",
                                    "Férőhely": "2",
                                    "Helyezés": "12"
                                },
                                {
                                    "Szoba azonosítója": "29",
                                    "Férőhely": "2",
                                    "Helyezés": "12"
                                },
                                {
                                    "Szoba azonosítója": "19",
                                    "Férőhely": "2",
                                    "Helyezés": "12"
                                },
                                {
                                    "Szoba azonosítója": "33",
                                    "Férőhely": "2",
                                    "Helyezés": "12"
                                },
                                {
                                    "Szoba azonosítója": "4",
                                    "Férőhely": "2",
                                    "Helyezés": "12"
                                },
                                {
                                    "Szoba azonosítója": "7",
                                    "Férőhely": "2",
                                    "Helyezés": "12"
                                },
                                {
                                    "Szoba azonosítója": "15",
                                    "Férőhely": "2",
                                    "Helyezés": "12"
                                },
                                {
                                    "Szoba azonosítója": "17",
                                    "Férőhely": "3",
                                    "Helyezés": "13"
                                },
                                {
                                    "Szoba azonosítója": "18",
                                    "Férőhely": "3",
                                    "Helyezés": "13"
                                },
                                {
                                    "Szoba azonosítója": "6",
                                    "Férőhely": "3",
                                    "Helyezés": "13"
                                },
                                {
                                    "Szoba azonosítója": "9",
                                    "Férőhely": "3",
                                    "Helyezés": "13"
                                },
                                {
                                    "Szoba azonosítója": "22",
                                    "Férőhely": "3",
                                    "Helyezés": "13"
                                },
                                {
                                    "Szoba azonosítója": "36",
                                    "Férőhely": "3",
                                    "Helyezés": "13"
                                },
                                {
                                    "Szoba azonosítója": "44",
                                    "Férőhely": "3",
                                    "Helyezés": "13"
                                },
                                {
                                    "Szoba azonosítója": "54",
                                    "Férőhely": "3",
                                    "Helyezés": "13"
                                },
                                {
                                    "Szoba azonosítója": "77",
                                    "Férőhely": "3",
                                    "Helyezés": "13"
                                },
                                {
                                    "Szoba azonosítója": "82",
                                    "Férőhely": "3",
                                    "Helyezés": "13"
                                },
                                {
                                    "Szoba azonosítója": "92",
                                    "Férőhely": "3",
                                    "Helyezés": "13"
                                },
                                {
                                    "Szoba azonosítója": "132",
                                    "Férőhely": "3",
                                    "Helyezés": "13"
                                },
                                {
                                    "Szoba azonosítója": "133",
                                    "Férőhely": "3",
                                    "Helyezés": "13"
                                },
                                {
                                    "Szoba azonosítója": "134",
                                    "Férőhely": "3",
                                    "Helyezés": "13"
                                },
                                {
                                    "Szoba azonosítója": "146",
                                    "Férőhely": "3",
                                    "Helyezés": "13"
                                },
                                {
                                    "Szoba azonosítója": "124",
                                    "Férőhely": "3",
                                    "Helyezés": "13"
                                },
                                {
                                    "Szoba azonosítója": "120",
                                    "Férőhely": "3",
                                    "Helyezés": "13"
                                },
                                {
                                    "Szoba azonosítója": "176",
                                    "Férőhely": "3",
                                    "Helyezés": "13"
                                },
                                {
                                    "Szoba azonosítója": "181",
                                    "Férőhely": "3",
                                    "Helyezés": "13"
                                },
                                {
                                    "Szoba azonosítója": "188",
                                    "Férőhely": "3",
                                    "Helyezés": "13"
                                },
                                {
                                    "Szoba azonosítója": "197",
                                    "Férőhely": "3",
                                    "Helyezés": "13"
                                },
                                {
                                    "Szoba azonosítója": "189",
                                    "Férőhely": "2",
                                    "Helyezés": "14"
                                },
                                {
                                    "Szoba azonosítója": "190",
                                    "Férőhely": "2",
                                    "Helyezés": "14"
                                },
                                {
                                    "Szoba azonosítója": "191",
                                    "Férőhely": "2",
                                    "Helyezés": "14"
                                },
                                {
                                    "Szoba azonosítója": "168",
                                    "Férőhely": "2",
                                    "Helyezés": "14"
                                },
                                {
                                    "Szoba azonosítója": "175",
                                    "Férőhely": "2",
                                    "Helyezés": "14"
                                },
                                {
                                    "Szoba azonosítója": "170",
                                    "Férőhely": "2",
                                    "Helyezés": "14"
                                },
                                {
                                    "Szoba azonosítója": "171",
                                    "Férőhely": "2",
                                    "Helyezés": "14"
                                },
                                {
                                    "Szoba azonosítója": "157",
                                    "Férőhely": "2",
                                    "Helyezés": "14"
                                },
                                {
                                    "Szoba azonosítója": "154",
                                    "Férőhely": "2",
                                    "Helyezés": "14"
                                },
                                {
                                    "Szoba azonosítója": "164",
                                    "Férőhely": "2",
                                    "Helyezés": "14"
                                },
                                {
                                    "Szoba azonosítója": "119",
                                    "Férőhely": "2",
                                    "Helyezés": "14"
                                },
                                {
                                    "Szoba azonosítója": "107",
                                    "Férőhely": "2",
                                    "Helyezés": "14"
                                },
                                {
                                    "Szoba azonosítója": "128",
                                    "Férőhely": "2",
                                    "Helyezés": "14"
                                },
                                {
                                    "Szoba azonosítója": "131",
                                    "Férőhely": "2",
                                    "Helyezés": "14"
                                },
                                {
                                    "Szoba azonosítója": "99",
                                    "Férőhely": "2",
                                    "Helyezés": "14"
                                },
                                {
                                    "Szoba azonosítója": "111",
                                    "Férőhely": "2",
                                    "Helyezés": "14"
                                },
                                {
                                    "Szoba azonosítója": "81",
                                    "Férőhely": "2",
                                    "Helyezés": "14"
                                },
                                {
                                    "Szoba azonosítója": "86",
                                    "Férőhely": "2",
                                    "Helyezés": "14"
                                },
                                {
                                    "Szoba azonosítója": "52",
                                    "Férőhely": "2",
                                    "Helyezés": "14"
                                },
                                {
                                    "Szoba azonosítója": "45",
                                    "Férőhely": "2",
                                    "Helyezés": "14"
                                },
                                {
                                    "Szoba azonosítója": "62",
                                    "Férőhely": "2",
                                    "Helyezés": "14"
                                },
                                {
                                    "Szoba azonosítója": "61",
                                    "Férőhely": "3",
                                    "Helyezés": "15"
                                },
                                {
                                    "Szoba azonosítója": "51",
                                    "Férőhely": "3",
                                    "Helyezés": "15"
                                },
                                {
                                    "Szoba azonosítója": "20",
                                    "Férőhely": "3",
                                    "Helyezés": "15"
                                },
                                {
                                    "Szoba azonosítója": "8",
                                    "Férőhely": "3",
                                    "Helyezés": "15"
                                },
                                {
                                    "Szoba azonosítója": "16",
                                    "Férőhely": "3",
                                    "Helyezés": "15"
                                },
                                {
                                    "Szoba azonosítója": "87",
                                    "Férőhely": "3",
                                    "Helyezés": "15"
                                },
                                {
                                    "Szoba azonosítója": "79",
                                    "Férőhely": "3",
                                    "Helyezés": "15"
                                },
                                {
                                    "Szoba azonosítója": "112",
                                    "Férőhely": "3",
                                    "Helyezés": "15"
                                },
                                {
                                    "Szoba azonosítója": "113",
                                    "Férőhely": "3",
                                    "Helyezés": "15"
                                },
                                {
                                    "Szoba azonosítója": "93",
                                    "Férőhely": "3",
                                    "Helyezés": "15"
                                },
                                {
                                    "Szoba azonosítója": "144",
                                    "Férőhely": "3",
                                    "Helyezés": "15"
                                },
                                {
                                    "Szoba azonosítója": "123",
                                    "Férőhely": "3",
                                    "Helyezés": "15"
                                },
                                {
                                    "Szoba azonosítója": "153",
                                    "Férőhely": "3",
                                    "Helyezés": "15"
                                },
                                {
                                    "Szoba azonosítója": "160",
                                    "Férőhely": "3",
                                    "Helyezés": "15"
                                },
                                {
                                    "Szoba azonosítója": "155",
                                    "Férőhely": "3",
                                    "Helyezés": "15"
                                },
                                {
                                    "Szoba azonosítója": "152",
                                    "Férőhely": "2",
                                    "Helyezés": "16"
                                },
                                {
                                    "Szoba azonosítója": "173",
                                    "Férőhely": "2",
                                    "Helyezés": "16"
                                },
                                {
                                    "Szoba azonosítója": "174",
                                    "Férőhely": "2",
                                    "Helyezés": "16"
                                },
                                {
                                    "Szoba azonosítója": "186",
                                    "Férőhely": "2",
                                    "Helyezés": "16"
                                },
                                {
                                    "Szoba azonosítója": "196",
                                    "Férőhely": "2",
                                    "Helyezés": "16"
                                },
                                {
                                    "Szoba azonosítója": "184",
                                    "Férőhely": "2",
                                    "Helyezés": "16"
                                },
                                {
                                    "Szoba azonosítója": "129",
                                    "Férőhely": "2",
                                    "Helyezés": "16"
                                },
                                {
                                    "Szoba azonosítója": "100",
                                    "Férőhely": "2",
                                    "Helyezés": "16"
                                },
                                {
                                    "Szoba azonosítója": "114",
                                    "Férőhely": "2",
                                    "Helyezés": "16"
                                },
                                {
                                    "Szoba azonosítója": "98",
                                    "Férőhely": "2",
                                    "Helyezés": "16"
                                },
                                {
                                    "Szoba azonosítója": "103",
                                    "Férőhely": "2",
                                    "Helyezés": "16"
                                },
                                {
                                    "Szoba azonosítója": "85",
                                    "Férőhely": "2",
                                    "Helyezés": "16"
                                },
                                {
                                    "Szoba azonosítója": "91",
                                    "Férőhely": "2",
                                    "Helyezés": "16"
                                },
                                {
                                    "Szoba azonosítója": "11",
                                    "Férőhely": "2",
                                    "Helyezés": "16"
                                },
                                {
                                    "Szoba azonosítója": "5",
                                    "Férőhely": "2",
                                    "Helyezés": "16"
                                },
                                {
                                    "Szoba azonosítója": "21",
                                    "Férőhely": "2",
                                    "Helyezés": "16"
                                },
                                {
                                    "Szoba azonosítója": "50",
                                    "Férőhely": "2",
                                    "Helyezés": "16"
                                },
                                {
                                    "Szoba azonosítója": "57",
                                    "Férőhely": "2",
                                    "Helyezés": "16"
                                },
                                {
                                    "Szoba azonosítója": "63",
                                    "Férőhely": "2",
                                    "Helyezés": "16"
                                },
                                {
                                    "Szoba azonosítója": "72",
                                    "Férőhely": "2",
                                    "Helyezés": "16"
                                },
                                {
                                    "Szoba azonosítója": "73",
                                    "Férőhely": "2",
                                    "Helyezés": "16"
                                },
                                {
                                    "Szoba azonosítója": "66",
                                    "Férőhely": "3",
                                    "Helyezés": "17"
                                },
                                {
                                    "Szoba azonosítója": "69",
                                    "Férőhely": "3",
                                    "Helyezés": "17"
                                },
                                {
                                    "Szoba azonosítója": "46",
                                    "Férőhely": "3",
                                    "Helyezés": "17"
                                },
                                {
                                    "Szoba azonosítója": "34",
                                    "Férőhely": "3",
                                    "Helyezés": "17"
                                },
                                {
                                    "Szoba azonosítója": "40",
                                    "Férőhely": "3",
                                    "Helyezés": "17"
                                },
                                {
                                    "Szoba azonosítója": "2",
                                    "Férőhely": "3",
                                    "Helyezés": "17"
                                },
                                {
                                    "Szoba azonosítója": "10",
                                    "Férőhely": "3",
                                    "Helyezés": "17"
                                },
                                {
                                    "Szoba azonosítója": "13",
                                    "Férőhely": "3",
                                    "Helyezés": "17"
                                },
                                {
                                    "Szoba azonosítója": "90",
                                    "Férőhely": "3",
                                    "Helyezés": "17"
                                },
                                {
                                    "Szoba azonosítója": "84",
                                    "Férőhely": "3",
                                    "Helyezés": "17"
                                },
                                {
                                    "Szoba azonosítója": "104",
                                    "Férőhely": "3",
                                    "Helyezés": "17"
                                },
                                {
                                    "Szoba azonosítója": "95",
                                    "Férőhely": "3",
                                    "Helyezés": "17"
                                },
                                {
                                    "Szoba azonosítója": "183",
                                    "Férőhely": "3",
                                    "Helyezés": "17"
                                },
                                {
                                    "Szoba azonosítója": "177",
                                    "Férőhely": "3",
                                    "Helyezés": "17"
                                },
                                {
                                    "Szoba azonosítója": "178",
                                    "Férőhely": "3",
                                    "Helyezés": "17"
                                },
                                {
                                    "Szoba azonosítója": "180",
                                    "Férőhely": "2",
                                    "Helyezés": "18"
                                },
                                {
                                    "Szoba azonosítója": "151",
                                    "Férőhely": "2",
                                    "Helyezés": "18"
                                },
                                {
                                    "Szoba azonosítója": "158",
                                    "Férőhely": "2",
                                    "Helyezés": "18"
                                },
                                {
                                    "Szoba azonosítója": "166",
                                    "Férőhely": "2",
                                    "Helyezés": "18"
                                },
                                {
                                    "Szoba azonosítója": "101",
                                    "Férőhely": "2",
                                    "Helyezés": "18"
                                },
                                {
                                    "Szoba azonosítója": "75",
                                    "Férőhely": "2",
                                    "Helyezés": "18"
                                },
                                {
                                    "Szoba azonosítója": "76",
                                    "Férőhely": "2",
                                    "Helyezés": "18"
                                },
                                {
                                    "Szoba azonosítója": "136",
                                    "Férőhely": "2",
                                    "Helyezés": "18"
                                },
                                {
                                    "Szoba azonosítója": "23",
                                    "Férőhely": "2",
                                    "Helyezés": "18"
                                },
                                {
                                    "Szoba azonosítója": "37",
                                    "Férőhely": "2",
                                    "Helyezés": "18"
                                },
                                {
                                    "Szoba azonosítója": "68",
                                    "Férőhely": "2",
                                    "Helyezés": "18"
                                },
                                {
                                    "Szoba azonosítója": "71",
                                    "Férőhely": "3",
                                    "Helyezés": "19"
                                },
                                {
                                    "Szoba azonosítója": "30",
                                    "Férőhely": "3",
                                    "Helyezés": "19"
                                },
                                {
                                    "Szoba azonosítója": "31",
                                    "Férőhely": "3",
                                    "Helyezés": "19"
                                },
                                {
                                    "Szoba azonosítója": "14",
                                    "Férőhely": "3",
                                    "Helyezés": "19"
                                },
                                {
                                    "Szoba azonosítója": "135",
                                    "Férőhely": "3",
                                    "Helyezés": "19"
                                },
                                {
                                    "Szoba azonosítója": "162",
                                    "Férőhely": "3",
                                    "Helyezés": "19"
                                },
                                {
                                    "Szoba azonosítója": "179",
                                    "Férőhely": "3",
                                    "Helyezés": "19"
                                },
                                {
                                    "Szoba azonosítója": "24",
                                    "Férőhely": "4",
                                    "Helyezés": "20"
                                },
                                {
                                    "Szoba azonosítója": "26",
                                    "Férőhely": "2",
                                    "Helyezés": "21"
                                },
                                {
                                    "Szoba azonosítója": "47",
                                    "Férőhely": "2",
                                    "Helyezés": "21"
                                },
                                {
                                    "Szoba azonosítója": "53",
                                    "Férőhely": "2",
                                    "Helyezés": "21"
                                },
                                {
                                    "Szoba azonosítója": "56",
                                    "Férőhely": "2",
                                    "Helyezés": "21"
                                },
                                {
                                    "Szoba azonosítója": "108",
                                    "Férőhely": "2",
                                    "Helyezés": "21"
                                },
                                {
                                    "Szoba azonosítója": "102",
                                    "Férőhely": "2",
                                    "Helyezés": "21"
                                },
                                {
                                    "Szoba azonosítója": "105",
                                    "Férőhely": "2",
                                    "Helyezés": "21"
                                },
                                {
                                    "Szoba azonosítója": "192",
                                    "Férőhely": "2",
                                    "Helyezés": "21"
                                },
                                {
                                    "Szoba azonosítója": "167",
                                    "Férőhely": "3",
                                    "Helyezés": "22"
                                },
                                {
                                    "Szoba azonosítója": "116",
                                    "Férőhely": "3",
                                    "Helyezés": "22"
                                },
                                {
                                    "Szoba azonosítója": "142",
                                    "Férőhely": "3",
                                    "Helyezés": "22"
                                },
                                {
                                    "Szoba azonosítója": "25",
                                    "Férőhely": "3",
                                    "Helyezés": "22"
                                },
                                {
                                    "Szoba azonosítója": "41",
                                    "Férőhely": "3",
                                    "Helyezés": "22"
                                },
                                {
                                    "Szoba azonosítója": "32",
                                    "Férőhely": "2",
                                    "Helyezés": "23"
                                },
                                {
                                    "Szoba azonosítója": "65",
                                    "Férőhely": "2",
                                    "Helyezés": "23"
                                },
                                {
                                    "Szoba azonosítója": "147",
                                    "Férőhely": "2",
                                    "Helyezés": "23"
                                },
                                {
                                    "Szoba azonosítója": "125",
                                    "Férőhely": "2",
                                    "Helyezés": "23"
                                },
                                {
                                    "Szoba azonosítója": "194",
                                    "Férőhely": "2",
                                    "Helyezés": "23"
                                },
                                {
                                    "Szoba azonosítója": "60",
                                    "Férőhely": "3",
                                    "Helyezés": "24"
                                }
                            ]
                        },
                        "text/html": [
                            "<table>",
                            "<tr><th>Szoba azonosítója</th><th>Férőhely</th><th>Helyezés</th></tr>",
                            "<tr><td>58</td><td>2</td><td>1</td></tr>",
                            "<tr><td>182</td><td>2</td><td>2</td></tr>",
                            "<tr><td>185</td><td>3</td><td>3</td></tr>",
                            "<tr><td>70</td><td>2</td><td>4</td></tr>",
                            "<tr><td>94</td><td>2</td><td>5</td></tr>",
                            "<tr><td>12</td><td>2</td><td>6</td></tr>",
                            "<tr><td>172</td><td>2</td><td>6</td></tr>",
                            "<tr><td>35</td><td>3</td><td>7</td></tr>",
                            "<tr><td>48</td><td>3</td><td>7</td></tr>",
                            "<tr><td>74</td><td>3</td><td>7</td></tr>",
                            "<tr><td>122</td><td>3</td><td>7</td></tr>",
                            "<tr><td>121</td><td>2</td><td>8</td></tr>",
                            "<tr><td>140</td><td>2</td><td>8</td></tr>",
                            "<tr><td>110</td><td>2</td><td>8</td></tr>",
                            "<tr><td>55</td><td>2</td><td>8</td></tr>",
                            "<tr><td>38</td><td>2</td><td>8</td></tr>",
                            "<tr><td>1</td><td>3</td><td>9</td></tr>",
                            "<tr><td>3</td><td>3</td><td>9</td></tr>",
                            "<tr><td>43</td><td>3</td><td>9</td></tr>",
                            "<tr><td>83</td><td>3</td><td>9</td></tr>",
                            "<tr><td>88</td><td>3</td><td>9</td></tr>",
                            "<tr><td>89</td><td>3</td><td>9</td></tr>",
                            "<tr><td>117</td><td>3</td><td>9</td></tr>",
                            "<tr><td>198</td><td>3</td><td>9</td></tr>",
                            "<tr><td>149</td><td>2</td><td>10</td></tr>",
                            "<tr><td>156</td><td>2</td><td>10</td></tr>",
                            "<tr><td>163</td><td>2</td><td>10</td></tr>",
                            "<tr><td>165</td><td>2</td><td>10</td></tr>",
                            "<tr><td>118</td><td>2</td><td>10</td></tr>",
                            "<tr><td>109</td><td>2</td><td>10</td></tr>",
                            "<tr><td>127</td><td>2</td><td>10</td></tr>",
                            "<tr><td>139</td><td>2</td><td>10</td></tr>",
                            "<tr><td>80</td><td>2</td><td>10</td></tr>",
                            "<tr><td>59</td><td>2</td><td>10</td></tr>",
                            "<tr><td>39</td><td>2</td><td>10</td></tr>",
                            "<tr><td>27</td><td>3</td><td>11</td></tr>",
                            "<tr><td>49</td><td>3</td><td>11</td></tr>",
                            "<tr><td>96</td><td>3</td><td>11</td></tr>",
                            "<tr><td>97</td><td>3</td><td>11</td></tr>",
                            "<tr><td>138</td><td>3</td><td>11</td></tr>",
                            "<tr><td>143</td><td>3</td><td>11</td></tr>",
                            "<tr><td>115</td><td>3</td><td>11</td></tr>",
                            "<tr><td>187</td><td>3</td><td>11</td></tr>",
                            "<tr><td>193</td><td>3</td><td>11</td></tr>",
                            "<tr><td>195</td><td>2</td><td>12</td></tr>",
                            "<tr><td>161</td><td>2</td><td>12</td></tr>",
                            "<tr><td>150</td><td>2</td><td>12</td></tr>",
                            "<tr><td>148</td><td>2</td><td>12</td></tr>",
                            "<tr><td>169</td><td>2</td><td>12</td></tr>",
                            "<tr><td>106</td><td>2</td><td>12</td></tr>",
                            "<tr><td>126</td><td>2</td><td>12</td></tr>",
                            "<tr><td>145</td><td>2</td><td>12</td></tr>",
                            "<tr><td>141</td><td>2</td><td>12</td></tr>",
                            "<tr><td>130</td><td>2</td><td>12</td></tr>",
                            "<tr><td>137</td><td>2</td><td>12</td></tr>",
                            "<tr><td>78</td><td>2</td><td>12</td></tr>",
                            "<tr><td>42</td><td>2</td><td>12</td></tr>",
                            "<tr><td>64</td><td>2</td><td>12</td></tr>",
                            "<tr><td>67</td><td>2</td><td>12</td></tr>",
                            "<tr><td>28</td><td>2</td><td>12</td></tr>",
                            "<tr><td>29</td><td>2</td><td>12</td></tr>",
                            "<tr><td>19</td><td>2</td><td>12</td></tr>",
                            "<tr><td>33</td><td>2</td><td>12</td></tr>",
                            "<tr><td>4</td><td>2</td><td>12</td></tr>",
                            "<tr><td>7</td><td>2</td><td>12</td></tr>",
                            "<tr><td>15</td><td>2</td><td>12</td></tr>",
                            "<tr><td>17</td><td>3</td><td>13</td></tr>",
                            "<tr><td>18</td><td>3</td><td>13</td></tr>",
                            "<tr><td>6</td><td>3</td><td>13</td></tr>",
                            "<tr><td>9</td><td>3</td><td>13</td></tr>",
                            "<tr><td>22</td><td>3</td><td>13</td></tr>",
                            "<tr><td>36</td><td>3</td><td>13</td></tr>",
                            "<tr><td>44</td><td>3</td><td>13</td></tr>",
                            "<tr><td>54</td><td>3</td><td>13</td></tr>",
                            "<tr><td>77</td><td>3</td><td>13</td></tr>",
                            "<tr><td>82</td><td>3</td><td>13</td></tr>",
                            "<tr><td>92</td><td>3</td><td>13</td></tr>",
                            "<tr><td>132</td><td>3</td><td>13</td></tr>",
                            "<tr><td>133</td><td>3</td><td>13</td></tr>",
                            "<tr><td>134</td><td>3</td><td>13</td></tr>",
                            "<tr><td>146</td><td>3</td><td>13</td></tr>",
                            "<tr><td>124</td><td>3</td><td>13</td></tr>",
                            "<tr><td>120</td><td>3</td><td>13</td></tr>",
                            "<tr><td>176</td><td>3</td><td>13</td></tr>",
                            "<tr><td>181</td><td>3</td><td>13</td></tr>",
                            "<tr><td>188</td><td>3</td><td>13</td></tr>",
                            "<tr><td>197</td><td>3</td><td>13</td></tr>",
                            "<tr><td>189</td><td>2</td><td>14</td></tr>",
                            "<tr><td>190</td><td>2</td><td>14</td></tr>",
                            "<tr><td>191</td><td>2</td><td>14</td></tr>",
                            "<tr><td>168</td><td>2</td><td>14</td></tr>",
                            "<tr><td>175</td><td>2</td><td>14</td></tr>",
                            "<tr><td>170</td><td>2</td><td>14</td></tr>",
                            "<tr><td>171</td><td>2</td><td>14</td></tr>",
                            "<tr><td>157</td><td>2</td><td>14</td></tr>",
                            "<tr><td>154</td><td>2</td><td>14</td></tr>",
                            "<tr><td>164</td><td>2</td><td>14</td></tr>",
                            "<tr><td>119</td><td>2</td><td>14</td></tr>",
                            "<tr><td>107</td><td>2</td><td>14</td></tr>",
                            "<tr><td>128</td><td>2</td><td>14</td></tr>",
                            "<tr><td>131</td><td>2</td><td>14</td></tr>",
                            "<tr><td>99</td><td>2</td><td>14</td></tr>",
                            "<tr><td>111</td><td>2</td><td>14</td></tr>",
                            "<tr><td>81</td><td>2</td><td>14</td></tr>",
                            "<tr><td>86</td><td>2</td><td>14</td></tr>",
                            "<tr><td>52</td><td>2</td><td>14</td></tr>",
                            "<tr><td>45</td><td>2</td><td>14</td></tr>",
                            "<tr><td>62</td><td>2</td><td>14</td></tr>",
                            "<tr><td>61</td><td>3</td><td>15</td></tr>",
                            "<tr><td>51</td><td>3</td><td>15</td></tr>",
                            "<tr><td>20</td><td>3</td><td>15</td></tr>",
                            "<tr><td>8</td><td>3</td><td>15</td></tr>",
                            "<tr><td>16</td><td>3</td><td>15</td></tr>",
                            "<tr><td>87</td><td>3</td><td>15</td></tr>",
                            "<tr><td>79</td><td>3</td><td>15</td></tr>",
                            "<tr><td>112</td><td>3</td><td>15</td></tr>",
                            "<tr><td>113</td><td>3</td><td>15</td></tr>",
                            "<tr><td>93</td><td>3</td><td>15</td></tr>",
                            "<tr><td>144</td><td>3</td><td>15</td></tr>",
                            "<tr><td>123</td><td>3</td><td>15</td></tr>",
                            "<tr><td>153</td><td>3</td><td>15</td></tr>",
                            "<tr><td>160</td><td>3</td><td>15</td></tr>",
                            "<tr><td>155</td><td>3</td><td>15</td></tr>",
                            "<tr><td>152</td><td>2</td><td>16</td></tr>",
                            "<tr><td>173</td><td>2</td><td>16</td></tr>",
                            "<tr><td>174</td><td>2</td><td>16</td></tr>",
                            "<tr><td>186</td><td>2</td><td>16</td></tr>",
                            "<tr><td>196</td><td>2</td><td>16</td></tr>",
                            "<tr><td>184</td><td>2</td><td>16</td></tr>",
                            "<tr><td>129</td><td>2</td><td>16</td></tr>",
                            "<tr><td>100</td><td>2</td><td>16</td></tr>",
                            "<tr><td>114</td><td>2</td><td>16</td></tr>",
                            "<tr><td>98</td><td>2</td><td>16</td></tr>",
                            "<tr><td>103</td><td>2</td><td>16</td></tr>",
                            "<tr><td>85</td><td>2</td><td>16</td></tr>",
                            "<tr><td>91</td><td>2</td><td>16</td></tr>",
                            "<tr><td>11</td><td>2</td><td>16</td></tr>",
                            "<tr><td>5</td><td>2</td><td>16</td></tr>",
                            "<tr><td>21</td><td>2</td><td>16</td></tr>",
                            "<tr><td>50</td><td>2</td><td>16</td></tr>",
                            "<tr><td>57</td><td>2</td><td>16</td></tr>",
                            "<tr><td>63</td><td>2</td><td>16</td></tr>",
                            "<tr><td>72</td><td>2</td><td>16</td></tr>",
                            "<tr><td>73</td><td>2</td><td>16</td></tr>",
                            "<tr><td>66</td><td>3</td><td>17</td></tr>",
                            "<tr><td>69</td><td>3</td><td>17</td></tr>",
                            "<tr><td>46</td><td>3</td><td>17</td></tr>",
                            "<tr><td>34</td><td>3</td><td>17</td></tr>",
                            "<tr><td>40</td><td>3</td><td>17</td></tr>",
                            "<tr><td>2</td><td>3</td><td>17</td></tr>",
                            "<tr><td>10</td><td>3</td><td>17</td></tr>",
                            "<tr><td>13</td><td>3</td><td>17</td></tr>",
                            "<tr><td>90</td><td>3</td><td>17</td></tr>",
                            "<tr><td>84</td><td>3</td><td>17</td></tr>",
                            "<tr><td>104</td><td>3</td><td>17</td></tr>",
                            "<tr><td>95</td><td>3</td><td>17</td></tr>",
                            "<tr><td>183</td><td>3</td><td>17</td></tr>",
                            "<tr><td>177</td><td>3</td><td>17</td></tr>",
                            "<tr><td>178</td><td>3</td><td>17</td></tr>",
                            "<tr><td>180</td><td>2</td><td>18</td></tr>",
                            "<tr><td>151</td><td>2</td><td>18</td></tr>",
                            "<tr><td>158</td><td>2</td><td>18</td></tr>",
                            "<tr><td>166</td><td>2</td><td>18</td></tr>",
                            "<tr><td>101</td><td>2</td><td>18</td></tr>",
                            "<tr><td>75</td><td>2</td><td>18</td></tr>",
                            "<tr><td>76</td><td>2</td><td>18</td></tr>",
                            "<tr><td>136</td><td>2</td><td>18</td></tr>",
                            "<tr><td>23</td><td>2</td><td>18</td></tr>",
                            "<tr><td>37</td><td>2</td><td>18</td></tr>",
                            "<tr><td>68</td><td>2</td><td>18</td></tr>",
                            "<tr><td>71</td><td>3</td><td>19</td></tr>",
                            "<tr><td>30</td><td>3</td><td>19</td></tr>",
                            "<tr><td>31</td><td>3</td><td>19</td></tr>",
                            "<tr><td>14</td><td>3</td><td>19</td></tr>",
                            "<tr><td>135</td><td>3</td><td>19</td></tr>",
                            "<tr><td>162</td><td>3</td><td>19</td></tr>",
                            "<tr><td>179</td><td>3</td><td>19</td></tr>",
                            "<tr><td>24</td><td>4</td><td>20</td></tr>",
                            "<tr><td>26</td><td>2</td><td>21</td></tr>",
                            "<tr><td>47</td><td>2</td><td>21</td></tr>",
                            "<tr><td>53</td><td>2</td><td>21</td></tr>",
                            "<tr><td>56</td><td>2</td><td>21</td></tr>",
                            "<tr><td>108</td><td>2</td><td>21</td></tr>",
                            "<tr><td>102</td><td>2</td><td>21</td></tr>",
                            "<tr><td>105</td><td>2</td><td>21</td></tr>",
                            "<tr><td>192</td><td>2</td><td>21</td></tr>",
                            "<tr><td>167</td><td>3</td><td>22</td></tr>",
                            "<tr><td>116</td><td>3</td><td>22</td></tr>",
                            "<tr><td>142</td><td>3</td><td>22</td></tr>",
                            "<tr><td>25</td><td>3</td><td>22</td></tr>",
                            "<tr><td>41</td><td>3</td><td>22</td></tr>",
                            "<tr><td>32</td><td>2</td><td>23</td></tr>",
                            "<tr><td>65</td><td>2</td><td>23</td></tr>",
                            "<tr><td>147</td><td>2</td><td>23</td></tr>",
                            "<tr><td>125</td><td>2</td><td>23</td></tr>",
                            "<tr><td>194</td><td>2</td><td>23</td></tr>",
                            "<tr><td>60</td><td>3</td><td>24</td></tr>",
                            "</table>"
                        ]
                    }
                }
            ],
            "execution_count": 17
        },
        {
            "cell_type": "code",
            "source": [
                "-- Második feladat\r\n",
                "SELECT IIF(SZOBA_FK IS NULL, 'Végösszeg', CAST(SZOBA_FK AS nvarchar(4))) AS 'Szoba azonosítója',\r\n",
                "       CASE GROUPING_ID(SZOBA_FK, YEAR(METTOL))\r\n",
                "       WHEN 1 THEN 'Részösszeg'\r\n",
                "       WHEN 3 THEN 'Végösszeg'\r\n",
                "       ELSE CAST(YEAR(METTOL) AS nvarchar(4))\r\n",
                "       END AS 'Foglalás éve',\r\n",
                "       COUNT(*) AS 'Foglalások száma'\r\n",
                "FROM Foglalas\r\n",
                "GROUP BY ROLLUP(SZOBA_FK, YEAR(METTOL))"
            ],
            "metadata": {
                "azdata_cell_guid": "ae36f179-6e65-4cd4-9d04-f754cda1666d",
                "language": "sql"
            },
            "outputs": [
                {
                    "output_type": "display_data",
                    "data": {
                        "text/html": "(513 rows affected)"
                    },
                    "metadata": {}
                },
                {
                    "output_type": "display_data",
                    "data": {
                        "text/html": "Total execution time: 00:00:00.017"
                    },
                    "metadata": {}
                },
                {
                    "output_type": "execute_result",
                    "metadata": {},
                    "execution_count": 11,
                    "data": {
                        "application/vnd.dataresource+json": {
                            "schema": {
                                "fields": [
                                    {
                                        "name": "Szoba azonosítója"
                                    },
                                    {
                                        "name": "Foglalás éve"
                                    },
                                    {
                                        "name": "Foglalások száma"
                                    }
                                ]
                            },
                            "data": [
                                {
                                    "Szoba azonosítója": "1",
                                    "Foglalás éve": "2016",
                                    "Foglalások száma": "8"
                                },
                                {
                                    "Szoba azonosítója": "1",
                                    "Foglalás éve": "Részösszeg",
                                    "Foglalások száma": "8"
                                },
                                {
                                    "Szoba azonosítója": "2",
                                    "Foglalás éve": "2016",
                                    "Foglalások száma": "4"
                                },
                                {
                                    "Szoba azonosítója": "2",
                                    "Foglalás éve": "Részösszeg",
                                    "Foglalások száma": "4"
                                },
                                {
                                    "Szoba azonosítója": "3",
                                    "Foglalás éve": "2016",
                                    "Foglalások száma": "6"
                                },
                                {
                                    "Szoba azonosítója": "3",
                                    "Foglalás éve": "2017",
                                    "Foglalások száma": "2"
                                },
                                {
                                    "Szoba azonosítója": "3",
                                    "Foglalás éve": "Részösszeg",
                                    "Foglalások száma": "8"
                                },
                                {
                                    "Szoba azonosítója": "4",
                                    "Foglalás éve": "2016",
                                    "Foglalások száma": "5"
                                },
                                {
                                    "Szoba azonosítója": "4",
                                    "Foglalás éve": "2017",
                                    "Foglalások száma": "1"
                                },
                                {
                                    "Szoba azonosítója": "4",
                                    "Foglalás éve": "Részösszeg",
                                    "Foglalások száma": "6"
                                },
                                {
                                    "Szoba azonosítója": "5",
                                    "Foglalás éve": "2016",
                                    "Foglalások száma": "4"
                                },
                                {
                                    "Szoba azonosítója": "5",
                                    "Foglalás éve": "Részösszeg",
                                    "Foglalások száma": "4"
                                },
                                {
                                    "Szoba azonosítója": "6",
                                    "Foglalás éve": "2016",
                                    "Foglalások száma": "6"
                                },
                                {
                                    "Szoba azonosítója": "6",
                                    "Foglalás éve": "Részösszeg",
                                    "Foglalások száma": "6"
                                },
                                {
                                    "Szoba azonosítója": "7",
                                    "Foglalás éve": "2016",
                                    "Foglalások száma": "6"
                                },
                                {
                                    "Szoba azonosítója": "7",
                                    "Foglalás éve": "Részösszeg",
                                    "Foglalások száma": "6"
                                },
                                {
                                    "Szoba azonosítója": "8",
                                    "Foglalás éve": "2016",
                                    "Foglalások száma": "5"
                                },
                                {
                                    "Szoba azonosítója": "8",
                                    "Foglalás éve": "Részösszeg",
                                    "Foglalások száma": "5"
                                },
                                {
                                    "Szoba azonosítója": "9",
                                    "Foglalás éve": "2016",
                                    "Foglalások száma": "4"
                                },
                                {
                                    "Szoba azonosítója": "9",
                                    "Foglalás éve": "2017",
                                    "Foglalások száma": "2"
                                },
                                {
                                    "Szoba azonosítója": "9",
                                    "Foglalás éve": "Részösszeg",
                                    "Foglalások száma": "6"
                                },
                                {
                                    "Szoba azonosítója": "10",
                                    "Foglalás éve": "2016",
                                    "Foglalások száma": "4"
                                },
                                {
                                    "Szoba azonosítója": "10",
                                    "Foglalás éve": "Részösszeg",
                                    "Foglalások száma": "4"
                                },
                                {
                                    "Szoba azonosítója": "11",
                                    "Foglalás éve": "2016",
                                    "Foglalások száma": "3"
                                },
                                {
                                    "Szoba azonosítója": "11",
                                    "Foglalás éve": "2017",
                                    "Foglalások száma": "1"
                                },
                                {
                                    "Szoba azonosítója": "11",
                                    "Foglalás éve": "Részösszeg",
                                    "Foglalások száma": "4"
                                },
                                {
                                    "Szoba azonosítója": "12",
                                    "Foglalás éve": "2016",
                                    "Foglalások száma": "8"
                                },
                                {
                                    "Szoba azonosítója": "12",
                                    "Foglalás éve": "2017",
                                    "Foglalások száma": "1"
                                },
                                {
                                    "Szoba azonosítója": "12",
                                    "Foglalás éve": "Részösszeg",
                                    "Foglalások száma": "9"
                                },
                                {
                                    "Szoba azonosítója": "13",
                                    "Foglalás éve": "2016",
                                    "Foglalások száma": "3"
                                },
                                {
                                    "Szoba azonosítója": "13",
                                    "Foglalás éve": "2017",
                                    "Foglalások száma": "1"
                                },
                                {
                                    "Szoba azonosítója": "13",
                                    "Foglalás éve": "Részösszeg",
                                    "Foglalások száma": "4"
                                },
                                {
                                    "Szoba azonosítója": "14",
                                    "Foglalás éve": "2016",
                                    "Foglalások száma": "2"
                                },
                                {
                                    "Szoba azonosítója": "14",
                                    "Foglalás éve": "2017",
                                    "Foglalások száma": "1"
                                },
                                {
                                    "Szoba azonosítója": "14",
                                    "Foglalás éve": "Részösszeg",
                                    "Foglalások száma": "3"
                                },
                                {
                                    "Szoba azonosítója": "15",
                                    "Foglalás éve": "2016",
                                    "Foglalások száma": "4"
                                },
                                {
                                    "Szoba azonosítója": "15",
                                    "Foglalás éve": "2017",
                                    "Foglalások száma": "2"
                                },
                                {
                                    "Szoba azonosítója": "15",
                                    "Foglalás éve": "Részösszeg",
                                    "Foglalások száma": "6"
                                },
                                {
                                    "Szoba azonosítója": "16",
                                    "Foglalás éve": "2016",
                                    "Foglalások száma": "4"
                                },
                                {
                                    "Szoba azonosítója": "16",
                                    "Foglalás éve": "2017",
                                    "Foglalások száma": "1"
                                },
                                {
                                    "Szoba azonosítója": "16",
                                    "Foglalás éve": "Részösszeg",
                                    "Foglalások száma": "5"
                                },
                                {
                                    "Szoba azonosítója": "17",
                                    "Foglalás éve": "2016",
                                    "Foglalások száma": "5"
                                },
                                {
                                    "Szoba azonosítója": "17",
                                    "Foglalás éve": "2017",
                                    "Foglalások száma": "1"
                                },
                                {
                                    "Szoba azonosítója": "17",
                                    "Foglalás éve": "Részösszeg",
                                    "Foglalások száma": "6"
                                },
                                {
                                    "Szoba azonosítója": "18",
                                    "Foglalás éve": "2016",
                                    "Foglalások száma": "5"
                                },
                                {
                                    "Szoba azonosítója": "18",
                                    "Foglalás éve": "2017",
                                    "Foglalások száma": "1"
                                },
                                {
                                    "Szoba azonosítója": "18",
                                    "Foglalás éve": "Részösszeg",
                                    "Foglalások száma": "6"
                                },
                                {
                                    "Szoba azonosítója": "19",
                                    "Foglalás éve": "2016",
                                    "Foglalások száma": "5"
                                },
                                {
                                    "Szoba azonosítója": "19",
                                    "Foglalás éve": "2017",
                                    "Foglalások száma": "1"
                                },
                                {
                                    "Szoba azonosítója": "19",
                                    "Foglalás éve": "Részösszeg",
                                    "Foglalások száma": "6"
                                },
                                {
                                    "Szoba azonosítója": "20",
                                    "Foglalás éve": "2016",
                                    "Foglalások száma": "5"
                                },
                                {
                                    "Szoba azonosítója": "20",
                                    "Foglalás éve": "Részösszeg",
                                    "Foglalások száma": "5"
                                },
                                {
                                    "Szoba azonosítója": "21",
                                    "Foglalás éve": "2016",
                                    "Foglalások száma": "4"
                                },
                                {
                                    "Szoba azonosítója": "21",
                                    "Foglalás éve": "Részösszeg",
                                    "Foglalások száma": "4"
                                },
                                {
                                    "Szoba azonosítója": "22",
                                    "Foglalás éve": "2016",
                                    "Foglalások száma": "6"
                                },
                                {
                                    "Szoba azonosítója": "22",
                                    "Foglalás éve": "Részösszeg",
                                    "Foglalások száma": "6"
                                },
                                {
                                    "Szoba azonosítója": "23",
                                    "Foglalás éve": "2016",
                                    "Foglalások száma": "3"
                                },
                                {
                                    "Szoba azonosítója": "23",
                                    "Foglalás éve": "Részösszeg",
                                    "Foglalások száma": "3"
                                },
                                {
                                    "Szoba azonosítója": "24",
                                    "Foglalás éve": "2016",
                                    "Foglalások száma": "2"
                                },
                                {
                                    "Szoba azonosítója": "24",
                                    "Foglalás éve": "2017",
                                    "Foglalások száma": "1"
                                },
                                {
                                    "Szoba azonosítója": "24",
                                    "Foglalás éve": "Részösszeg",
                                    "Foglalások száma": "3"
                                },
                                {
                                    "Szoba azonosítója": "25",
                                    "Foglalás éve": "2016",
                                    "Foglalások száma": "2"
                                },
                                {
                                    "Szoba azonosítója": "25",
                                    "Foglalás éve": "Részösszeg",
                                    "Foglalások száma": "2"
                                },
                                {
                                    "Szoba azonosítója": "26",
                                    "Foglalás éve": "2016",
                                    "Foglalások száma": "2"
                                },
                                {
                                    "Szoba azonosítója": "26",
                                    "Foglalás éve": "Részösszeg",
                                    "Foglalások száma": "2"
                                },
                                {
                                    "Szoba azonosítója": "27",
                                    "Foglalás éve": "2016",
                                    "Foglalások száma": "6"
                                },
                                {
                                    "Szoba azonosítója": "27",
                                    "Foglalás éve": "2017",
                                    "Foglalások száma": "1"
                                },
                                {
                                    "Szoba azonosítója": "27",
                                    "Foglalás éve": "Részösszeg",
                                    "Foglalások száma": "7"
                                },
                                {
                                    "Szoba azonosítója": "28",
                                    "Foglalás éve": "2016",
                                    "Foglalások száma": "5"
                                },
                                {
                                    "Szoba azonosítója": "28",
                                    "Foglalás éve": "2017",
                                    "Foglalások száma": "1"
                                },
                                {
                                    "Szoba azonosítója": "28",
                                    "Foglalás éve": "Részösszeg",
                                    "Foglalások száma": "6"
                                },
                                {
                                    "Szoba azonosítója": "29",
                                    "Foglalás éve": "2016",
                                    "Foglalások száma": "5"
                                },
                                {
                                    "Szoba azonosítója": "29",
                                    "Foglalás éve": "2017",
                                    "Foglalások száma": "1"
                                },
                                {
                                    "Szoba azonosítója": "29",
                                    "Foglalás éve": "Részösszeg",
                                    "Foglalások száma": "6"
                                },
                                {
                                    "Szoba azonosítója": "30",
                                    "Foglalás éve": "2016",
                                    "Foglalások száma": "3"
                                },
                                {
                                    "Szoba azonosítója": "30",
                                    "Foglalás éve": "Részösszeg",
                                    "Foglalások száma": "3"
                                },
                                {
                                    "Szoba azonosítója": "31",
                                    "Foglalás éve": "2016",
                                    "Foglalások száma": "3"
                                },
                                {
                                    "Szoba azonosítója": "31",
                                    "Foglalás éve": "Részösszeg",
                                    "Foglalások száma": "3"
                                },
                                {
                                    "Szoba azonosítója": "32",
                                    "Foglalás éve": "2016",
                                    "Foglalások száma": "1"
                                },
                                {
                                    "Szoba azonosítója": "32",
                                    "Foglalás éve": "Részösszeg",
                                    "Foglalások száma": "1"
                                },
                                {
                                    "Szoba azonosítója": "33",
                                    "Foglalás éve": "2016",
                                    "Foglalások száma": "6"
                                },
                                {
                                    "Szoba azonosítója": "33",
                                    "Foglalás éve": "Részösszeg",
                                    "Foglalások száma": "6"
                                },
                                {
                                    "Szoba azonosítója": "34",
                                    "Foglalás éve": "2016",
                                    "Foglalások száma": "4"
                                },
                                {
                                    "Szoba azonosítója": "34",
                                    "Foglalás éve": "Részösszeg",
                                    "Foglalások száma": "4"
                                },
                                {
                                    "Szoba azonosítója": "35",
                                    "Foglalás éve": "2016",
                                    "Foglalások száma": "6"
                                },
                                {
                                    "Szoba azonosítója": "35",
                                    "Foglalás éve": "2017",
                                    "Foglalások száma": "3"
                                },
                                {
                                    "Szoba azonosítója": "35",
                                    "Foglalás éve": "Részösszeg",
                                    "Foglalások száma": "9"
                                },
                                {
                                    "Szoba azonosítója": "36",
                                    "Foglalás éve": "2016",
                                    "Foglalások száma": "6"
                                },
                                {
                                    "Szoba azonosítója": "36",
                                    "Foglalás éve": "Részösszeg",
                                    "Foglalások száma": "6"
                                },
                                {
                                    "Szoba azonosítója": "37",
                                    "Foglalás éve": "2016",
                                    "Foglalások száma": "3"
                                },
                                {
                                    "Szoba azonosítója": "37",
                                    "Foglalás éve": "Részösszeg",
                                    "Foglalások száma": "3"
                                },
                                {
                                    "Szoba azonosítója": "38",
                                    "Foglalás éve": "2016",
                                    "Foglalások száma": "5"
                                },
                                {
                                    "Szoba azonosítója": "38",
                                    "Foglalás éve": "2017",
                                    "Foglalások száma": "3"
                                },
                                {
                                    "Szoba azonosítója": "38",
                                    "Foglalás éve": "Részösszeg",
                                    "Foglalások száma": "8"
                                },
                                {
                                    "Szoba azonosítója": "39",
                                    "Foglalás éve": "2016",
                                    "Foglalások száma": "4"
                                },
                                {
                                    "Szoba azonosítója": "39",
                                    "Foglalás éve": "2017",
                                    "Foglalások száma": "3"
                                },
                                {
                                    "Szoba azonosítója": "39",
                                    "Foglalás éve": "Részösszeg",
                                    "Foglalások száma": "7"
                                },
                                {
                                    "Szoba azonosítója": "40",
                                    "Foglalás éve": "2016",
                                    "Foglalások száma": "4"
                                },
                                {
                                    "Szoba azonosítója": "40",
                                    "Foglalás éve": "Részösszeg",
                                    "Foglalások száma": "4"
                                },
                                {
                                    "Szoba azonosítója": "41",
                                    "Foglalás éve": "2016",
                                    "Foglalások száma": "2"
                                },
                                {
                                    "Szoba azonosítója": "41",
                                    "Foglalás éve": "Részösszeg",
                                    "Foglalások száma": "2"
                                },
                                {
                                    "Szoba azonosítója": "42",
                                    "Foglalás éve": "2016",
                                    "Foglalások száma": "5"
                                },
                                {
                                    "Szoba azonosítója": "42",
                                    "Foglalás éve": "2017",
                                    "Foglalások száma": "1"
                                },
                                {
                                    "Szoba azonosítója": "42",
                                    "Foglalás éve": "Részösszeg",
                                    "Foglalások száma": "6"
                                },
                                {
                                    "Szoba azonosítója": "43",
                                    "Foglalás éve": "2016",
                                    "Foglalások száma": "6"
                                },
                                {
                                    "Szoba azonosítója": "43",
                                    "Foglalás éve": "2017",
                                    "Foglalások száma": "2"
                                },
                                {
                                    "Szoba azonosítója": "43",
                                    "Foglalás éve": "Részösszeg",
                                    "Foglalások száma": "8"
                                },
                                {
                                    "Szoba azonosítója": "44",
                                    "Foglalás éve": "2016",
                                    "Foglalások száma": "4"
                                },
                                {
                                    "Szoba azonosítója": "44",
                                    "Foglalás éve": "2017",
                                    "Foglalások száma": "2"
                                },
                                {
                                    "Szoba azonosítója": "44",
                                    "Foglalás éve": "Részösszeg",
                                    "Foglalások száma": "6"
                                },
                                {
                                    "Szoba azonosítója": "45",
                                    "Foglalás éve": "2016",
                                    "Foglalások száma": "5"
                                },
                                {
                                    "Szoba azonosítója": "45",
                                    "Foglalás éve": "Részösszeg",
                                    "Foglalások száma": "5"
                                },
                                {
                                    "Szoba azonosítója": "46",
                                    "Foglalás éve": "2016",
                                    "Foglalások száma": "3"
                                },
                                {
                                    "Szoba azonosítója": "46",
                                    "Foglalás éve": "2017",
                                    "Foglalások száma": "1"
                                },
                                {
                                    "Szoba azonosítója": "46",
                                    "Foglalás éve": "Részösszeg",
                                    "Foglalások száma": "4"
                                },
                                {
                                    "Szoba azonosítója": "47",
                                    "Foglalás éve": "2016",
                                    "Foglalások száma": "2"
                                },
                                {
                                    "Szoba azonosítója": "47",
                                    "Foglalás éve": "Részösszeg",
                                    "Foglalások száma": "2"
                                },
                                {
                                    "Szoba azonosítója": "48",
                                    "Foglalás éve": "2016",
                                    "Foglalások száma": "6"
                                },
                                {
                                    "Szoba azonosítója": "48",
                                    "Foglalás éve": "2017",
                                    "Foglalások száma": "3"
                                },
                                {
                                    "Szoba azonosítója": "48",
                                    "Foglalás éve": "Részösszeg",
                                    "Foglalások száma": "9"
                                },
                                {
                                    "Szoba azonosítója": "49",
                                    "Foglalás éve": "2016",
                                    "Foglalások száma": "6"
                                },
                                {
                                    "Szoba azonosítója": "49",
                                    "Foglalás éve": "2017",
                                    "Foglalások száma": "1"
                                },
                                {
                                    "Szoba azonosítója": "49",
                                    "Foglalás éve": "Részösszeg",
                                    "Foglalások száma": "7"
                                },
                                {
                                    "Szoba azonosítója": "50",
                                    "Foglalás éve": "2016",
                                    "Foglalások száma": "4"
                                },
                                {
                                    "Szoba azonosítója": "50",
                                    "Foglalás éve": "Részösszeg",
                                    "Foglalások száma": "4"
                                },
                                {
                                    "Szoba azonosítója": "51",
                                    "Foglalás éve": "2016",
                                    "Foglalások száma": "3"
                                },
                                {
                                    "Szoba azonosítója": "51",
                                    "Foglalás éve": "2017",
                                    "Foglalások száma": "2"
                                },
                                {
                                    "Szoba azonosítója": "51",
                                    "Foglalás éve": "Részösszeg",
                                    "Foglalások száma": "5"
                                },
                                {
                                    "Szoba azonosítója": "52",
                                    "Foglalás éve": "2016",
                                    "Foglalások száma": "3"
                                },
                                {
                                    "Szoba azonosítója": "52",
                                    "Foglalás éve": "2017",
                                    "Foglalások száma": "2"
                                },
                                {
                                    "Szoba azonosítója": "52",
                                    "Foglalás éve": "Részösszeg",
                                    "Foglalások száma": "5"
                                },
                                {
                                    "Szoba azonosítója": "53",
                                    "Foglalás éve": "2016",
                                    "Foglalások száma": "2"
                                },
                                {
                                    "Szoba azonosítója": "53",
                                    "Foglalás éve": "Részösszeg",
                                    "Foglalások száma": "2"
                                },
                                {
                                    "Szoba azonosítója": "54",
                                    "Foglalás éve": "2016",
                                    "Foglalások száma": "6"
                                },
                                {
                                    "Szoba azonosítója": "54",
                                    "Foglalás éve": "Részösszeg",
                                    "Foglalások száma": "6"
                                },
                                {
                                    "Szoba azonosítója": "55",
                                    "Foglalás éve": "2016",
                                    "Foglalások száma": "6"
                                },
                                {
                                    "Szoba azonosítója": "55",
                                    "Foglalás éve": "2017",
                                    "Foglalások száma": "2"
                                },
                                {
                                    "Szoba azonosítója": "55",
                                    "Foglalás éve": "Részösszeg",
                                    "Foglalások száma": "8"
                                },
                                {
                                    "Szoba azonosítója": "56",
                                    "Foglalás éve": "2016",
                                    "Foglalások száma": "2"
                                },
                                {
                                    "Szoba azonosítója": "56",
                                    "Foglalás éve": "Részösszeg",
                                    "Foglalások száma": "2"
                                },
                                {
                                    "Szoba azonosítója": "57",
                                    "Foglalás éve": "2016",
                                    "Foglalások száma": "2"
                                },
                                {
                                    "Szoba azonosítója": "57",
                                    "Foglalás éve": "2017",
                                    "Foglalások száma": "2"
                                },
                                {
                                    "Szoba azonosítója": "57",
                                    "Foglalás éve": "Részösszeg",
                                    "Foglalások száma": "4"
                                },
                                {
                                    "Szoba azonosítója": "58",
                                    "Foglalás éve": "2016",
                                    "Foglalások száma": "12"
                                },
                                {
                                    "Szoba azonosítója": "58",
                                    "Foglalás éve": "2017",
                                    "Foglalások száma": "1"
                                },
                                {
                                    "Szoba azonosítója": "58",
                                    "Foglalás éve": "Részösszeg",
                                    "Foglalások száma": "13"
                                },
                                {
                                    "Szoba azonosítója": "59",
                                    "Foglalás éve": "2016",
                                    "Foglalások száma": "6"
                                },
                                {
                                    "Szoba azonosítója": "59",
                                    "Foglalás éve": "2017",
                                    "Foglalások száma": "1"
                                },
                                {
                                    "Szoba azonosítója": "59",
                                    "Foglalás éve": "Részösszeg",
                                    "Foglalások száma": "7"
                                },
                                {
                                    "Szoba azonosítója": "60",
                                    "Foglalás éve": "2016",
                                    "Foglalások száma": "1"
                                },
                                {
                                    "Szoba azonosítója": "60",
                                    "Foglalás éve": "Részösszeg",
                                    "Foglalások száma": "1"
                                },
                                {
                                    "Szoba azonosítója": "61",
                                    "Foglalás éve": "2016",
                                    "Foglalások száma": "4"
                                },
                                {
                                    "Szoba azonosítója": "61",
                                    "Foglalás éve": "2017",
                                    "Foglalások száma": "1"
                                },
                                {
                                    "Szoba azonosítója": "61",
                                    "Foglalás éve": "Részösszeg",
                                    "Foglalások száma": "5"
                                },
                                {
                                    "Szoba azonosítója": "62",
                                    "Foglalás éve": "2016",
                                    "Foglalások száma": "4"
                                },
                                {
                                    "Szoba azonosítója": "62",
                                    "Foglalás éve": "2017",
                                    "Foglalások száma": "1"
                                },
                                {
                                    "Szoba azonosítója": "62",
                                    "Foglalás éve": "Részösszeg",
                                    "Foglalások száma": "5"
                                },
                                {
                                    "Szoba azonosítója": "63",
                                    "Foglalás éve": "2016",
                                    "Foglalások száma": "4"
                                },
                                {
                                    "Szoba azonosítója": "63",
                                    "Foglalás éve": "Részösszeg",
                                    "Foglalások száma": "4"
                                },
                                {
                                    "Szoba azonosítója": "64",
                                    "Foglalás éve": "2016",
                                    "Foglalások száma": "3"
                                },
                                {
                                    "Szoba azonosítója": "64",
                                    "Foglalás éve": "2017",
                                    "Foglalások száma": "3"
                                },
                                {
                                    "Szoba azonosítója": "64",
                                    "Foglalás éve": "Részösszeg",
                                    "Foglalások száma": "6"
                                },
                                {
                                    "Szoba azonosítója": "65",
                                    "Foglalás éve": "2016",
                                    "Foglalások száma": "1"
                                },
                                {
                                    "Szoba azonosítója": "65",
                                    "Foglalás éve": "Részösszeg",
                                    "Foglalások száma": "1"
                                },
                                {
                                    "Szoba azonosítója": "66",
                                    "Foglalás éve": "2016",
                                    "Foglalások száma": "4"
                                },
                                {
                                    "Szoba azonosítója": "66",
                                    "Foglalás éve": "Részösszeg",
                                    "Foglalások száma": "4"
                                },
                                {
                                    "Szoba azonosítója": "67",
                                    "Foglalás éve": "2016",
                                    "Foglalások száma": "4"
                                },
                                {
                                    "Szoba azonosítója": "67",
                                    "Foglalás éve": "2017",
                                    "Foglalások száma": "2"
                                },
                                {
                                    "Szoba azonosítója": "67",
                                    "Foglalás éve": "Részösszeg",
                                    "Foglalások száma": "6"
                                },
                                {
                                    "Szoba azonosítója": "68",
                                    "Foglalás éve": "2016",
                                    "Foglalások száma": "3"
                                },
                                {
                                    "Szoba azonosítója": "68",
                                    "Foglalás éve": "Részösszeg",
                                    "Foglalások száma": "3"
                                },
                                {
                                    "Szoba azonosítója": "69",
                                    "Foglalás éve": "2016",
                                    "Foglalások száma": "4"
                                },
                                {
                                    "Szoba azonosítója": "69",
                                    "Foglalás éve": "Részösszeg",
                                    "Foglalások száma": "4"
                                },
                                {
                                    "Szoba azonosítója": "70",
                                    "Foglalás éve": "2016",
                                    "Foglalások száma": "10"
                                },
                                {
                                    "Szoba azonosítója": "70",
                                    "Foglalás éve": "2017",
                                    "Foglalások száma": "1"
                                },
                                {
                                    "Szoba azonosítója": "70",
                                    "Foglalás éve": "Részösszeg",
                                    "Foglalások száma": "11"
                                },
                                {
                                    "Szoba azonosítója": "71",
                                    "Foglalás éve": "2016",
                                    "Foglalások száma": "3"
                                },
                                {
                                    "Szoba azonosítója": "71",
                                    "Foglalás éve": "Részösszeg",
                                    "Foglalások száma": "3"
                                },
                                {
                                    "Szoba azonosítója": "72",
                                    "Foglalás éve": "2016",
                                    "Foglalások száma": "4"
                                },
                                {
                                    "Szoba azonosítója": "72",
                                    "Foglalás éve": "Részösszeg",
                                    "Foglalások száma": "4"
                                },
                                {
                                    "Szoba azonosítója": "73",
                                    "Foglalás éve": "2016",
                                    "Foglalások száma": "4"
                                },
                                {
                                    "Szoba azonosítója": "73",
                                    "Foglalás éve": "Részösszeg",
                                    "Foglalások száma": "4"
                                },
                                {
                                    "Szoba azonosítója": "74",
                                    "Foglalás éve": "2016",
                                    "Foglalások száma": "9"
                                },
                                {
                                    "Szoba azonosítója": "74",
                                    "Foglalás éve": "Részösszeg",
                                    "Foglalások száma": "9"
                                },
                                {
                                    "Szoba azonosítója": "75",
                                    "Foglalás éve": "2016",
                                    "Foglalások száma": "1"
                                },
                                {
                                    "Szoba azonosítója": "75",
                                    "Foglalás éve": "2017",
                                    "Foglalások száma": "2"
                                },
                                {
                                    "Szoba azonosítója": "75",
                                    "Foglalás éve": "Részösszeg",
                                    "Foglalások száma": "3"
                                },
                                {
                                    "Szoba azonosítója": "76",
                                    "Foglalás éve": "2016",
                                    "Foglalások száma": "2"
                                },
                                {
                                    "Szoba azonosítója": "76",
                                    "Foglalás éve": "2017",
                                    "Foglalások száma": "1"
                                },
                                {
                                    "Szoba azonosítója": "76",
                                    "Foglalás éve": "Részösszeg",
                                    "Foglalások száma": "3"
                                },
                                {
                                    "Szoba azonosítója": "77",
                                    "Foglalás éve": "2016",
                                    "Foglalások száma": "4"
                                },
                                {
                                    "Szoba azonosítója": "77",
                                    "Foglalás éve": "2017",
                                    "Foglalások száma": "2"
                                },
                                {
                                    "Szoba azonosítója": "77",
                                    "Foglalás éve": "Részösszeg",
                                    "Foglalások száma": "6"
                                },
                                {
                                    "Szoba azonosítója": "78",
                                    "Foglalás éve": "2016",
                                    "Foglalások száma": "5"
                                },
                                {
                                    "Szoba azonosítója": "78",
                                    "Foglalás éve": "2017",
                                    "Foglalások száma": "1"
                                },
                                {
                                    "Szoba azonosítója": "78",
                                    "Foglalás éve": "Részösszeg",
                                    "Foglalások száma": "6"
                                },
                                {
                                    "Szoba azonosítója": "79",
                                    "Foglalás éve": "2016",
                                    "Foglalások száma": "4"
                                },
                                {
                                    "Szoba azonosítója": "79",
                                    "Foglalás éve": "2017",
                                    "Foglalások száma": "1"
                                },
                                {
                                    "Szoba azonosítója": "79",
                                    "Foglalás éve": "Részösszeg",
                                    "Foglalások száma": "5"
                                },
                                {
                                    "Szoba azonosítója": "80",
                                    "Foglalás éve": "2016",
                                    "Foglalások száma": "7"
                                },
                                {
                                    "Szoba azonosítója": "80",
                                    "Foglalás éve": "Részösszeg",
                                    "Foglalások száma": "7"
                                },
                                {
                                    "Szoba azonosítója": "81",
                                    "Foglalás éve": "2016",
                                    "Foglalások száma": "1"
                                },
                                {
                                    "Szoba azonosítója": "81",
                                    "Foglalás éve": "2017",
                                    "Foglalások száma": "4"
                                },
                                {
                                    "Szoba azonosítója": "81",
                                    "Foglalás éve": "Részösszeg",
                                    "Foglalások száma": "5"
                                },
                                {
                                    "Szoba azonosítója": "82",
                                    "Foglalás éve": "2016",
                                    "Foglalások száma": "6"
                                },
                                {
                                    "Szoba azonosítója": "82",
                                    "Foglalás éve": "Részösszeg",
                                    "Foglalások száma": "6"
                                },
                                {
                                    "Szoba azonosítója": "83",
                                    "Foglalás éve": "2016",
                                    "Foglalások száma": "8"
                                },
                                {
                                    "Szoba azonosítója": "83",
                                    "Foglalás éve": "Részösszeg",
                                    "Foglalások száma": "8"
                                },
                                {
                                    "Szoba azonosítója": "84",
                                    "Foglalás éve": "2016",
                                    "Foglalások száma": "4"
                                },
                                {
                                    "Szoba azonosítója": "84",
                                    "Foglalás éve": "Részösszeg",
                                    "Foglalások száma": "4"
                                },
                                {
                                    "Szoba azonosítója": "85",
                                    "Foglalás éve": "2016",
                                    "Foglalások száma": "3"
                                },
                                {
                                    "Szoba azonosítója": "85",
                                    "Foglalás éve": "2017",
                                    "Foglalások száma": "1"
                                },
                                {
                                    "Szoba azonosítója": "85",
                                    "Foglalás éve": "Részösszeg",
                                    "Foglalások száma": "4"
                                },
                                {
                                    "Szoba azonosítója": "86",
                                    "Foglalás éve": "2016",
                                    "Foglalások száma": "4"
                                },
                                {
                                    "Szoba azonosítója": "86",
                                    "Foglalás éve": "2017",
                                    "Foglalások száma": "1"
                                },
                                {
                                    "Szoba azonosítója": "86",
                                    "Foglalás éve": "Részösszeg",
                                    "Foglalások száma": "5"
                                },
                                {
                                    "Szoba azonosítója": "87",
                                    "Foglalás éve": "2016",
                                    "Foglalások száma": "4"
                                },
                                {
                                    "Szoba azonosítója": "87",
                                    "Foglalás éve": "2017",
                                    "Foglalások száma": "1"
                                },
                                {
                                    "Szoba azonosítója": "87",
                                    "Foglalás éve": "Részösszeg",
                                    "Foglalások száma": "5"
                                },
                                {
                                    "Szoba azonosítója": "88",
                                    "Foglalás éve": "2016",
                                    "Foglalások száma": "6"
                                },
                                {
                                    "Szoba azonosítója": "88",
                                    "Foglalás éve": "2017",
                                    "Foglalások száma": "2"
                                },
                                {
                                    "Szoba azonosítója": "88",
                                    "Foglalás éve": "Részösszeg",
                                    "Foglalások száma": "8"
                                },
                                {
                                    "Szoba azonosítója": "89",
                                    "Foglalás éve": "2016",
                                    "Foglalások száma": "7"
                                },
                                {
                                    "Szoba azonosítója": "89",
                                    "Foglalás éve": "2017",
                                    "Foglalások száma": "1"
                                },
                                {
                                    "Szoba azonosítója": "89",
                                    "Foglalás éve": "Részösszeg",
                                    "Foglalások száma": "8"
                                },
                                {
                                    "Szoba azonosítója": "90",
                                    "Foglalás éve": "2016",
                                    "Foglalások száma": "4"
                                },
                                {
                                    "Szoba azonosítója": "90",
                                    "Foglalás éve": "Részösszeg",
                                    "Foglalások száma": "4"
                                },
                                {
                                    "Szoba azonosítója": "91",
                                    "Foglalás éve": "2016",
                                    "Foglalások száma": "4"
                                },
                                {
                                    "Szoba azonosítója": "91",
                                    "Foglalás éve": "Részösszeg",
                                    "Foglalások száma": "4"
                                },
                                {
                                    "Szoba azonosítója": "92",
                                    "Foglalás éve": "2016",
                                    "Foglalások száma": "4"
                                },
                                {
                                    "Szoba azonosítója": "92",
                                    "Foglalás éve": "2017",
                                    "Foglalások száma": "2"
                                },
                                {
                                    "Szoba azonosítója": "92",
                                    "Foglalás éve": "Részösszeg",
                                    "Foglalások száma": "6"
                                },
                                {
                                    "Szoba azonosítója": "93",
                                    "Foglalás éve": "2016",
                                    "Foglalások száma": "5"
                                },
                                {
                                    "Szoba azonosítója": "93",
                                    "Foglalás éve": "Részösszeg",
                                    "Foglalások száma": "5"
                                },
                                {
                                    "Szoba azonosítója": "94",
                                    "Foglalás éve": "2016",
                                    "Foglalások száma": "8"
                                },
                                {
                                    "Szoba azonosítója": "94",
                                    "Foglalás éve": "2017",
                                    "Foglalások száma": "2"
                                },
                                {
                                    "Szoba azonosítója": "94",
                                    "Foglalás éve": "Részösszeg",
                                    "Foglalások száma": "10"
                                },
                                {
                                    "Szoba azonosítója": "95",
                                    "Foglalás éve": "2016",
                                    "Foglalások száma": "3"
                                },
                                {
                                    "Szoba azonosítója": "95",
                                    "Foglalás éve": "2017",
                                    "Foglalások száma": "1"
                                },
                                {
                                    "Szoba azonosítója": "95",
                                    "Foglalás éve": "Részösszeg",
                                    "Foglalások száma": "4"
                                },
                                {
                                    "Szoba azonosítója": "96",
                                    "Foglalás éve": "2016",
                                    "Foglalások száma": "5"
                                },
                                {
                                    "Szoba azonosítója": "96",
                                    "Foglalás éve": "2017",
                                    "Foglalások száma": "2"
                                },
                                {
                                    "Szoba azonosítója": "96",
                                    "Foglalás éve": "Részösszeg",
                                    "Foglalások száma": "7"
                                },
                                {
                                    "Szoba azonosítója": "97",
                                    "Foglalás éve": "2016",
                                    "Foglalások száma": "5"
                                },
                                {
                                    "Szoba azonosítója": "97",
                                    "Foglalás éve": "2017",
                                    "Foglalások száma": "2"
                                },
                                {
                                    "Szoba azonosítója": "97",
                                    "Foglalás éve": "Részösszeg",
                                    "Foglalások száma": "7"
                                },
                                {
                                    "Szoba azonosítója": "98",
                                    "Foglalás éve": "2016",
                                    "Foglalások száma": "4"
                                },
                                {
                                    "Szoba azonosítója": "98",
                                    "Foglalás éve": "Részösszeg",
                                    "Foglalások száma": "4"
                                },
                                {
                                    "Szoba azonosítója": "99",
                                    "Foglalás éve": "2016",
                                    "Foglalások száma": "4"
                                },
                                {
                                    "Szoba azonosítója": "99",
                                    "Foglalás éve": "2017",
                                    "Foglalások száma": "1"
                                },
                                {
                                    "Szoba azonosítója": "99",
                                    "Foglalás éve": "Részösszeg",
                                    "Foglalások száma": "5"
                                },
                                {
                                    "Szoba azonosítója": "100",
                                    "Foglalás éve": "2016",
                                    "Foglalások száma": "3"
                                },
                                {
                                    "Szoba azonosítója": "100",
                                    "Foglalás éve": "2017",
                                    "Foglalások száma": "1"
                                },
                                {
                                    "Szoba azonosítója": "100",
                                    "Foglalás éve": "Részösszeg",
                                    "Foglalások száma": "4"
                                },
                                {
                                    "Szoba azonosítója": "101",
                                    "Foglalás éve": "2016",
                                    "Foglalások száma": "2"
                                },
                                {
                                    "Szoba azonosítója": "101",
                                    "Foglalás éve": "2017",
                                    "Foglalások száma": "1"
                                },
                                {
                                    "Szoba azonosítója": "101",
                                    "Foglalás éve": "Részösszeg",
                                    "Foglalások száma": "3"
                                },
                                {
                                    "Szoba azonosítója": "102",
                                    "Foglalás éve": "2016",
                                    "Foglalások száma": "2"
                                },
                                {
                                    "Szoba azonosítója": "102",
                                    "Foglalás éve": "Részösszeg",
                                    "Foglalások száma": "2"
                                },
                                {
                                    "Szoba azonosítója": "103",
                                    "Foglalás éve": "2016",
                                    "Foglalások száma": "3"
                                },
                                {
                                    "Szoba azonosítója": "103",
                                    "Foglalás éve": "2017",
                                    "Foglalások száma": "1"
                                },
                                {
                                    "Szoba azonosítója": "103",
                                    "Foglalás éve": "Részösszeg",
                                    "Foglalások száma": "4"
                                },
                                {
                                    "Szoba azonosítója": "104",
                                    "Foglalás éve": "2016",
                                    "Foglalások száma": "2"
                                },
                                {
                                    "Szoba azonosítója": "104",
                                    "Foglalás éve": "2017",
                                    "Foglalások száma": "2"
                                },
                                {
                                    "Szoba azonosítója": "104",
                                    "Foglalás éve": "Részösszeg",
                                    "Foglalások száma": "4"
                                },
                                {
                                    "Szoba azonosítója": "105",
                                    "Foglalás éve": "2016",
                                    "Foglalások száma": "1"
                                },
                                {
                                    "Szoba azonosítója": "105",
                                    "Foglalás éve": "2017",
                                    "Foglalások száma": "1"
                                },
                                {
                                    "Szoba azonosítója": "105",
                                    "Foglalás éve": "Részösszeg",
                                    "Foglalások száma": "2"
                                },
                                {
                                    "Szoba azonosítója": "106",
                                    "Foglalás éve": "2016",
                                    "Foglalások száma": "5"
                                },
                                {
                                    "Szoba azonosítója": "106",
                                    "Foglalás éve": "2017",
                                    "Foglalások száma": "1"
                                },
                                {
                                    "Szoba azonosítója": "106",
                                    "Foglalás éve": "Részösszeg",
                                    "Foglalások száma": "6"
                                },
                                {
                                    "Szoba azonosítója": "107",
                                    "Foglalás éve": "2016",
                                    "Foglalások száma": "3"
                                },
                                {
                                    "Szoba azonosítója": "107",
                                    "Foglalás éve": "2017",
                                    "Foglalások száma": "2"
                                },
                                {
                                    "Szoba azonosítója": "107",
                                    "Foglalás éve": "Részösszeg",
                                    "Foglalások száma": "5"
                                },
                                {
                                    "Szoba azonosítója": "108",
                                    "Foglalás éve": "2016",
                                    "Foglalások száma": "2"
                                },
                                {
                                    "Szoba azonosítója": "108",
                                    "Foglalás éve": "Részösszeg",
                                    "Foglalások száma": "2"
                                },
                                {
                                    "Szoba azonosítója": "109",
                                    "Foglalás éve": "2016",
                                    "Foglalások száma": "6"
                                },
                                {
                                    "Szoba azonosítója": "109",
                                    "Foglalás éve": "2017",
                                    "Foglalások száma": "1"
                                },
                                {
                                    "Szoba azonosítója": "109",
                                    "Foglalás éve": "Részösszeg",
                                    "Foglalások száma": "7"
                                },
                                {
                                    "Szoba azonosítója": "110",
                                    "Foglalás éve": "2016",
                                    "Foglalások száma": "6"
                                },
                                {
                                    "Szoba azonosítója": "110",
                                    "Foglalás éve": "2017",
                                    "Foglalások száma": "2"
                                },
                                {
                                    "Szoba azonosítója": "110",
                                    "Foglalás éve": "Részösszeg",
                                    "Foglalások száma": "8"
                                },
                                {
                                    "Szoba azonosítója": "111",
                                    "Foglalás éve": "2016",
                                    "Foglalások száma": "5"
                                },
                                {
                                    "Szoba azonosítója": "111",
                                    "Foglalás éve": "Részösszeg",
                                    "Foglalások száma": "5"
                                },
                                {
                                    "Szoba azonosítója": "112",
                                    "Foglalás éve": "2016",
                                    "Foglalások száma": "4"
                                },
                                {
                                    "Szoba azonosítója": "112",
                                    "Foglalás éve": "2017",
                                    "Foglalások száma": "1"
                                },
                                {
                                    "Szoba azonosítója": "112",
                                    "Foglalás éve": "Részösszeg",
                                    "Foglalások száma": "5"
                                },
                                {
                                    "Szoba azonosítója": "113",
                                    "Foglalás éve": "2016",
                                    "Foglalások száma": "3"
                                },
                                {
                                    "Szoba azonosítója": "113",
                                    "Foglalás éve": "2017",
                                    "Foglalások száma": "2"
                                },
                                {
                                    "Szoba azonosítója": "113",
                                    "Foglalás éve": "Részösszeg",
                                    "Foglalások száma": "5"
                                },
                                {
                                    "Szoba azonosítója": "114",
                                    "Foglalás éve": "2016",
                                    "Foglalások száma": "3"
                                },
                                {
                                    "Szoba azonosítója": "114",
                                    "Foglalás éve": "2017",
                                    "Foglalások száma": "1"
                                },
                                {
                                    "Szoba azonosítója": "114",
                                    "Foglalás éve": "Részösszeg",
                                    "Foglalások száma": "4"
                                },
                                {
                                    "Szoba azonosítója": "115",
                                    "Foglalás éve": "2016",
                                    "Foglalások száma": "5"
                                },
                                {
                                    "Szoba azonosítója": "115",
                                    "Foglalás éve": "2017",
                                    "Foglalások száma": "2"
                                },
                                {
                                    "Szoba azonosítója": "115",
                                    "Foglalás éve": "Részösszeg",
                                    "Foglalások száma": "7"
                                },
                                {
                                    "Szoba azonosítója": "116",
                                    "Foglalás éve": "2017",
                                    "Foglalások száma": "2"
                                },
                                {
                                    "Szoba azonosítója": "116",
                                    "Foglalás éve": "Részösszeg",
                                    "Foglalások száma": "2"
                                },
                                {
                                    "Szoba azonosítója": "117",
                                    "Foglalás éve": "2016",
                                    "Foglalások száma": "7"
                                },
                                {
                                    "Szoba azonosítója": "117",
                                    "Foglalás éve": "2017",
                                    "Foglalások száma": "1"
                                },
                                {
                                    "Szoba azonosítója": "117",
                                    "Foglalás éve": "Részösszeg",
                                    "Foglalások száma": "8"
                                },
                                {
                                    "Szoba azonosítója": "118",
                                    "Foglalás éve": "2016",
                                    "Foglalások száma": "5"
                                },
                                {
                                    "Szoba azonosítója": "118",
                                    "Foglalás éve": "2017",
                                    "Foglalások száma": "2"
                                },
                                {
                                    "Szoba azonosítója": "118",
                                    "Foglalás éve": "Részösszeg",
                                    "Foglalások száma": "7"
                                },
                                {
                                    "Szoba azonosítója": "119",
                                    "Foglalás éve": "2016",
                                    "Foglalások száma": "3"
                                },
                                {
                                    "Szoba azonosítója": "119",
                                    "Foglalás éve": "2017",
                                    "Foglalások száma": "2"
                                },
                                {
                                    "Szoba azonosítója": "119",
                                    "Foglalás éve": "Részösszeg",
                                    "Foglalások száma": "5"
                                },
                                {
                                    "Szoba azonosítója": "120",
                                    "Foglalás éve": "2016",
                                    "Foglalások száma": "4"
                                },
                                {
                                    "Szoba azonosítója": "120",
                                    "Foglalás éve": "2017",
                                    "Foglalások száma": "2"
                                },
                                {
                                    "Szoba azonosítója": "120",
                                    "Foglalás éve": "Részösszeg",
                                    "Foglalások száma": "6"
                                },
                                {
                                    "Szoba azonosítója": "121",
                                    "Foglalás éve": "2016",
                                    "Foglalások száma": "8"
                                },
                                {
                                    "Szoba azonosítója": "121",
                                    "Foglalás éve": "Részösszeg",
                                    "Foglalások száma": "8"
                                },
                                {
                                    "Szoba azonosítója": "122",
                                    "Foglalás éve": "2016",
                                    "Foglalások száma": "8"
                                },
                                {
                                    "Szoba azonosítója": "122",
                                    "Foglalás éve": "2017",
                                    "Foglalások száma": "1"
                                },
                                {
                                    "Szoba azonosítója": "122",
                                    "Foglalás éve": "Részösszeg",
                                    "Foglalások száma": "9"
                                },
                                {
                                    "Szoba azonosítója": "123",
                                    "Foglalás éve": "2016",
                                    "Foglalások száma": "5"
                                },
                                {
                                    "Szoba azonosítója": "123",
                                    "Foglalás éve": "Részösszeg",
                                    "Foglalások száma": "5"
                                },
                                {
                                    "Szoba azonosítója": "124",
                                    "Foglalás éve": "2016",
                                    "Foglalások száma": "4"
                                },
                                {
                                    "Szoba azonosítója": "124",
                                    "Foglalás éve": "2017",
                                    "Foglalások száma": "2"
                                },
                                {
                                    "Szoba azonosítója": "124",
                                    "Foglalás éve": "Részösszeg",
                                    "Foglalások száma": "6"
                                },
                                {
                                    "Szoba azonosítója": "125",
                                    "Foglalás éve": "2016",
                                    "Foglalások száma": "1"
                                },
                                {
                                    "Szoba azonosítója": "125",
                                    "Foglalás éve": "Részösszeg",
                                    "Foglalások száma": "1"
                                },
                                {
                                    "Szoba azonosítója": "126",
                                    "Foglalás éve": "2016",
                                    "Foglalások száma": "4"
                                },
                                {
                                    "Szoba azonosítója": "126",
                                    "Foglalás éve": "2017",
                                    "Foglalások száma": "2"
                                },
                                {
                                    "Szoba azonosítója": "126",
                                    "Foglalás éve": "Részösszeg",
                                    "Foglalások száma": "6"
                                },
                                {
                                    "Szoba azonosítója": "127",
                                    "Foglalás éve": "2016",
                                    "Foglalások száma": "6"
                                },
                                {
                                    "Szoba azonosítója": "127",
                                    "Foglalás éve": "2017",
                                    "Foglalások száma": "1"
                                },
                                {
                                    "Szoba azonosítója": "127",
                                    "Foglalás éve": "Részösszeg",
                                    "Foglalások száma": "7"
                                },
                                {
                                    "Szoba azonosítója": "128",
                                    "Foglalás éve": "2016",
                                    "Foglalások száma": "3"
                                },
                                {
                                    "Szoba azonosítója": "128",
                                    "Foglalás éve": "2017",
                                    "Foglalások száma": "2"
                                },
                                {
                                    "Szoba azonosítója": "128",
                                    "Foglalás éve": "Részösszeg",
                                    "Foglalások száma": "5"
                                },
                                {
                                    "Szoba azonosítója": "129",
                                    "Foglalás éve": "2016",
                                    "Foglalások száma": "2"
                                },
                                {
                                    "Szoba azonosítója": "129",
                                    "Foglalás éve": "2017",
                                    "Foglalások száma": "2"
                                },
                                {
                                    "Szoba azonosítója": "129",
                                    "Foglalás éve": "Részösszeg",
                                    "Foglalások száma": "4"
                                },
                                {
                                    "Szoba azonosítója": "130",
                                    "Foglalás éve": "2016",
                                    "Foglalások száma": "5"
                                },
                                {
                                    "Szoba azonosítója": "130",
                                    "Foglalás éve": "2017",
                                    "Foglalások száma": "1"
                                },
                                {
                                    "Szoba azonosítója": "130",
                                    "Foglalás éve": "Részösszeg",
                                    "Foglalások száma": "6"
                                },
                                {
                                    "Szoba azonosítója": "131",
                                    "Foglalás éve": "2016",
                                    "Foglalások száma": "4"
                                },
                                {
                                    "Szoba azonosítója": "131",
                                    "Foglalás éve": "2017",
                                    "Foglalások száma": "1"
                                },
                                {
                                    "Szoba azonosítója": "131",
                                    "Foglalás éve": "Részösszeg",
                                    "Foglalások száma": "5"
                                },
                                {
                                    "Szoba azonosítója": "132",
                                    "Foglalás éve": "2016",
                                    "Foglalások száma": "5"
                                },
                                {
                                    "Szoba azonosítója": "132",
                                    "Foglalás éve": "2017",
                                    "Foglalások száma": "1"
                                },
                                {
                                    "Szoba azonosítója": "132",
                                    "Foglalás éve": "Részösszeg",
                                    "Foglalások száma": "6"
                                },
                                {
                                    "Szoba azonosítója": "133",
                                    "Foglalás éve": "2016",
                                    "Foglalások száma": "5"
                                },
                                {
                                    "Szoba azonosítója": "133",
                                    "Foglalás éve": "2017",
                                    "Foglalások száma": "1"
                                },
                                {
                                    "Szoba azonosítója": "133",
                                    "Foglalás éve": "Részösszeg",
                                    "Foglalások száma": "6"
                                },
                                {
                                    "Szoba azonosítója": "134",
                                    "Foglalás éve": "2016",
                                    "Foglalások száma": "5"
                                },
                                {
                                    "Szoba azonosítója": "134",
                                    "Foglalás éve": "2017",
                                    "Foglalások száma": "1"
                                },
                                {
                                    "Szoba azonosítója": "134",
                                    "Foglalás éve": "Részösszeg",
                                    "Foglalások száma": "6"
                                },
                                {
                                    "Szoba azonosítója": "135",
                                    "Foglalás éve": "2016",
                                    "Foglalások száma": "3"
                                },
                                {
                                    "Szoba azonosítója": "135",
                                    "Foglalás éve": "Részösszeg",
                                    "Foglalások száma": "3"
                                },
                                {
                                    "Szoba azonosítója": "136",
                                    "Foglalás éve": "2016",
                                    "Foglalások száma": "3"
                                },
                                {
                                    "Szoba azonosítója": "136",
                                    "Foglalás éve": "Részösszeg",
                                    "Foglalások száma": "3"
                                },
                                {
                                    "Szoba azonosítója": "137",
                                    "Foglalás éve": "2016",
                                    "Foglalások száma": "6"
                                },
                                {
                                    "Szoba azonosítója": "137",
                                    "Foglalás éve": "Részösszeg",
                                    "Foglalások száma": "6"
                                },
                                {
                                    "Szoba azonosítója": "138",
                                    "Foglalás éve": "2016",
                                    "Foglalások száma": "7"
                                },
                                {
                                    "Szoba azonosítója": "138",
                                    "Foglalás éve": "Részösszeg",
                                    "Foglalások száma": "7"
                                },
                                {
                                    "Szoba azonosítója": "139",
                                    "Foglalás éve": "2016",
                                    "Foglalások száma": "5"
                                },
                                {
                                    "Szoba azonosítója": "139",
                                    "Foglalás éve": "2017",
                                    "Foglalások száma": "2"
                                },
                                {
                                    "Szoba azonosítója": "139",
                                    "Foglalás éve": "Részösszeg",
                                    "Foglalások száma": "7"
                                },
                                {
                                    "Szoba azonosítója": "140",
                                    "Foglalás éve": "2016",
                                    "Foglalások száma": "8"
                                },
                                {
                                    "Szoba azonosítója": "140",
                                    "Foglalás éve": "Részösszeg",
                                    "Foglalások száma": "8"
                                },
                                {
                                    "Szoba azonosítója": "141",
                                    "Foglalás éve": "2016",
                                    "Foglalások száma": "6"
                                },
                                {
                                    "Szoba azonosítója": "141",
                                    "Foglalás éve": "Részösszeg",
                                    "Foglalások száma": "6"
                                },
                                {
                                    "Szoba azonosítója": "142",
                                    "Foglalás éve": "2016",
                                    "Foglalások száma": "1"
                                },
                                {
                                    "Szoba azonosítója": "142",
                                    "Foglalás éve": "2017",
                                    "Foglalások száma": "1"
                                },
                                {
                                    "Szoba azonosítója": "142",
                                    "Foglalás éve": "Részösszeg",
                                    "Foglalások száma": "2"
                                },
                                {
                                    "Szoba azonosítója": "143",
                                    "Foglalás éve": "2016",
                                    "Foglalások száma": "6"
                                },
                                {
                                    "Szoba azonosítója": "143",
                                    "Foglalás éve": "2017",
                                    "Foglalások száma": "1"
                                },
                                {
                                    "Szoba azonosítója": "143",
                                    "Foglalás éve": "Részösszeg",
                                    "Foglalások száma": "7"
                                },
                                {
                                    "Szoba azonosítója": "144",
                                    "Foglalás éve": "2016",
                                    "Foglalások száma": "4"
                                },
                                {
                                    "Szoba azonosítója": "144",
                                    "Foglalás éve": "2017",
                                    "Foglalások száma": "1"
                                },
                                {
                                    "Szoba azonosítója": "144",
                                    "Foglalás éve": "Részösszeg",
                                    "Foglalások száma": "5"
                                },
                                {
                                    "Szoba azonosítója": "145",
                                    "Foglalás éve": "2016",
                                    "Foglalások száma": "5"
                                },
                                {
                                    "Szoba azonosítója": "145",
                                    "Foglalás éve": "2017",
                                    "Foglalások száma": "1"
                                },
                                {
                                    "Szoba azonosítója": "145",
                                    "Foglalás éve": "Részösszeg",
                                    "Foglalások száma": "6"
                                },
                                {
                                    "Szoba azonosítója": "146",
                                    "Foglalás éve": "2016",
                                    "Foglalások száma": "5"
                                },
                                {
                                    "Szoba azonosítója": "146",
                                    "Foglalás éve": "2017",
                                    "Foglalások száma": "1"
                                },
                                {
                                    "Szoba azonosítója": "146",
                                    "Foglalás éve": "Részösszeg",
                                    "Foglalások száma": "6"
                                },
                                {
                                    "Szoba azonosítója": "147",
                                    "Foglalás éve": "2016",
                                    "Foglalások száma": "1"
                                },
                                {
                                    "Szoba azonosítója": "147",
                                    "Foglalás éve": "Részösszeg",
                                    "Foglalások száma": "1"
                                },
                                {
                                    "Szoba azonosítója": "148",
                                    "Foglalás éve": "2016",
                                    "Foglalások száma": "5"
                                },
                                {
                                    "Szoba azonosítója": "148",
                                    "Foglalás éve": "2017",
                                    "Foglalások száma": "1"
                                },
                                {
                                    "Szoba azonosítója": "148",
                                    "Foglalás éve": "Részösszeg",
                                    "Foglalások száma": "6"
                                },
                                {
                                    "Szoba azonosítója": "149",
                                    "Foglalás éve": "2016",
                                    "Foglalások száma": "6"
                                },
                                {
                                    "Szoba azonosítója": "149",
                                    "Foglalás éve": "2017",
                                    "Foglalások száma": "1"
                                },
                                {
                                    "Szoba azonosítója": "149",
                                    "Foglalás éve": "Részösszeg",
                                    "Foglalások száma": "7"
                                },
                                {
                                    "Szoba azonosítója": "150",
                                    "Foglalás éve": "2016",
                                    "Foglalások száma": "5"
                                },
                                {
                                    "Szoba azonosítója": "150",
                                    "Foglalás éve": "2017",
                                    "Foglalások száma": "1"
                                },
                                {
                                    "Szoba azonosítója": "150",
                                    "Foglalás éve": "Részösszeg",
                                    "Foglalások száma": "6"
                                },
                                {
                                    "Szoba azonosítója": "151",
                                    "Foglalás éve": "2016",
                                    "Foglalások száma": "3"
                                },
                                {
                                    "Szoba azonosítója": "151",
                                    "Foglalás éve": "Részösszeg",
                                    "Foglalások száma": "3"
                                },
                                {
                                    "Szoba azonosítója": "152",
                                    "Foglalás éve": "2016",
                                    "Foglalások száma": "3"
                                },
                                {
                                    "Szoba azonosítója": "152",
                                    "Foglalás éve": "2017",
                                    "Foglalások száma": "1"
                                },
                                {
                                    "Szoba azonosítója": "152",
                                    "Foglalás éve": "Részösszeg",
                                    "Foglalások száma": "4"
                                },
                                {
                                    "Szoba azonosítója": "153",
                                    "Foglalás éve": "2016",
                                    "Foglalások száma": "2"
                                },
                                {
                                    "Szoba azonosítója": "153",
                                    "Foglalás éve": "2017",
                                    "Foglalások száma": "3"
                                },
                                {
                                    "Szoba azonosítója": "153",
                                    "Foglalás éve": "Részösszeg",
                                    "Foglalások száma": "5"
                                },
                                {
                                    "Szoba azonosítója": "154",
                                    "Foglalás éve": "2016",
                                    "Foglalások száma": "4"
                                },
                                {
                                    "Szoba azonosítója": "154",
                                    "Foglalás éve": "2017",
                                    "Foglalások száma": "1"
                                },
                                {
                                    "Szoba azonosítója": "154",
                                    "Foglalás éve": "Részösszeg",
                                    "Foglalások száma": "5"
                                },
                                {
                                    "Szoba azonosítója": "155",
                                    "Foglalás éve": "2016",
                                    "Foglalások száma": "4"
                                },
                                {
                                    "Szoba azonosítója": "155",
                                    "Foglalás éve": "2017",
                                    "Foglalások száma": "1"
                                },
                                {
                                    "Szoba azonosítója": "155",
                                    "Foglalás éve": "Részösszeg",
                                    "Foglalások száma": "5"
                                },
                                {
                                    "Szoba azonosítója": "156",
                                    "Foglalás éve": "2016",
                                    "Foglalások száma": "4"
                                },
                                {
                                    "Szoba azonosítója": "156",
                                    "Foglalás éve": "2017",
                                    "Foglalások száma": "3"
                                },
                                {
                                    "Szoba azonosítója": "156",
                                    "Foglalás éve": "Részösszeg",
                                    "Foglalások száma": "7"
                                },
                                {
                                    "Szoba azonosítója": "157",
                                    "Foglalás éve": "2016",
                                    "Foglalások száma": "4"
                                },
                                {
                                    "Szoba azonosítója": "157",
                                    "Foglalás éve": "2017",
                                    "Foglalások száma": "1"
                                },
                                {
                                    "Szoba azonosítója": "157",
                                    "Foglalás éve": "Részösszeg",
                                    "Foglalások száma": "5"
                                },
                                {
                                    "Szoba azonosítója": "158",
                                    "Foglalás éve": "2016",
                                    "Foglalások száma": "3"
                                },
                                {
                                    "Szoba azonosítója": "158",
                                    "Foglalás éve": "Részösszeg",
                                    "Foglalások száma": "3"
                                },
                                {
                                    "Szoba azonosítója": "160",
                                    "Foglalás éve": "2016",
                                    "Foglalások száma": "4"
                                },
                                {
                                    "Szoba azonosítója": "160",
                                    "Foglalás éve": "2017",
                                    "Foglalások száma": "1"
                                },
                                {
                                    "Szoba azonosítója": "160",
                                    "Foglalás éve": "Részösszeg",
                                    "Foglalások száma": "5"
                                },
                                {
                                    "Szoba azonosítója": "161",
                                    "Foglalás éve": "2016",
                                    "Foglalások száma": "5"
                                },
                                {
                                    "Szoba azonosítója": "161",
                                    "Foglalás éve": "2017",
                                    "Foglalások száma": "1"
                                },
                                {
                                    "Szoba azonosítója": "161",
                                    "Foglalás éve": "Részösszeg",
                                    "Foglalások száma": "6"
                                },
                                {
                                    "Szoba azonosítója": "162",
                                    "Foglalás éve": "2016",
                                    "Foglalások száma": "3"
                                },
                                {
                                    "Szoba azonosítója": "162",
                                    "Foglalás éve": "Részösszeg",
                                    "Foglalások száma": "3"
                                },
                                {
                                    "Szoba azonosítója": "163",
                                    "Foglalás éve": "2016",
                                    "Foglalások száma": "6"
                                },
                                {
                                    "Szoba azonosítója": "163",
                                    "Foglalás éve": "2017",
                                    "Foglalások száma": "1"
                                },
                                {
                                    "Szoba azonosítója": "163",
                                    "Foglalás éve": "Részösszeg",
                                    "Foglalások száma": "7"
                                },
                                {
                                    "Szoba azonosítója": "164",
                                    "Foglalás éve": "2016",
                                    "Foglalások száma": "5"
                                },
                                {
                                    "Szoba azonosítója": "164",
                                    "Foglalás éve": "Részösszeg",
                                    "Foglalások száma": "5"
                                },
                                {
                                    "Szoba azonosítója": "165",
                                    "Foglalás éve": "2016",
                                    "Foglalások száma": "7"
                                },
                                {
                                    "Szoba azonosítója": "165",
                                    "Foglalás éve": "Részösszeg",
                                    "Foglalások száma": "7"
                                },
                                {
                                    "Szoba azonosítója": "166",
                                    "Foglalás éve": "2016",
                                    "Foglalások száma": "2"
                                },
                                {
                                    "Szoba azonosítója": "166",
                                    "Foglalás éve": "2017",
                                    "Foglalások száma": "1"
                                },
                                {
                                    "Szoba azonosítója": "166",
                                    "Foglalás éve": "Részösszeg",
                                    "Foglalások száma": "3"
                                },
                                {
                                    "Szoba azonosítója": "167",
                                    "Foglalás éve": "2016",
                                    "Foglalások száma": "1"
                                },
                                {
                                    "Szoba azonosítója": "167",
                                    "Foglalás éve": "2017",
                                    "Foglalások száma": "1"
                                },
                                {
                                    "Szoba azonosítója": "167",
                                    "Foglalás éve": "Részösszeg",
                                    "Foglalások száma": "2"
                                },
                                {
                                    "Szoba azonosítója": "168",
                                    "Foglalás éve": "2016",
                                    "Foglalások száma": "5"
                                },
                                {
                                    "Szoba azonosítója": "168",
                                    "Foglalás éve": "Részösszeg",
                                    "Foglalások száma": "5"
                                },
                                {
                                    "Szoba azonosítója": "169",
                                    "Foglalás éve": "2016",
                                    "Foglalások száma": "5"
                                },
                                {
                                    "Szoba azonosítója": "169",
                                    "Foglalás éve": "2017",
                                    "Foglalások száma": "1"
                                },
                                {
                                    "Szoba azonosítója": "169",
                                    "Foglalás éve": "Részösszeg",
                                    "Foglalások száma": "6"
                                },
                                {
                                    "Szoba azonosítója": "170",
                                    "Foglalás éve": "2016",
                                    "Foglalások száma": "5"
                                },
                                {
                                    "Szoba azonosítója": "170",
                                    "Foglalás éve": "Részösszeg",
                                    "Foglalások száma": "5"
                                },
                                {
                                    "Szoba azonosítója": "171",
                                    "Foglalás éve": "2016",
                                    "Foglalások száma": "4"
                                },
                                {
                                    "Szoba azonosítója": "171",
                                    "Foglalás éve": "2017",
                                    "Foglalások száma": "1"
                                },
                                {
                                    "Szoba azonosítója": "171",
                                    "Foglalás éve": "Részösszeg",
                                    "Foglalások száma": "5"
                                },
                                {
                                    "Szoba azonosítója": "172",
                                    "Foglalás éve": "2016",
                                    "Foglalások száma": "7"
                                },
                                {
                                    "Szoba azonosítója": "172",
                                    "Foglalás éve": "2017",
                                    "Foglalások száma": "2"
                                },
                                {
                                    "Szoba azonosítója": "172",
                                    "Foglalás éve": "Részösszeg",
                                    "Foglalások száma": "9"
                                },
                                {
                                    "Szoba azonosítója": "173",
                                    "Foglalás éve": "2016",
                                    "Foglalások száma": "3"
                                },
                                {
                                    "Szoba azonosítója": "173",
                                    "Foglalás éve": "2017",
                                    "Foglalások száma": "1"
                                },
                                {
                                    "Szoba azonosítója": "173",
                                    "Foglalás éve": "Részösszeg",
                                    "Foglalások száma": "4"
                                },
                                {
                                    "Szoba azonosítója": "174",
                                    "Foglalás éve": "2016",
                                    "Foglalások száma": "4"
                                },
                                {
                                    "Szoba azonosítója": "174",
                                    "Foglalás éve": "Részösszeg",
                                    "Foglalások száma": "4"
                                },
                                {
                                    "Szoba azonosítója": "175",
                                    "Foglalás éve": "2016",
                                    "Foglalások száma": "5"
                                },
                                {
                                    "Szoba azonosítója": "175",
                                    "Foglalás éve": "Részösszeg",
                                    "Foglalások száma": "5"
                                },
                                {
                                    "Szoba azonosítója": "176",
                                    "Foglalás éve": "2016",
                                    "Foglalások száma": "4"
                                },
                                {
                                    "Szoba azonosítója": "176",
                                    "Foglalás éve": "2017",
                                    "Foglalások száma": "2"
                                },
                                {
                                    "Szoba azonosítója": "176",
                                    "Foglalás éve": "Részösszeg",
                                    "Foglalások száma": "6"
                                },
                                {
                                    "Szoba azonosítója": "177",
                                    "Foglalás éve": "2016",
                                    "Foglalások száma": "3"
                                },
                                {
                                    "Szoba azonosítója": "177",
                                    "Foglalás éve": "2017",
                                    "Foglalások száma": "1"
                                },
                                {
                                    "Szoba azonosítója": "177",
                                    "Foglalás éve": "Részösszeg",
                                    "Foglalások száma": "4"
                                },
                                {
                                    "Szoba azonosítója": "178",
                                    "Foglalás éve": "2016",
                                    "Foglalások száma": "4"
                                },
                                {
                                    "Szoba azonosítója": "178",
                                    "Foglalás éve": "Részösszeg",
                                    "Foglalások száma": "4"
                                },
                                {
                                    "Szoba azonosítója": "179",
                                    "Foglalás éve": "2016",
                                    "Foglalások száma": "2"
                                },
                                {
                                    "Szoba azonosítója": "179",
                                    "Foglalás éve": "2017",
                                    "Foglalások száma": "1"
                                },
                                {
                                    "Szoba azonosítója": "179",
                                    "Foglalás éve": "Részösszeg",
                                    "Foglalások száma": "3"
                                },
                                {
                                    "Szoba azonosítója": "180",
                                    "Foglalás éve": "2016",
                                    "Foglalások száma": "1"
                                },
                                {
                                    "Szoba azonosítója": "180",
                                    "Foglalás éve": "2017",
                                    "Foglalások száma": "2"
                                },
                                {
                                    "Szoba azonosítója": "180",
                                    "Foglalás éve": "Részösszeg",
                                    "Foglalások száma": "3"
                                },
                                {
                                    "Szoba azonosítója": "181",
                                    "Foglalás éve": "2016",
                                    "Foglalások száma": "6"
                                },
                                {
                                    "Szoba azonosítója": "181",
                                    "Foglalás éve": "Részösszeg",
                                    "Foglalások száma": "6"
                                },
                                {
                                    "Szoba azonosítója": "182",
                                    "Foglalás éve": "2016",
                                    "Foglalások száma": "10"
                                },
                                {
                                    "Szoba azonosítója": "182",
                                    "Foglalás éve": "2017",
                                    "Foglalások száma": "2"
                                },
                                {
                                    "Szoba azonosítója": "182",
                                    "Foglalás éve": "Részösszeg",
                                    "Foglalások száma": "12"
                                },
                                {
                                    "Szoba azonosítója": "183",
                                    "Foglalás éve": "2016",
                                    "Foglalások száma": "3"
                                },
                                {
                                    "Szoba azonosítója": "183",
                                    "Foglalás éve": "2017",
                                    "Foglalások száma": "1"
                                },
                                {
                                    "Szoba azonosítója": "183",
                                    "Foglalás éve": "Részösszeg",
                                    "Foglalások száma": "4"
                                },
                                {
                                    "Szoba azonosítója": "184",
                                    "Foglalás éve": "2016",
                                    "Foglalások száma": "4"
                                },
                                {
                                    "Szoba azonosítója": "184",
                                    "Foglalás éve": "Részösszeg",
                                    "Foglalások száma": "4"
                                },
                                {
                                    "Szoba azonosítója": "185",
                                    "Foglalás éve": "2016",
                                    "Foglalások száma": "10"
                                },
                                {
                                    "Szoba azonosítója": "185",
                                    "Foglalás éve": "2017",
                                    "Foglalások száma": "2"
                                },
                                {
                                    "Szoba azonosítója": "185",
                                    "Foglalás éve": "Részösszeg",
                                    "Foglalások száma": "12"
                                },
                                {
                                    "Szoba azonosítója": "186",
                                    "Foglalás éve": "2016",
                                    "Foglalások száma": "3"
                                },
                                {
                                    "Szoba azonosítója": "186",
                                    "Foglalás éve": "2017",
                                    "Foglalások száma": "1"
                                },
                                {
                                    "Szoba azonosítója": "186",
                                    "Foglalás éve": "Részösszeg",
                                    "Foglalások száma": "4"
                                },
                                {
                                    "Szoba azonosítója": "187",
                                    "Foglalás éve": "2016",
                                    "Foglalások száma": "7"
                                },
                                {
                                    "Szoba azonosítója": "187",
                                    "Foglalás éve": "Részösszeg",
                                    "Foglalások száma": "7"
                                },
                                {
                                    "Szoba azonosítója": "188",
                                    "Foglalás éve": "2016",
                                    "Foglalások száma": "6"
                                },
                                {
                                    "Szoba azonosítója": "188",
                                    "Foglalás éve": "Részösszeg",
                                    "Foglalások száma": "6"
                                },
                                {
                                    "Szoba azonosítója": "189",
                                    "Foglalás éve": "2016",
                                    "Foglalások száma": "3"
                                },
                                {
                                    "Szoba azonosítója": "189",
                                    "Foglalás éve": "2017",
                                    "Foglalások száma": "2"
                                },
                                {
                                    "Szoba azonosítója": "189",
                                    "Foglalás éve": "Részösszeg",
                                    "Foglalások száma": "5"
                                },
                                {
                                    "Szoba azonosítója": "190",
                                    "Foglalás éve": "2016",
                                    "Foglalások száma": "4"
                                },
                                {
                                    "Szoba azonosítója": "190",
                                    "Foglalás éve": "2017",
                                    "Foglalások száma": "1"
                                },
                                {
                                    "Szoba azonosítója": "190",
                                    "Foglalás éve": "Részösszeg",
                                    "Foglalások száma": "5"
                                },
                                {
                                    "Szoba azonosítója": "191",
                                    "Foglalás éve": "2016",
                                    "Foglalások száma": "3"
                                },
                                {
                                    "Szoba azonosítója": "191",
                                    "Foglalás éve": "2017",
                                    "Foglalások száma": "2"
                                },
                                {
                                    "Szoba azonosítója": "191",
                                    "Foglalás éve": "Részösszeg",
                                    "Foglalások száma": "5"
                                },
                                {
                                    "Szoba azonosítója": "192",
                                    "Foglalás éve": "2016",
                                    "Foglalások száma": "2"
                                },
                                {
                                    "Szoba azonosítója": "192",
                                    "Foglalás éve": "Részösszeg",
                                    "Foglalások száma": "2"
                                },
                                {
                                    "Szoba azonosítója": "193",
                                    "Foglalás éve": "2016",
                                    "Foglalások száma": "7"
                                },
                                {
                                    "Szoba azonosítója": "193",
                                    "Foglalás éve": "Részösszeg",
                                    "Foglalások száma": "7"
                                },
                                {
                                    "Szoba azonosítója": "194",
                                    "Foglalás éve": "2016",
                                    "Foglalások száma": "1"
                                },
                                {
                                    "Szoba azonosítója": "194",
                                    "Foglalás éve": "Részösszeg",
                                    "Foglalások száma": "1"
                                },
                                {
                                    "Szoba azonosítója": "195",
                                    "Foglalás éve": "2016",
                                    "Foglalások száma": "4"
                                },
                                {
                                    "Szoba azonosítója": "195",
                                    "Foglalás éve": "2017",
                                    "Foglalások száma": "2"
                                },
                                {
                                    "Szoba azonosítója": "195",
                                    "Foglalás éve": "Részösszeg",
                                    "Foglalások száma": "6"
                                },
                                {
                                    "Szoba azonosítója": "196",
                                    "Foglalás éve": "2016",
                                    "Foglalások száma": "4"
                                },
                                {
                                    "Szoba azonosítója": "196",
                                    "Foglalás éve": "Részösszeg",
                                    "Foglalások száma": "4"
                                },
                                {
                                    "Szoba azonosítója": "197",
                                    "Foglalás éve": "2016",
                                    "Foglalások száma": "6"
                                },
                                {
                                    "Szoba azonosítója": "197",
                                    "Foglalás éve": "Részösszeg",
                                    "Foglalások száma": "6"
                                },
                                {
                                    "Szoba azonosítója": "198",
                                    "Foglalás éve": "2016",
                                    "Foglalások száma": "7"
                                },
                                {
                                    "Szoba azonosítója": "198",
                                    "Foglalás éve": "2017",
                                    "Foglalások száma": "1"
                                },
                                {
                                    "Szoba azonosítója": "198",
                                    "Foglalás éve": "Részösszeg",
                                    "Foglalások száma": "8"
                                },
                                {
                                    "Szoba azonosítója": "Végösszeg",
                                    "Foglalás éve": "Végösszeg",
                                    "Foglalások száma": "1027"
                                }
                            ]
                        },
                        "text/html": [
                            "<table>",
                            "<tr><th>Szoba azonosítója</th><th>Foglalás éve</th><th>Foglalások száma</th></tr>",
                            "<tr><td>1</td><td>2016</td><td>8</td></tr>",
                            "<tr><td>1</td><td>Részösszeg</td><td>8</td></tr>",
                            "<tr><td>2</td><td>2016</td><td>4</td></tr>",
                            "<tr><td>2</td><td>Részösszeg</td><td>4</td></tr>",
                            "<tr><td>3</td><td>2016</td><td>6</td></tr>",
                            "<tr><td>3</td><td>2017</td><td>2</td></tr>",
                            "<tr><td>3</td><td>Részösszeg</td><td>8</td></tr>",
                            "<tr><td>4</td><td>2016</td><td>5</td></tr>",
                            "<tr><td>4</td><td>2017</td><td>1</td></tr>",
                            "<tr><td>4</td><td>Részösszeg</td><td>6</td></tr>",
                            "<tr><td>5</td><td>2016</td><td>4</td></tr>",
                            "<tr><td>5</td><td>Részösszeg</td><td>4</td></tr>",
                            "<tr><td>6</td><td>2016</td><td>6</td></tr>",
                            "<tr><td>6</td><td>Részösszeg</td><td>6</td></tr>",
                            "<tr><td>7</td><td>2016</td><td>6</td></tr>",
                            "<tr><td>7</td><td>Részösszeg</td><td>6</td></tr>",
                            "<tr><td>8</td><td>2016</td><td>5</td></tr>",
                            "<tr><td>8</td><td>Részösszeg</td><td>5</td></tr>",
                            "<tr><td>9</td><td>2016</td><td>4</td></tr>",
                            "<tr><td>9</td><td>2017</td><td>2</td></tr>",
                            "<tr><td>9</td><td>Részösszeg</td><td>6</td></tr>",
                            "<tr><td>10</td><td>2016</td><td>4</td></tr>",
                            "<tr><td>10</td><td>Részösszeg</td><td>4</td></tr>",
                            "<tr><td>11</td><td>2016</td><td>3</td></tr>",
                            "<tr><td>11</td><td>2017</td><td>1</td></tr>",
                            "<tr><td>11</td><td>Részösszeg</td><td>4</td></tr>",
                            "<tr><td>12</td><td>2016</td><td>8</td></tr>",
                            "<tr><td>12</td><td>2017</td><td>1</td></tr>",
                            "<tr><td>12</td><td>Részösszeg</td><td>9</td></tr>",
                            "<tr><td>13</td><td>2016</td><td>3</td></tr>",
                            "<tr><td>13</td><td>2017</td><td>1</td></tr>",
                            "<tr><td>13</td><td>Részösszeg</td><td>4</td></tr>",
                            "<tr><td>14</td><td>2016</td><td>2</td></tr>",
                            "<tr><td>14</td><td>2017</td><td>1</td></tr>",
                            "<tr><td>14</td><td>Részösszeg</td><td>3</td></tr>",
                            "<tr><td>15</td><td>2016</td><td>4</td></tr>",
                            "<tr><td>15</td><td>2017</td><td>2</td></tr>",
                            "<tr><td>15</td><td>Részösszeg</td><td>6</td></tr>",
                            "<tr><td>16</td><td>2016</td><td>4</td></tr>",
                            "<tr><td>16</td><td>2017</td><td>1</td></tr>",
                            "<tr><td>16</td><td>Részösszeg</td><td>5</td></tr>",
                            "<tr><td>17</td><td>2016</td><td>5</td></tr>",
                            "<tr><td>17</td><td>2017</td><td>1</td></tr>",
                            "<tr><td>17</td><td>Részösszeg</td><td>6</td></tr>",
                            "<tr><td>18</td><td>2016</td><td>5</td></tr>",
                            "<tr><td>18</td><td>2017</td><td>1</td></tr>",
                            "<tr><td>18</td><td>Részösszeg</td><td>6</td></tr>",
                            "<tr><td>19</td><td>2016</td><td>5</td></tr>",
                            "<tr><td>19</td><td>2017</td><td>1</td></tr>",
                            "<tr><td>19</td><td>Részösszeg</td><td>6</td></tr>",
                            "<tr><td>20</td><td>2016</td><td>5</td></tr>",
                            "<tr><td>20</td><td>Részösszeg</td><td>5</td></tr>",
                            "<tr><td>21</td><td>2016</td><td>4</td></tr>",
                            "<tr><td>21</td><td>Részösszeg</td><td>4</td></tr>",
                            "<tr><td>22</td><td>2016</td><td>6</td></tr>",
                            "<tr><td>22</td><td>Részösszeg</td><td>6</td></tr>",
                            "<tr><td>23</td><td>2016</td><td>3</td></tr>",
                            "<tr><td>23</td><td>Részösszeg</td><td>3</td></tr>",
                            "<tr><td>24</td><td>2016</td><td>2</td></tr>",
                            "<tr><td>24</td><td>2017</td><td>1</td></tr>",
                            "<tr><td>24</td><td>Részösszeg</td><td>3</td></tr>",
                            "<tr><td>25</td><td>2016</td><td>2</td></tr>",
                            "<tr><td>25</td><td>Részösszeg</td><td>2</td></tr>",
                            "<tr><td>26</td><td>2016</td><td>2</td></tr>",
                            "<tr><td>26</td><td>Részösszeg</td><td>2</td></tr>",
                            "<tr><td>27</td><td>2016</td><td>6</td></tr>",
                            "<tr><td>27</td><td>2017</td><td>1</td></tr>",
                            "<tr><td>27</td><td>Részösszeg</td><td>7</td></tr>",
                            "<tr><td>28</td><td>2016</td><td>5</td></tr>",
                            "<tr><td>28</td><td>2017</td><td>1</td></tr>",
                            "<tr><td>28</td><td>Részösszeg</td><td>6</td></tr>",
                            "<tr><td>29</td><td>2016</td><td>5</td></tr>",
                            "<tr><td>29</td><td>2017</td><td>1</td></tr>",
                            "<tr><td>29</td><td>Részösszeg</td><td>6</td></tr>",
                            "<tr><td>30</td><td>2016</td><td>3</td></tr>",
                            "<tr><td>30</td><td>Részösszeg</td><td>3</td></tr>",
                            "<tr><td>31</td><td>2016</td><td>3</td></tr>",
                            "<tr><td>31</td><td>Részösszeg</td><td>3</td></tr>",
                            "<tr><td>32</td><td>2016</td><td>1</td></tr>",
                            "<tr><td>32</td><td>Részösszeg</td><td>1</td></tr>",
                            "<tr><td>33</td><td>2016</td><td>6</td></tr>",
                            "<tr><td>33</td><td>Részösszeg</td><td>6</td></tr>",
                            "<tr><td>34</td><td>2016</td><td>4</td></tr>",
                            "<tr><td>34</td><td>Részösszeg</td><td>4</td></tr>",
                            "<tr><td>35</td><td>2016</td><td>6</td></tr>",
                            "<tr><td>35</td><td>2017</td><td>3</td></tr>",
                            "<tr><td>35</td><td>Részösszeg</td><td>9</td></tr>",
                            "<tr><td>36</td><td>2016</td><td>6</td></tr>",
                            "<tr><td>36</td><td>Részösszeg</td><td>6</td></tr>",
                            "<tr><td>37</td><td>2016</td><td>3</td></tr>",
                            "<tr><td>37</td><td>Részösszeg</td><td>3</td></tr>",
                            "<tr><td>38</td><td>2016</td><td>5</td></tr>",
                            "<tr><td>38</td><td>2017</td><td>3</td></tr>",
                            "<tr><td>38</td><td>Részösszeg</td><td>8</td></tr>",
                            "<tr><td>39</td><td>2016</td><td>4</td></tr>",
                            "<tr><td>39</td><td>2017</td><td>3</td></tr>",
                            "<tr><td>39</td><td>Részösszeg</td><td>7</td></tr>",
                            "<tr><td>40</td><td>2016</td><td>4</td></tr>",
                            "<tr><td>40</td><td>Részösszeg</td><td>4</td></tr>",
                            "<tr><td>41</td><td>2016</td><td>2</td></tr>",
                            "<tr><td>41</td><td>Részösszeg</td><td>2</td></tr>",
                            "<tr><td>42</td><td>2016</td><td>5</td></tr>",
                            "<tr><td>42</td><td>2017</td><td>1</td></tr>",
                            "<tr><td>42</td><td>Részösszeg</td><td>6</td></tr>",
                            "<tr><td>43</td><td>2016</td><td>6</td></tr>",
                            "<tr><td>43</td><td>2017</td><td>2</td></tr>",
                            "<tr><td>43</td><td>Részösszeg</td><td>8</td></tr>",
                            "<tr><td>44</td><td>2016</td><td>4</td></tr>",
                            "<tr><td>44</td><td>2017</td><td>2</td></tr>",
                            "<tr><td>44</td><td>Részösszeg</td><td>6</td></tr>",
                            "<tr><td>45</td><td>2016</td><td>5</td></tr>",
                            "<tr><td>45</td><td>Részösszeg</td><td>5</td></tr>",
                            "<tr><td>46</td><td>2016</td><td>3</td></tr>",
                            "<tr><td>46</td><td>2017</td><td>1</td></tr>",
                            "<tr><td>46</td><td>Részösszeg</td><td>4</td></tr>",
                            "<tr><td>47</td><td>2016</td><td>2</td></tr>",
                            "<tr><td>47</td><td>Részösszeg</td><td>2</td></tr>",
                            "<tr><td>48</td><td>2016</td><td>6</td></tr>",
                            "<tr><td>48</td><td>2017</td><td>3</td></tr>",
                            "<tr><td>48</td><td>Részösszeg</td><td>9</td></tr>",
                            "<tr><td>49</td><td>2016</td><td>6</td></tr>",
                            "<tr><td>49</td><td>2017</td><td>1</td></tr>",
                            "<tr><td>49</td><td>Részösszeg</td><td>7</td></tr>",
                            "<tr><td>50</td><td>2016</td><td>4</td></tr>",
                            "<tr><td>50</td><td>Részösszeg</td><td>4</td></tr>",
                            "<tr><td>51</td><td>2016</td><td>3</td></tr>",
                            "<tr><td>51</td><td>2017</td><td>2</td></tr>",
                            "<tr><td>51</td><td>Részösszeg</td><td>5</td></tr>",
                            "<tr><td>52</td><td>2016</td><td>3</td></tr>",
                            "<tr><td>52</td><td>2017</td><td>2</td></tr>",
                            "<tr><td>52</td><td>Részösszeg</td><td>5</td></tr>",
                            "<tr><td>53</td><td>2016</td><td>2</td></tr>",
                            "<tr><td>53</td><td>Részösszeg</td><td>2</td></tr>",
                            "<tr><td>54</td><td>2016</td><td>6</td></tr>",
                            "<tr><td>54</td><td>Részösszeg</td><td>6</td></tr>",
                            "<tr><td>55</td><td>2016</td><td>6</td></tr>",
                            "<tr><td>55</td><td>2017</td><td>2</td></tr>",
                            "<tr><td>55</td><td>Részösszeg</td><td>8</td></tr>",
                            "<tr><td>56</td><td>2016</td><td>2</td></tr>",
                            "<tr><td>56</td><td>Részösszeg</td><td>2</td></tr>",
                            "<tr><td>57</td><td>2016</td><td>2</td></tr>",
                            "<tr><td>57</td><td>2017</td><td>2</td></tr>",
                            "<tr><td>57</td><td>Részösszeg</td><td>4</td></tr>",
                            "<tr><td>58</td><td>2016</td><td>12</td></tr>",
                            "<tr><td>58</td><td>2017</td><td>1</td></tr>",
                            "<tr><td>58</td><td>Részösszeg</td><td>13</td></tr>",
                            "<tr><td>59</td><td>2016</td><td>6</td></tr>",
                            "<tr><td>59</td><td>2017</td><td>1</td></tr>",
                            "<tr><td>59</td><td>Részösszeg</td><td>7</td></tr>",
                            "<tr><td>60</td><td>2016</td><td>1</td></tr>",
                            "<tr><td>60</td><td>Részösszeg</td><td>1</td></tr>",
                            "<tr><td>61</td><td>2016</td><td>4</td></tr>",
                            "<tr><td>61</td><td>2017</td><td>1</td></tr>",
                            "<tr><td>61</td><td>Részösszeg</td><td>5</td></tr>",
                            "<tr><td>62</td><td>2016</td><td>4</td></tr>",
                            "<tr><td>62</td><td>2017</td><td>1</td></tr>",
                            "<tr><td>62</td><td>Részösszeg</td><td>5</td></tr>",
                            "<tr><td>63</td><td>2016</td><td>4</td></tr>",
                            "<tr><td>63</td><td>Részösszeg</td><td>4</td></tr>",
                            "<tr><td>64</td><td>2016</td><td>3</td></tr>",
                            "<tr><td>64</td><td>2017</td><td>3</td></tr>",
                            "<tr><td>64</td><td>Részösszeg</td><td>6</td></tr>",
                            "<tr><td>65</td><td>2016</td><td>1</td></tr>",
                            "<tr><td>65</td><td>Részösszeg</td><td>1</td></tr>",
                            "<tr><td>66</td><td>2016</td><td>4</td></tr>",
                            "<tr><td>66</td><td>Részösszeg</td><td>4</td></tr>",
                            "<tr><td>67</td><td>2016</td><td>4</td></tr>",
                            "<tr><td>67</td><td>2017</td><td>2</td></tr>",
                            "<tr><td>67</td><td>Részösszeg</td><td>6</td></tr>",
                            "<tr><td>68</td><td>2016</td><td>3</td></tr>",
                            "<tr><td>68</td><td>Részösszeg</td><td>3</td></tr>",
                            "<tr><td>69</td><td>2016</td><td>4</td></tr>",
                            "<tr><td>69</td><td>Részösszeg</td><td>4</td></tr>",
                            "<tr><td>70</td><td>2016</td><td>10</td></tr>",
                            "<tr><td>70</td><td>2017</td><td>1</td></tr>",
                            "<tr><td>70</td><td>Részösszeg</td><td>11</td></tr>",
                            "<tr><td>71</td><td>2016</td><td>3</td></tr>",
                            "<tr><td>71</td><td>Részösszeg</td><td>3</td></tr>",
                            "<tr><td>72</td><td>2016</td><td>4</td></tr>",
                            "<tr><td>72</td><td>Részösszeg</td><td>4</td></tr>",
                            "<tr><td>73</td><td>2016</td><td>4</td></tr>",
                            "<tr><td>73</td><td>Részösszeg</td><td>4</td></tr>",
                            "<tr><td>74</td><td>2016</td><td>9</td></tr>",
                            "<tr><td>74</td><td>Részösszeg</td><td>9</td></tr>",
                            "<tr><td>75</td><td>2016</td><td>1</td></tr>",
                            "<tr><td>75</td><td>2017</td><td>2</td></tr>",
                            "<tr><td>75</td><td>Részösszeg</td><td>3</td></tr>",
                            "<tr><td>76</td><td>2016</td><td>2</td></tr>",
                            "<tr><td>76</td><td>2017</td><td>1</td></tr>",
                            "<tr><td>76</td><td>Részösszeg</td><td>3</td></tr>",
                            "<tr><td>77</td><td>2016</td><td>4</td></tr>",
                            "<tr><td>77</td><td>2017</td><td>2</td></tr>",
                            "<tr><td>77</td><td>Részösszeg</td><td>6</td></tr>",
                            "<tr><td>78</td><td>2016</td><td>5</td></tr>",
                            "<tr><td>78</td><td>2017</td><td>1</td></tr>",
                            "<tr><td>78</td><td>Részösszeg</td><td>6</td></tr>",
                            "<tr><td>79</td><td>2016</td><td>4</td></tr>",
                            "<tr><td>79</td><td>2017</td><td>1</td></tr>",
                            "<tr><td>79</td><td>Részösszeg</td><td>5</td></tr>",
                            "<tr><td>80</td><td>2016</td><td>7</td></tr>",
                            "<tr><td>80</td><td>Részösszeg</td><td>7</td></tr>",
                            "<tr><td>81</td><td>2016</td><td>1</td></tr>",
                            "<tr><td>81</td><td>2017</td><td>4</td></tr>",
                            "<tr><td>81</td><td>Részösszeg</td><td>5</td></tr>",
                            "<tr><td>82</td><td>2016</td><td>6</td></tr>",
                            "<tr><td>82</td><td>Részösszeg</td><td>6</td></tr>",
                            "<tr><td>83</td><td>2016</td><td>8</td></tr>",
                            "<tr><td>83</td><td>Részösszeg</td><td>8</td></tr>",
                            "<tr><td>84</td><td>2016</td><td>4</td></tr>",
                            "<tr><td>84</td><td>Részösszeg</td><td>4</td></tr>",
                            "<tr><td>85</td><td>2016</td><td>3</td></tr>",
                            "<tr><td>85</td><td>2017</td><td>1</td></tr>",
                            "<tr><td>85</td><td>Részösszeg</td><td>4</td></tr>",
                            "<tr><td>86</td><td>2016</td><td>4</td></tr>",
                            "<tr><td>86</td><td>2017</td><td>1</td></tr>",
                            "<tr><td>86</td><td>Részösszeg</td><td>5</td></tr>",
                            "<tr><td>87</td><td>2016</td><td>4</td></tr>",
                            "<tr><td>87</td><td>2017</td><td>1</td></tr>",
                            "<tr><td>87</td><td>Részösszeg</td><td>5</td></tr>",
                            "<tr><td>88</td><td>2016</td><td>6</td></tr>",
                            "<tr><td>88</td><td>2017</td><td>2</td></tr>",
                            "<tr><td>88</td><td>Részösszeg</td><td>8</td></tr>",
                            "<tr><td>89</td><td>2016</td><td>7</td></tr>",
                            "<tr><td>89</td><td>2017</td><td>1</td></tr>",
                            "<tr><td>89</td><td>Részösszeg</td><td>8</td></tr>",
                            "<tr><td>90</td><td>2016</td><td>4</td></tr>",
                            "<tr><td>90</td><td>Részösszeg</td><td>4</td></tr>",
                            "<tr><td>91</td><td>2016</td><td>4</td></tr>",
                            "<tr><td>91</td><td>Részösszeg</td><td>4</td></tr>",
                            "<tr><td>92</td><td>2016</td><td>4</td></tr>",
                            "<tr><td>92</td><td>2017</td><td>2</td></tr>",
                            "<tr><td>92</td><td>Részösszeg</td><td>6</td></tr>",
                            "<tr><td>93</td><td>2016</td><td>5</td></tr>",
                            "<tr><td>93</td><td>Részösszeg</td><td>5</td></tr>",
                            "<tr><td>94</td><td>2016</td><td>8</td></tr>",
                            "<tr><td>94</td><td>2017</td><td>2</td></tr>",
                            "<tr><td>94</td><td>Részösszeg</td><td>10</td></tr>",
                            "<tr><td>95</td><td>2016</td><td>3</td></tr>",
                            "<tr><td>95</td><td>2017</td><td>1</td></tr>",
                            "<tr><td>95</td><td>Részösszeg</td><td>4</td></tr>",
                            "<tr><td>96</td><td>2016</td><td>5</td></tr>",
                            "<tr><td>96</td><td>2017</td><td>2</td></tr>",
                            "<tr><td>96</td><td>Részösszeg</td><td>7</td></tr>",
                            "<tr><td>97</td><td>2016</td><td>5</td></tr>",
                            "<tr><td>97</td><td>2017</td><td>2</td></tr>",
                            "<tr><td>97</td><td>Részösszeg</td><td>7</td></tr>",
                            "<tr><td>98</td><td>2016</td><td>4</td></tr>",
                            "<tr><td>98</td><td>Részösszeg</td><td>4</td></tr>",
                            "<tr><td>99</td><td>2016</td><td>4</td></tr>",
                            "<tr><td>99</td><td>2017</td><td>1</td></tr>",
                            "<tr><td>99</td><td>Részösszeg</td><td>5</td></tr>",
                            "<tr><td>100</td><td>2016</td><td>3</td></tr>",
                            "<tr><td>100</td><td>2017</td><td>1</td></tr>",
                            "<tr><td>100</td><td>Részösszeg</td><td>4</td></tr>",
                            "<tr><td>101</td><td>2016</td><td>2</td></tr>",
                            "<tr><td>101</td><td>2017</td><td>1</td></tr>",
                            "<tr><td>101</td><td>Részösszeg</td><td>3</td></tr>",
                            "<tr><td>102</td><td>2016</td><td>2</td></tr>",
                            "<tr><td>102</td><td>Részösszeg</td><td>2</td></tr>",
                            "<tr><td>103</td><td>2016</td><td>3</td></tr>",
                            "<tr><td>103</td><td>2017</td><td>1</td></tr>",
                            "<tr><td>103</td><td>Részösszeg</td><td>4</td></tr>",
                            "<tr><td>104</td><td>2016</td><td>2</td></tr>",
                            "<tr><td>104</td><td>2017</td><td>2</td></tr>",
                            "<tr><td>104</td><td>Részösszeg</td><td>4</td></tr>",
                            "<tr><td>105</td><td>2016</td><td>1</td></tr>",
                            "<tr><td>105</td><td>2017</td><td>1</td></tr>",
                            "<tr><td>105</td><td>Részösszeg</td><td>2</td></tr>",
                            "<tr><td>106</td><td>2016</td><td>5</td></tr>",
                            "<tr><td>106</td><td>2017</td><td>1</td></tr>",
                            "<tr><td>106</td><td>Részösszeg</td><td>6</td></tr>",
                            "<tr><td>107</td><td>2016</td><td>3</td></tr>",
                            "<tr><td>107</td><td>2017</td><td>2</td></tr>",
                            "<tr><td>107</td><td>Részösszeg</td><td>5</td></tr>",
                            "<tr><td>108</td><td>2016</td><td>2</td></tr>",
                            "<tr><td>108</td><td>Részösszeg</td><td>2</td></tr>",
                            "<tr><td>109</td><td>2016</td><td>6</td></tr>",
                            "<tr><td>109</td><td>2017</td><td>1</td></tr>",
                            "<tr><td>109</td><td>Részösszeg</td><td>7</td></tr>",
                            "<tr><td>110</td><td>2016</td><td>6</td></tr>",
                            "<tr><td>110</td><td>2017</td><td>2</td></tr>",
                            "<tr><td>110</td><td>Részösszeg</td><td>8</td></tr>",
                            "<tr><td>111</td><td>2016</td><td>5</td></tr>",
                            "<tr><td>111</td><td>Részösszeg</td><td>5</td></tr>",
                            "<tr><td>112</td><td>2016</td><td>4</td></tr>",
                            "<tr><td>112</td><td>2017</td><td>1</td></tr>",
                            "<tr><td>112</td><td>Részösszeg</td><td>5</td></tr>",
                            "<tr><td>113</td><td>2016</td><td>3</td></tr>",
                            "<tr><td>113</td><td>2017</td><td>2</td></tr>",
                            "<tr><td>113</td><td>Részösszeg</td><td>5</td></tr>",
                            "<tr><td>114</td><td>2016</td><td>3</td></tr>",
                            "<tr><td>114</td><td>2017</td><td>1</td></tr>",
                            "<tr><td>114</td><td>Részösszeg</td><td>4</td></tr>",
                            "<tr><td>115</td><td>2016</td><td>5</td></tr>",
                            "<tr><td>115</td><td>2017</td><td>2</td></tr>",
                            "<tr><td>115</td><td>Részösszeg</td><td>7</td></tr>",
                            "<tr><td>116</td><td>2017</td><td>2</td></tr>",
                            "<tr><td>116</td><td>Részösszeg</td><td>2</td></tr>",
                            "<tr><td>117</td><td>2016</td><td>7</td></tr>",
                            "<tr><td>117</td><td>2017</td><td>1</td></tr>",
                            "<tr><td>117</td><td>Részösszeg</td><td>8</td></tr>",
                            "<tr><td>118</td><td>2016</td><td>5</td></tr>",
                            "<tr><td>118</td><td>2017</td><td>2</td></tr>",
                            "<tr><td>118</td><td>Részösszeg</td><td>7</td></tr>",
                            "<tr><td>119</td><td>2016</td><td>3</td></tr>",
                            "<tr><td>119</td><td>2017</td><td>2</td></tr>",
                            "<tr><td>119</td><td>Részösszeg</td><td>5</td></tr>",
                            "<tr><td>120</td><td>2016</td><td>4</td></tr>",
                            "<tr><td>120</td><td>2017</td><td>2</td></tr>",
                            "<tr><td>120</td><td>Részösszeg</td><td>6</td></tr>",
                            "<tr><td>121</td><td>2016</td><td>8</td></tr>",
                            "<tr><td>121</td><td>Részösszeg</td><td>8</td></tr>",
                            "<tr><td>122</td><td>2016</td><td>8</td></tr>",
                            "<tr><td>122</td><td>2017</td><td>1</td></tr>",
                            "<tr><td>122</td><td>Részösszeg</td><td>9</td></tr>",
                            "<tr><td>123</td><td>2016</td><td>5</td></tr>",
                            "<tr><td>123</td><td>Részösszeg</td><td>5</td></tr>",
                            "<tr><td>124</td><td>2016</td><td>4</td></tr>",
                            "<tr><td>124</td><td>2017</td><td>2</td></tr>",
                            "<tr><td>124</td><td>Részösszeg</td><td>6</td></tr>",
                            "<tr><td>125</td><td>2016</td><td>1</td></tr>",
                            "<tr><td>125</td><td>Részösszeg</td><td>1</td></tr>",
                            "<tr><td>126</td><td>2016</td><td>4</td></tr>",
                            "<tr><td>126</td><td>2017</td><td>2</td></tr>",
                            "<tr><td>126</td><td>Részösszeg</td><td>6</td></tr>",
                            "<tr><td>127</td><td>2016</td><td>6</td></tr>",
                            "<tr><td>127</td><td>2017</td><td>1</td></tr>",
                            "<tr><td>127</td><td>Részösszeg</td><td>7</td></tr>",
                            "<tr><td>128</td><td>2016</td><td>3</td></tr>",
                            "<tr><td>128</td><td>2017</td><td>2</td></tr>",
                            "<tr><td>128</td><td>Részösszeg</td><td>5</td></tr>",
                            "<tr><td>129</td><td>2016</td><td>2</td></tr>",
                            "<tr><td>129</td><td>2017</td><td>2</td></tr>",
                            "<tr><td>129</td><td>Részösszeg</td><td>4</td></tr>",
                            "<tr><td>130</td><td>2016</td><td>5</td></tr>",
                            "<tr><td>130</td><td>2017</td><td>1</td></tr>",
                            "<tr><td>130</td><td>Részösszeg</td><td>6</td></tr>",
                            "<tr><td>131</td><td>2016</td><td>4</td></tr>",
                            "<tr><td>131</td><td>2017</td><td>1</td></tr>",
                            "<tr><td>131</td><td>Részösszeg</td><td>5</td></tr>",
                            "<tr><td>132</td><td>2016</td><td>5</td></tr>",
                            "<tr><td>132</td><td>2017</td><td>1</td></tr>",
                            "<tr><td>132</td><td>Részösszeg</td><td>6</td></tr>",
                            "<tr><td>133</td><td>2016</td><td>5</td></tr>",
                            "<tr><td>133</td><td>2017</td><td>1</td></tr>",
                            "<tr><td>133</td><td>Részösszeg</td><td>6</td></tr>",
                            "<tr><td>134</td><td>2016</td><td>5</td></tr>",
                            "<tr><td>134</td><td>2017</td><td>1</td></tr>",
                            "<tr><td>134</td><td>Részösszeg</td><td>6</td></tr>",
                            "<tr><td>135</td><td>2016</td><td>3</td></tr>",
                            "<tr><td>135</td><td>Részösszeg</td><td>3</td></tr>",
                            "<tr><td>136</td><td>2016</td><td>3</td></tr>",
                            "<tr><td>136</td><td>Részösszeg</td><td>3</td></tr>",
                            "<tr><td>137</td><td>2016</td><td>6</td></tr>",
                            "<tr><td>137</td><td>Részösszeg</td><td>6</td></tr>",
                            "<tr><td>138</td><td>2016</td><td>7</td></tr>",
                            "<tr><td>138</td><td>Részösszeg</td><td>7</td></tr>",
                            "<tr><td>139</td><td>2016</td><td>5</td></tr>",
                            "<tr><td>139</td><td>2017</td><td>2</td></tr>",
                            "<tr><td>139</td><td>Részösszeg</td><td>7</td></tr>",
                            "<tr><td>140</td><td>2016</td><td>8</td></tr>",
                            "<tr><td>140</td><td>Részösszeg</td><td>8</td></tr>",
                            "<tr><td>141</td><td>2016</td><td>6</td></tr>",
                            "<tr><td>141</td><td>Részösszeg</td><td>6</td></tr>",
                            "<tr><td>142</td><td>2016</td><td>1</td></tr>",
                            "<tr><td>142</td><td>2017</td><td>1</td></tr>",
                            "<tr><td>142</td><td>Részösszeg</td><td>2</td></tr>",
                            "<tr><td>143</td><td>2016</td><td>6</td></tr>",
                            "<tr><td>143</td><td>2017</td><td>1</td></tr>",
                            "<tr><td>143</td><td>Részösszeg</td><td>7</td></tr>",
                            "<tr><td>144</td><td>2016</td><td>4</td></tr>",
                            "<tr><td>144</td><td>2017</td><td>1</td></tr>",
                            "<tr><td>144</td><td>Részösszeg</td><td>5</td></tr>",
                            "<tr><td>145</td><td>2016</td><td>5</td></tr>",
                            "<tr><td>145</td><td>2017</td><td>1</td></tr>",
                            "<tr><td>145</td><td>Részösszeg</td><td>6</td></tr>",
                            "<tr><td>146</td><td>2016</td><td>5</td></tr>",
                            "<tr><td>146</td><td>2017</td><td>1</td></tr>",
                            "<tr><td>146</td><td>Részösszeg</td><td>6</td></tr>",
                            "<tr><td>147</td><td>2016</td><td>1</td></tr>",
                            "<tr><td>147</td><td>Részösszeg</td><td>1</td></tr>",
                            "<tr><td>148</td><td>2016</td><td>5</td></tr>",
                            "<tr><td>148</td><td>2017</td><td>1</td></tr>",
                            "<tr><td>148</td><td>Részösszeg</td><td>6</td></tr>",
                            "<tr><td>149</td><td>2016</td><td>6</td></tr>",
                            "<tr><td>149</td><td>2017</td><td>1</td></tr>",
                            "<tr><td>149</td><td>Részösszeg</td><td>7</td></tr>",
                            "<tr><td>150</td><td>2016</td><td>5</td></tr>",
                            "<tr><td>150</td><td>2017</td><td>1</td></tr>",
                            "<tr><td>150</td><td>Részösszeg</td><td>6</td></tr>",
                            "<tr><td>151</td><td>2016</td><td>3</td></tr>",
                            "<tr><td>151</td><td>Részösszeg</td><td>3</td></tr>",
                            "<tr><td>152</td><td>2016</td><td>3</td></tr>",
                            "<tr><td>152</td><td>2017</td><td>1</td></tr>",
                            "<tr><td>152</td><td>Részösszeg</td><td>4</td></tr>",
                            "<tr><td>153</td><td>2016</td><td>2</td></tr>",
                            "<tr><td>153</td><td>2017</td><td>3</td></tr>",
                            "<tr><td>153</td><td>Részösszeg</td><td>5</td></tr>",
                            "<tr><td>154</td><td>2016</td><td>4</td></tr>",
                            "<tr><td>154</td><td>2017</td><td>1</td></tr>",
                            "<tr><td>154</td><td>Részösszeg</td><td>5</td></tr>",
                            "<tr><td>155</td><td>2016</td><td>4</td></tr>",
                            "<tr><td>155</td><td>2017</td><td>1</td></tr>",
                            "<tr><td>155</td><td>Részösszeg</td><td>5</td></tr>",
                            "<tr><td>156</td><td>2016</td><td>4</td></tr>",
                            "<tr><td>156</td><td>2017</td><td>3</td></tr>",
                            "<tr><td>156</td><td>Részösszeg</td><td>7</td></tr>",
                            "<tr><td>157</td><td>2016</td><td>4</td></tr>",
                            "<tr><td>157</td><td>2017</td><td>1</td></tr>",
                            "<tr><td>157</td><td>Részösszeg</td><td>5</td></tr>",
                            "<tr><td>158</td><td>2016</td><td>3</td></tr>",
                            "<tr><td>158</td><td>Részösszeg</td><td>3</td></tr>",
                            "<tr><td>160</td><td>2016</td><td>4</td></tr>",
                            "<tr><td>160</td><td>2017</td><td>1</td></tr>",
                            "<tr><td>160</td><td>Részösszeg</td><td>5</td></tr>",
                            "<tr><td>161</td><td>2016</td><td>5</td></tr>",
                            "<tr><td>161</td><td>2017</td><td>1</td></tr>",
                            "<tr><td>161</td><td>Részösszeg</td><td>6</td></tr>",
                            "<tr><td>162</td><td>2016</td><td>3</td></tr>",
                            "<tr><td>162</td><td>Részösszeg</td><td>3</td></tr>",
                            "<tr><td>163</td><td>2016</td><td>6</td></tr>",
                            "<tr><td>163</td><td>2017</td><td>1</td></tr>",
                            "<tr><td>163</td><td>Részösszeg</td><td>7</td></tr>",
                            "<tr><td>164</td><td>2016</td><td>5</td></tr>",
                            "<tr><td>164</td><td>Részösszeg</td><td>5</td></tr>",
                            "<tr><td>165</td><td>2016</td><td>7</td></tr>",
                            "<tr><td>165</td><td>Részösszeg</td><td>7</td></tr>",
                            "<tr><td>166</td><td>2016</td><td>2</td></tr>",
                            "<tr><td>166</td><td>2017</td><td>1</td></tr>",
                            "<tr><td>166</td><td>Részösszeg</td><td>3</td></tr>",
                            "<tr><td>167</td><td>2016</td><td>1</td></tr>",
                            "<tr><td>167</td><td>2017</td><td>1</td></tr>",
                            "<tr><td>167</td><td>Részösszeg</td><td>2</td></tr>",
                            "<tr><td>168</td><td>2016</td><td>5</td></tr>",
                            "<tr><td>168</td><td>Részösszeg</td><td>5</td></tr>",
                            "<tr><td>169</td><td>2016</td><td>5</td></tr>",
                            "<tr><td>169</td><td>2017</td><td>1</td></tr>",
                            "<tr><td>169</td><td>Részösszeg</td><td>6</td></tr>",
                            "<tr><td>170</td><td>2016</td><td>5</td></tr>",
                            "<tr><td>170</td><td>Részösszeg</td><td>5</td></tr>",
                            "<tr><td>171</td><td>2016</td><td>4</td></tr>",
                            "<tr><td>171</td><td>2017</td><td>1</td></tr>",
                            "<tr><td>171</td><td>Részösszeg</td><td>5</td></tr>",
                            "<tr><td>172</td><td>2016</td><td>7</td></tr>",
                            "<tr><td>172</td><td>2017</td><td>2</td></tr>",
                            "<tr><td>172</td><td>Részösszeg</td><td>9</td></tr>",
                            "<tr><td>173</td><td>2016</td><td>3</td></tr>",
                            "<tr><td>173</td><td>2017</td><td>1</td></tr>",
                            "<tr><td>173</td><td>Részösszeg</td><td>4</td></tr>",
                            "<tr><td>174</td><td>2016</td><td>4</td></tr>",
                            "<tr><td>174</td><td>Részösszeg</td><td>4</td></tr>",
                            "<tr><td>175</td><td>2016</td><td>5</td></tr>",
                            "<tr><td>175</td><td>Részösszeg</td><td>5</td></tr>",
                            "<tr><td>176</td><td>2016</td><td>4</td></tr>",
                            "<tr><td>176</td><td>2017</td><td>2</td></tr>",
                            "<tr><td>176</td><td>Részösszeg</td><td>6</td></tr>",
                            "<tr><td>177</td><td>2016</td><td>3</td></tr>",
                            "<tr><td>177</td><td>2017</td><td>1</td></tr>",
                            "<tr><td>177</td><td>Részösszeg</td><td>4</td></tr>",
                            "<tr><td>178</td><td>2016</td><td>4</td></tr>",
                            "<tr><td>178</td><td>Részösszeg</td><td>4</td></tr>",
                            "<tr><td>179</td><td>2016</td><td>2</td></tr>",
                            "<tr><td>179</td><td>2017</td><td>1</td></tr>",
                            "<tr><td>179</td><td>Részösszeg</td><td>3</td></tr>",
                            "<tr><td>180</td><td>2016</td><td>1</td></tr>",
                            "<tr><td>180</td><td>2017</td><td>2</td></tr>",
                            "<tr><td>180</td><td>Részösszeg</td><td>3</td></tr>",
                            "<tr><td>181</td><td>2016</td><td>6</td></tr>",
                            "<tr><td>181</td><td>Részösszeg</td><td>6</td></tr>",
                            "<tr><td>182</td><td>2016</td><td>10</td></tr>",
                            "<tr><td>182</td><td>2017</td><td>2</td></tr>",
                            "<tr><td>182</td><td>Részösszeg</td><td>12</td></tr>",
                            "<tr><td>183</td><td>2016</td><td>3</td></tr>",
                            "<tr><td>183</td><td>2017</td><td>1</td></tr>",
                            "<tr><td>183</td><td>Részösszeg</td><td>4</td></tr>",
                            "<tr><td>184</td><td>2016</td><td>4</td></tr>",
                            "<tr><td>184</td><td>Részösszeg</td><td>4</td></tr>",
                            "<tr><td>185</td><td>2016</td><td>10</td></tr>",
                            "<tr><td>185</td><td>2017</td><td>2</td></tr>",
                            "<tr><td>185</td><td>Részösszeg</td><td>12</td></tr>",
                            "<tr><td>186</td><td>2016</td><td>3</td></tr>",
                            "<tr><td>186</td><td>2017</td><td>1</td></tr>",
                            "<tr><td>186</td><td>Részösszeg</td><td>4</td></tr>",
                            "<tr><td>187</td><td>2016</td><td>7</td></tr>",
                            "<tr><td>187</td><td>Részösszeg</td><td>7</td></tr>",
                            "<tr><td>188</td><td>2016</td><td>6</td></tr>",
                            "<tr><td>188</td><td>Részösszeg</td><td>6</td></tr>",
                            "<tr><td>189</td><td>2016</td><td>3</td></tr>",
                            "<tr><td>189</td><td>2017</td><td>2</td></tr>",
                            "<tr><td>189</td><td>Részösszeg</td><td>5</td></tr>",
                            "<tr><td>190</td><td>2016</td><td>4</td></tr>",
                            "<tr><td>190</td><td>2017</td><td>1</td></tr>",
                            "<tr><td>190</td><td>Részösszeg</td><td>5</td></tr>",
                            "<tr><td>191</td><td>2016</td><td>3</td></tr>",
                            "<tr><td>191</td><td>2017</td><td>2</td></tr>",
                            "<tr><td>191</td><td>Részösszeg</td><td>5</td></tr>",
                            "<tr><td>192</td><td>2016</td><td>2</td></tr>",
                            "<tr><td>192</td><td>Részösszeg</td><td>2</td></tr>",
                            "<tr><td>193</td><td>2016</td><td>7</td></tr>",
                            "<tr><td>193</td><td>Részösszeg</td><td>7</td></tr>",
                            "<tr><td>194</td><td>2016</td><td>1</td></tr>",
                            "<tr><td>194</td><td>Részösszeg</td><td>1</td></tr>",
                            "<tr><td>195</td><td>2016</td><td>4</td></tr>",
                            "<tr><td>195</td><td>2017</td><td>2</td></tr>",
                            "<tr><td>195</td><td>Részösszeg</td><td>6</td></tr>",
                            "<tr><td>196</td><td>2016</td><td>4</td></tr>",
                            "<tr><td>196</td><td>Részösszeg</td><td>4</td></tr>",
                            "<tr><td>197</td><td>2016</td><td>6</td></tr>",
                            "<tr><td>197</td><td>Részösszeg</td><td>6</td></tr>",
                            "<tr><td>198</td><td>2016</td><td>7</td></tr>",
                            "<tr><td>198</td><td>2017</td><td>1</td></tr>",
                            "<tr><td>198</td><td>Részösszeg</td><td>8</td></tr>",
                            "<tr><td>Végösszeg</td><td>Végösszeg</td><td>1027</td></tr>",
                            "</table>"
                        ]
                    }
                }
            ],
            "execution_count": 11
        }
    ]
}