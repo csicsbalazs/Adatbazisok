{
    "metadata": {
        "kernelspec": {
            "name": "SQL",
            "display_name": "SQL",
            "language": "sql"
        },
        "language_info": {
            "name": "sql",
            "version": ""
        }
    },
    "nbformat_minor": 2,
    "nbformat": 4,
    "cells": [
        {
            "cell_type": "code",
            "source": [
                "--FELADAT 1\r\n",
                "SELECT SZOBA_FK AS 'Szoba azonosítója',\r\n",
                "       COUNT(*) AS 'Foglalásszám'\r\n",
                "FROM Foglalas\r\n",
                "WHERE FELNOTT_SZAM > GYERMEK_SZAM\r\n",
                "GROUP BY SZOBA_FK\r\n",
                "HAVING COUNT(*) >= 2 \r\n",
                "ORDER BY 'Foglalásszám' ASC\r\n",
                "\r\n",
                ""
            ],
            "metadata": {
                "azdata_cell_guid": "916f7feb-2914-4ad6-b188-810fa7014c66",
                "language": "sql"
            },
            "outputs": [
                {
                    "output_type": "display_data",
                    "data": {
                        "text/html": "(165 rows affected)"
                    },
                    "metadata": {}
                },
                {
                    "output_type": "display_data",
                    "data": {
                        "text/html": "Total execution time: 00:00:00.048"
                    },
                    "metadata": {}
                },
                {
                    "output_type": "execute_result",
                    "execution_count": 1,
                    "data": {
                        "application/vnd.dataresource+json": {
                            "schema": {
                                "fields": [
                                    {
                                        "name": "Szoba azonosítója"
                                    },
                                    {
                                        "name": "Foglalásszám"
                                    }
                                ]
                            },
                            "data": [
                                {
                                    "Szoba azonosítója": "2",
                                    "Foglalásszám": "2"
                                },
                                {
                                    "Szoba azonosítója": "5",
                                    "Foglalásszám": "2"
                                },
                                {
                                    "Szoba azonosítója": "17",
                                    "Foglalásszám": "2"
                                },
                                {
                                    "Szoba azonosítója": "22",
                                    "Foglalásszám": "2"
                                },
                                {
                                    "Szoba azonosítója": "30",
                                    "Foglalásszám": "2"
                                },
                                {
                                    "Szoba azonosítója": "37",
                                    "Foglalásszám": "2"
                                },
                                {
                                    "Szoba azonosítója": "47",
                                    "Foglalásszám": "2"
                                },
                                {
                                    "Szoba azonosítója": "71",
                                    "Foglalásszám": "2"
                                },
                                {
                                    "Szoba azonosítója": "72",
                                    "Foglalásszám": "2"
                                },
                                {
                                    "Szoba azonosítója": "75",
                                    "Foglalásszám": "2"
                                },
                                {
                                    "Szoba azonosítója": "76",
                                    "Foglalásszám": "2"
                                },
                                {
                                    "Szoba azonosítója": "67",
                                    "Foglalásszám": "2"
                                },
                                {
                                    "Szoba azonosítója": "69",
                                    "Foglalásszám": "2"
                                },
                                {
                                    "Szoba azonosítója": "85",
                                    "Foglalásszám": "2"
                                },
                                {
                                    "Szoba azonosítója": "91",
                                    "Foglalásszám": "2"
                                },
                                {
                                    "Szoba azonosítója": "100",
                                    "Foglalásszám": "2"
                                },
                                {
                                    "Szoba azonosítója": "109",
                                    "Foglalásszám": "2"
                                },
                                {
                                    "Szoba azonosítója": "113",
                                    "Foglalásszám": "2"
                                },
                                {
                                    "Szoba azonosítója": "118",
                                    "Foglalásszám": "2"
                                },
                                {
                                    "Szoba azonosítója": "120",
                                    "Foglalásszám": "2"
                                },
                                {
                                    "Szoba azonosítója": "136",
                                    "Foglalásszám": "2"
                                },
                                {
                                    "Szoba azonosítója": "137",
                                    "Foglalásszám": "2"
                                },
                                {
                                    "Szoba azonosítója": "144",
                                    "Foglalásszám": "2"
                                },
                                {
                                    "Szoba azonosítója": "145",
                                    "Foglalásszám": "2"
                                },
                                {
                                    "Szoba azonosítója": "151",
                                    "Foglalásszám": "2"
                                },
                                {
                                    "Szoba azonosítója": "156",
                                    "Foglalásszám": "2"
                                },
                                {
                                    "Szoba azonosítója": "157",
                                    "Foglalásszám": "2"
                                },
                                {
                                    "Szoba azonosítója": "160",
                                    "Foglalásszám": "2"
                                },
                                {
                                    "Szoba azonosítója": "162",
                                    "Foglalásszám": "2"
                                },
                                {
                                    "Szoba azonosítója": "167",
                                    "Foglalásszám": "2"
                                },
                                {
                                    "Szoba azonosítója": "176",
                                    "Foglalásszám": "2"
                                },
                                {
                                    "Szoba azonosítója": "179",
                                    "Foglalásszám": "2"
                                },
                                {
                                    "Szoba azonosítója": "188",
                                    "Foglalásszám": "2"
                                },
                                {
                                    "Szoba azonosítója": "193",
                                    "Foglalásszám": "2"
                                },
                                {
                                    "Szoba azonosítója": "196",
                                    "Foglalásszám": "2"
                                },
                                {
                                    "Szoba azonosítója": "191",
                                    "Foglalásszám": "3"
                                },
                                {
                                    "Szoba azonosítója": "183",
                                    "Foglalásszám": "3"
                                },
                                {
                                    "Szoba azonosítója": "173",
                                    "Foglalásszám": "3"
                                },
                                {
                                    "Szoba azonosítója": "166",
                                    "Foglalásszám": "3"
                                },
                                {
                                    "Szoba azonosítója": "175",
                                    "Foglalásszám": "3"
                                },
                                {
                                    "Szoba azonosítója": "169",
                                    "Foglalásszám": "3"
                                },
                                {
                                    "Szoba azonosítója": "170",
                                    "Foglalásszám": "3"
                                },
                                {
                                    "Szoba azonosítója": "161",
                                    "Foglalásszám": "3"
                                },
                                {
                                    "Szoba azonosítója": "158",
                                    "Foglalásszám": "3"
                                },
                                {
                                    "Szoba azonosítója": "152",
                                    "Foglalásszám": "3"
                                },
                                {
                                    "Szoba azonosítója": "154",
                                    "Foglalásszám": "3"
                                },
                                {
                                    "Szoba azonosítója": "155",
                                    "Foglalásszám": "3"
                                },
                                {
                                    "Szoba azonosítója": "146",
                                    "Foglalásszám": "3"
                                },
                                {
                                    "Szoba azonosítója": "135",
                                    "Foglalásszám": "3"
                                },
                                {
                                    "Szoba azonosítója": "122",
                                    "Foglalásszám": "3"
                                },
                                {
                                    "Szoba azonosítója": "129",
                                    "Foglalásszám": "3"
                                },
                                {
                                    "Szoba azonosítója": "104",
                                    "Foglalásszám": "3"
                                },
                                {
                                    "Szoba azonosítója": "90",
                                    "Foglalásszám": "3"
                                },
                                {
                                    "Szoba azonosítója": "66",
                                    "Foglalásszám": "3"
                                },
                                {
                                    "Szoba azonosítója": "84",
                                    "Foglalásszám": "3"
                                },
                                {
                                    "Szoba azonosítója": "93",
                                    "Foglalásszám": "3"
                                },
                                {
                                    "Szoba azonosítója": "95",
                                    "Foglalásszám": "3"
                                },
                                {
                                    "Szoba azonosítója": "81",
                                    "Foglalásszám": "3"
                                },
                                {
                                    "Szoba azonosítója": "77",
                                    "Foglalásszám": "3"
                                },
                                {
                                    "Szoba azonosítója": "78",
                                    "Foglalásszám": "3"
                                },
                                {
                                    "Szoba azonosítója": "50",
                                    "Foglalásszám": "3"
                                },
                                {
                                    "Szoba azonosítója": "51",
                                    "Foglalásszám": "3"
                                },
                                {
                                    "Szoba azonosítója": "46",
                                    "Foglalásszám": "3"
                                },
                                {
                                    "Szoba azonosítója": "55",
                                    "Foglalásszám": "3"
                                },
                                {
                                    "Szoba azonosítója": "57",
                                    "Foglalásszám": "3"
                                },
                                {
                                    "Szoba azonosítója": "62",
                                    "Foglalásszám": "3"
                                },
                                {
                                    "Szoba azonosítója": "63",
                                    "Foglalásszám": "3"
                                },
                                {
                                    "Szoba azonosítója": "29",
                                    "Foglalásszám": "3"
                                },
                                {
                                    "Szoba azonosítója": "40",
                                    "Foglalásszám": "3"
                                },
                                {
                                    "Szoba azonosítója": "33",
                                    "Foglalásszám": "3"
                                },
                                {
                                    "Szoba azonosítója": "34",
                                    "Foglalásszám": "3"
                                },
                                {
                                    "Szoba azonosítója": "23",
                                    "Foglalásszám": "3"
                                },
                                {
                                    "Szoba azonosítója": "24",
                                    "Foglalásszám": "3"
                                },
                                {
                                    "Szoba azonosítója": "18",
                                    "Foglalásszám": "3"
                                },
                                {
                                    "Szoba azonosítója": "14",
                                    "Foglalásszám": "3"
                                },
                                {
                                    "Szoba azonosítója": "3",
                                    "Foglalásszám": "3"
                                },
                                {
                                    "Szoba azonosítója": "9",
                                    "Foglalásszám": "4"
                                },
                                {
                                    "Szoba azonosítója": "10",
                                    "Foglalásszám": "4"
                                },
                                {
                                    "Szoba azonosítója": "11",
                                    "Foglalásszám": "4"
                                },
                                {
                                    "Szoba azonosítója": "15",
                                    "Foglalásszám": "4"
                                },
                                {
                                    "Szoba azonosítója": "19",
                                    "Foglalásszám": "4"
                                },
                                {
                                    "Szoba azonosítója": "36",
                                    "Foglalásszám": "4"
                                },
                                {
                                    "Szoba azonosítója": "39",
                                    "Foglalásszám": "4"
                                },
                                {
                                    "Szoba azonosítója": "13",
                                    "Foglalásszám": "4"
                                },
                                {
                                    "Szoba azonosítója": "59",
                                    "Foglalásszám": "4"
                                },
                                {
                                    "Szoba azonosítója": "61",
                                    "Foglalásszám": "4"
                                },
                                {
                                    "Szoba azonosítója": "54",
                                    "Foglalásszám": "4"
                                },
                                {
                                    "Szoba azonosítója": "45",
                                    "Foglalásszám": "4"
                                },
                                {
                                    "Szoba azonosítója": "43",
                                    "Foglalásszám": "4"
                                },
                                {
                                    "Szoba azonosítója": "79",
                                    "Foglalásszám": "4"
                                },
                                {
                                    "Szoba azonosítója": "73",
                                    "Foglalásszám": "4"
                                },
                                {
                                    "Szoba azonosítója": "86",
                                    "Foglalásszám": "4"
                                },
                                {
                                    "Szoba azonosítója": "98",
                                    "Foglalásszám": "4"
                                },
                                {
                                    "Szoba azonosítója": "99",
                                    "Foglalásszám": "4"
                                },
                                {
                                    "Szoba azonosítója": "106",
                                    "Foglalásszám": "4"
                                },
                                {
                                    "Szoba azonosítója": "107",
                                    "Foglalásszám": "4"
                                },
                                {
                                    "Szoba azonosítója": "124",
                                    "Foglalásszám": "4"
                                },
                                {
                                    "Szoba azonosítója": "126",
                                    "Foglalásszám": "4"
                                },
                                {
                                    "Szoba azonosítója": "119",
                                    "Foglalásszám": "4"
                                },
                                {
                                    "Szoba azonosítója": "112",
                                    "Foglalásszám": "4"
                                },
                                {
                                    "Szoba azonosítója": "117",
                                    "Foglalásszám": "4"
                                },
                                {
                                    "Szoba azonosítója": "141",
                                    "Foglalásszám": "4"
                                },
                                {
                                    "Szoba azonosítója": "131",
                                    "Foglalásszám": "4"
                                },
                                {
                                    "Szoba azonosítója": "132",
                                    "Foglalásszám": "4"
                                },
                                {
                                    "Szoba azonosítója": "133",
                                    "Foglalásszám": "4"
                                },
                                {
                                    "Szoba azonosítója": "134",
                                    "Foglalásszám": "4"
                                },
                                {
                                    "Szoba azonosítója": "153",
                                    "Foglalásszám": "4"
                                },
                                {
                                    "Szoba azonosítója": "164",
                                    "Foglalásszám": "4"
                                },
                                {
                                    "Szoba azonosítója": "174",
                                    "Foglalásszám": "4"
                                },
                                {
                                    "Szoba azonosítója": "184",
                                    "Foglalásszám": "4"
                                },
                                {
                                    "Szoba azonosítója": "190",
                                    "Foglalásszám": "5"
                                },
                                {
                                    "Szoba azonosítója": "195",
                                    "Foglalásszám": "5"
                                },
                                {
                                    "Szoba azonosítója": "181",
                                    "Foglalásszám": "5"
                                },
                                {
                                    "Szoba azonosítója": "165",
                                    "Foglalásszám": "5"
                                },
                                {
                                    "Szoba azonosítója": "163",
                                    "Foglalásszám": "5"
                                },
                                {
                                    "Szoba azonosítója": "171",
                                    "Foglalásszám": "5"
                                },
                                {
                                    "Szoba azonosítója": "138",
                                    "Foglalásszám": "5"
                                },
                                {
                                    "Szoba azonosítója": "143",
                                    "Foglalásszám": "5"
                                },
                                {
                                    "Szoba azonosítója": "140",
                                    "Foglalásszám": "5"
                                },
                                {
                                    "Szoba azonosítója": "148",
                                    "Foglalásszám": "5"
                                },
                                {
                                    "Szoba azonosítója": "149",
                                    "Foglalásszám": "5"
                                },
                                {
                                    "Szoba azonosítója": "115",
                                    "Foglalásszám": "5"
                                },
                                {
                                    "Szoba azonosítója": "110",
                                    "Foglalásszám": "5"
                                },
                                {
                                    "Szoba azonosítója": "127",
                                    "Foglalásszám": "5"
                                },
                                {
                                    "Szoba azonosítója": "130",
                                    "Foglalásszám": "5"
                                },
                                {
                                    "Szoba azonosítója": "123",
                                    "Foglalásszám": "5"
                                },
                                {
                                    "Szoba azonosítója": "121",
                                    "Foglalásszám": "5"
                                },
                                {
                                    "Szoba azonosítója": "97",
                                    "Foglalásszám": "5"
                                },
                                {
                                    "Szoba azonosítója": "92",
                                    "Foglalásszám": "5"
                                },
                                {
                                    "Szoba azonosítója": "87",
                                    "Foglalásszám": "5"
                                },
                                {
                                    "Szoba azonosítója": "88",
                                    "Foglalásszám": "5"
                                },
                                {
                                    "Szoba azonosítója": "82",
                                    "Foglalásszám": "5"
                                },
                                {
                                    "Szoba azonosítója": "83",
                                    "Foglalásszám": "5"
                                },
                                {
                                    "Szoba azonosítója": "80",
                                    "Foglalásszám": "5"
                                },
                                {
                                    "Szoba azonosítója": "52",
                                    "Foglalásszám": "5"
                                },
                                {
                                    "Szoba azonosítója": "49",
                                    "Foglalásszám": "5"
                                },
                                {
                                    "Szoba azonosítója": "64",
                                    "Foglalásszám": "5"
                                },
                                {
                                    "Szoba azonosítója": "38",
                                    "Foglalásszám": "5"
                                },
                                {
                                    "Szoba azonosítója": "42",
                                    "Foglalásszám": "5"
                                },
                                {
                                    "Szoba azonosítója": "27",
                                    "Foglalásszám": "5"
                                },
                                {
                                    "Szoba azonosítója": "28",
                                    "Foglalásszám": "5"
                                },
                                {
                                    "Szoba azonosítója": "20",
                                    "Foglalásszám": "5"
                                },
                                {
                                    "Szoba azonosítója": "8",
                                    "Foglalásszám": "5"
                                },
                                {
                                    "Szoba azonosítója": "4",
                                    "Foglalásszám": "5"
                                },
                                {
                                    "Szoba azonosítója": "6",
                                    "Foglalásszám": "5"
                                },
                                {
                                    "Szoba azonosítója": "7",
                                    "Foglalásszám": "6"
                                },
                                {
                                    "Szoba azonosítója": "35",
                                    "Foglalásszám": "6"
                                },
                                {
                                    "Szoba azonosítója": "48",
                                    "Foglalásszám": "6"
                                },
                                {
                                    "Szoba azonosítója": "44",
                                    "Foglalásszám": "6"
                                },
                                {
                                    "Szoba azonosítója": "96",
                                    "Foglalásszám": "6"
                                },
                                {
                                    "Szoba azonosítója": "94",
                                    "Foglalásszám": "6"
                                },
                                {
                                    "Szoba azonosítója": "150",
                                    "Foglalásszám": "6"
                                },
                                {
                                    "Szoba azonosítója": "139",
                                    "Foglalásszám": "6"
                                },
                                {
                                    "Szoba azonosítója": "172",
                                    "Foglalásszám": "6"
                                },
                                {
                                    "Szoba azonosítója": "187",
                                    "Foglalásszám": "6"
                                },
                                {
                                    "Szoba azonosítója": "197",
                                    "Foglalásszám": "6"
                                },
                                {
                                    "Szoba azonosítója": "198",
                                    "Foglalásszám": "7"
                                },
                                {
                                    "Szoba azonosítója": "12",
                                    "Foglalásszám": "7"
                                },
                                {
                                    "Szoba azonosítója": "1",
                                    "Foglalásszám": "7"
                                },
                                {
                                    "Szoba azonosítója": "58",
                                    "Foglalásszám": "8"
                                },
                                {
                                    "Szoba azonosítója": "74",
                                    "Foglalásszám": "8"
                                },
                                {
                                    "Szoba azonosítója": "70",
                                    "Foglalásszám": "8"
                                },
                                {
                                    "Szoba azonosítója": "89",
                                    "Foglalásszám": "8"
                                },
                                {
                                    "Szoba azonosítója": "185",
                                    "Foglalásszám": "10"
                                },
                                {
                                    "Szoba azonosítója": "182",
                                    "Foglalásszám": "11"
                                }
                            ]
                        },
                        "text/html": "<table><tr><th>Szoba azonosítója</th><th>Foglalásszám</th></tr><tr><td>2</td><td>2</td></tr><tr><td>5</td><td>2</td></tr><tr><td>17</td><td>2</td></tr><tr><td>22</td><td>2</td></tr><tr><td>30</td><td>2</td></tr><tr><td>37</td><td>2</td></tr><tr><td>47</td><td>2</td></tr><tr><td>71</td><td>2</td></tr><tr><td>72</td><td>2</td></tr><tr><td>75</td><td>2</td></tr><tr><td>76</td><td>2</td></tr><tr><td>67</td><td>2</td></tr><tr><td>69</td><td>2</td></tr><tr><td>85</td><td>2</td></tr><tr><td>91</td><td>2</td></tr><tr><td>100</td><td>2</td></tr><tr><td>109</td><td>2</td></tr><tr><td>113</td><td>2</td></tr><tr><td>118</td><td>2</td></tr><tr><td>120</td><td>2</td></tr><tr><td>136</td><td>2</td></tr><tr><td>137</td><td>2</td></tr><tr><td>144</td><td>2</td></tr><tr><td>145</td><td>2</td></tr><tr><td>151</td><td>2</td></tr><tr><td>156</td><td>2</td></tr><tr><td>157</td><td>2</td></tr><tr><td>160</td><td>2</td></tr><tr><td>162</td><td>2</td></tr><tr><td>167</td><td>2</td></tr><tr><td>176</td><td>2</td></tr><tr><td>179</td><td>2</td></tr><tr><td>188</td><td>2</td></tr><tr><td>193</td><td>2</td></tr><tr><td>196</td><td>2</td></tr><tr><td>191</td><td>3</td></tr><tr><td>183</td><td>3</td></tr><tr><td>173</td><td>3</td></tr><tr><td>166</td><td>3</td></tr><tr><td>175</td><td>3</td></tr><tr><td>169</td><td>3</td></tr><tr><td>170</td><td>3</td></tr><tr><td>161</td><td>3</td></tr><tr><td>158</td><td>3</td></tr><tr><td>152</td><td>3</td></tr><tr><td>154</td><td>3</td></tr><tr><td>155</td><td>3</td></tr><tr><td>146</td><td>3</td></tr><tr><td>135</td><td>3</td></tr><tr><td>122</td><td>3</td></tr><tr><td>129</td><td>3</td></tr><tr><td>104</td><td>3</td></tr><tr><td>90</td><td>3</td></tr><tr><td>66</td><td>3</td></tr><tr><td>84</td><td>3</td></tr><tr><td>93</td><td>3</td></tr><tr><td>95</td><td>3</td></tr><tr><td>81</td><td>3</td></tr><tr><td>77</td><td>3</td></tr><tr><td>78</td><td>3</td></tr><tr><td>50</td><td>3</td></tr><tr><td>51</td><td>3</td></tr><tr><td>46</td><td>3</td></tr><tr><td>55</td><td>3</td></tr><tr><td>57</td><td>3</td></tr><tr><td>62</td><td>3</td></tr><tr><td>63</td><td>3</td></tr><tr><td>29</td><td>3</td></tr><tr><td>40</td><td>3</td></tr><tr><td>33</td><td>3</td></tr><tr><td>34</td><td>3</td></tr><tr><td>23</td><td>3</td></tr><tr><td>24</td><td>3</td></tr><tr><td>18</td><td>3</td></tr><tr><td>14</td><td>3</td></tr><tr><td>3</td><td>3</td></tr><tr><td>9</td><td>4</td></tr><tr><td>10</td><td>4</td></tr><tr><td>11</td><td>4</td></tr><tr><td>15</td><td>4</td></tr><tr><td>19</td><td>4</td></tr><tr><td>36</td><td>4</td></tr><tr><td>39</td><td>4</td></tr><tr><td>13</td><td>4</td></tr><tr><td>59</td><td>4</td></tr><tr><td>61</td><td>4</td></tr><tr><td>54</td><td>4</td></tr><tr><td>45</td><td>4</td></tr><tr><td>43</td><td>4</td></tr><tr><td>79</td><td>4</td></tr><tr><td>73</td><td>4</td></tr><tr><td>86</td><td>4</td></tr><tr><td>98</td><td>4</td></tr><tr><td>99</td><td>4</td></tr><tr><td>106</td><td>4</td></tr><tr><td>107</td><td>4</td></tr><tr><td>124</td><td>4</td></tr><tr><td>126</td><td>4</td></tr><tr><td>119</td><td>4</td></tr><tr><td>112</td><td>4</td></tr><tr><td>117</td><td>4</td></tr><tr><td>141</td><td>4</td></tr><tr><td>131</td><td>4</td></tr><tr><td>132</td><td>4</td></tr><tr><td>133</td><td>4</td></tr><tr><td>134</td><td>4</td></tr><tr><td>153</td><td>4</td></tr><tr><td>164</td><td>4</td></tr><tr><td>174</td><td>4</td></tr><tr><td>184</td><td>4</td></tr><tr><td>190</td><td>5</td></tr><tr><td>195</td><td>5</td></tr><tr><td>181</td><td>5</td></tr><tr><td>165</td><td>5</td></tr><tr><td>163</td><td>5</td></tr><tr><td>171</td><td>5</td></tr><tr><td>138</td><td>5</td></tr><tr><td>143</td><td>5</td></tr><tr><td>140</td><td>5</td></tr><tr><td>148</td><td>5</td></tr><tr><td>149</td><td>5</td></tr><tr><td>115</td><td>5</td></tr><tr><td>110</td><td>5</td></tr><tr><td>127</td><td>5</td></tr><tr><td>130</td><td>5</td></tr><tr><td>123</td><td>5</td></tr><tr><td>121</td><td>5</td></tr><tr><td>97</td><td>5</td></tr><tr><td>92</td><td>5</td></tr><tr><td>87</td><td>5</td></tr><tr><td>88</td><td>5</td></tr><tr><td>82</td><td>5</td></tr><tr><td>83</td><td>5</td></tr><tr><td>80</td><td>5</td></tr><tr><td>52</td><td>5</td></tr><tr><td>49</td><td>5</td></tr><tr><td>64</td><td>5</td></tr><tr><td>38</td><td>5</td></tr><tr><td>42</td><td>5</td></tr><tr><td>27</td><td>5</td></tr><tr><td>28</td><td>5</td></tr><tr><td>20</td><td>5</td></tr><tr><td>8</td><td>5</td></tr><tr><td>4</td><td>5</td></tr><tr><td>6</td><td>5</td></tr><tr><td>7</td><td>6</td></tr><tr><td>35</td><td>6</td></tr><tr><td>48</td><td>6</td></tr><tr><td>44</td><td>6</td></tr><tr><td>96</td><td>6</td></tr><tr><td>94</td><td>6</td></tr><tr><td>150</td><td>6</td></tr><tr><td>139</td><td>6</td></tr><tr><td>172</td><td>6</td></tr><tr><td>187</td><td>6</td></tr><tr><td>197</td><td>6</td></tr><tr><td>198</td><td>7</td></tr><tr><td>12</td><td>7</td></tr><tr><td>1</td><td>7</td></tr><tr><td>58</td><td>8</td></tr><tr><td>74</td><td>8</td></tr><tr><td>70</td><td>8</td></tr><tr><td>89</td><td>8</td></tr><tr><td>185</td><td>10</td></tr><tr><td>182</td><td>11</td></tr></table>"
                    },
                    "metadata": {}
                }
            ],
            "execution_count": 1
        },
        {
            "cell_type": "code",
            "source": [
                "--FELADAT 2\r\n",
                "SELECT CASE \r\n",
                "       WHEN YEAR(v.SZUL_DAT) >= 1985 THEN 'fiatal'\r\n",
                "       WHEN YEAR(v.SZUL_DAT) < 1970 THEN 'idős'\r\n",
                "       ELSE 'középkorú'\r\n",
                "       END AS 'Születési dátum kategória',\r\n",
                "       COUNT(*)\r\n",
                "FROM Vendeg v INNER JOIN Foglalas f ON v.USERNEV = f.UGYFEL_FK\r\n",
                "WHERE f.FELNOTT_SZAM + f.GYERMEK_SZAM >= 2\r\n",
                "GROUP BY CASE \r\n",
                "       WHEN YEAR(v.SZUL_DAT) >= 1985 THEN 'fiatal'\r\n",
                "       WHEN YEAR(v.SZUL_DAT) < 1970 THEN 'idős'\r\n",
                "       ELSE 'középkorú'\r\n",
                "       END\r\n",
                ""
            ],
            "metadata": {
                "azdata_cell_guid": "0dd3efa2-c264-4114-9f9e-bce4112bcce4",
                "language": "sql"
            },
            "outputs": [
                {
                    "output_type": "display_data",
                    "data": {
                        "text/html": "(3 rows affected)"
                    },
                    "metadata": {}
                },
                {
                    "output_type": "display_data",
                    "data": {
                        "text/html": "Total execution time: 00:00:00.031"
                    },
                    "metadata": {}
                },
                {
                    "output_type": "execute_result",
                    "execution_count": 2,
                    "data": {
                        "application/vnd.dataresource+json": {
                            "schema": {
                                "fields": [
                                    {
                                        "name": "Születési dátum kategória"
                                    },
                                    {
                                        "name": "(No column name)"
                                    }
                                ]
                            },
                            "data": [
                                {
                                    "Születési dátum kategória": "fiatal",
                                    "(No column name)": "365"
                                },
                                {
                                    "Születési dátum kategória": "idős",
                                    "(No column name)": "96"
                                },
                                {
                                    "Születési dátum kategória": "középkorú",
                                    "(No column name)": "419"
                                }
                            ]
                        },
                        "text/html": "<table><tr><th>Születési dátum kategória</th><th>(No column name)</th></tr><tr><td>fiatal</td><td>365</td></tr><tr><td>idős</td><td>96</td></tr><tr><td>középkorú</td><td>419</td></tr></table>"
                    },
                    "metadata": {}
                }
            ],
            "execution_count": 2
        }
    ]
}