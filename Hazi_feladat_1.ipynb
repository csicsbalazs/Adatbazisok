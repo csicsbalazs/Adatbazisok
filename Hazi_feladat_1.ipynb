{
    "metadata": {
        "kernelspec": {
            "name": "SQL",
            "display_name": "SQL",
            "language": "sql"
        },
        "language_info": {
            "name": "sql",
            "version": ""
        }
    },
    "nbformat_minor": 2,
    "nbformat": 4,
    "cells": [
        {
            "cell_type": "markdown",
            "source": [
                "Az adatprofilozás alapvetően az a folyamat, amelynek során az adathalmazunkat vizsgálva átfogó információkat szerzünk annak struktúrájáról, karakterisztikájáról és minőségéről. \n",
                "\n",
                "Alapvetően hasonló a feltáró adatelemzéshez (Exploratory Data Analysis) a vizsgálat módjában, viszont célban ezek eltérnek. Míg a feltáró adatelemzés során célunk az adatok által hordozott információk kezdetleges felfedezése és az adatokban való mintázatok észlelése az adatprofilozás során magáról az adathalmazról gyűjtünk információt, nem az adatok által hordozott jelentéstartalmat vizsgáljuk. \n",
                "\n",
                "Az adatprofilozás leginkább az alábbiakban segít nekünk: \n",
                "\n",
                "1. **Adatok felfedezése:** A meglévő adatainkat áttekinthetjük, megismerkedhetünk velük\n",
                "2. **Adatok megértése:** Ide tartozik az adatok eloszlásának feltérképezése, a tipikus értékek megtalálása és egyéb leíró statisztikai mutatók elemzése\n",
                "3. **Adathibák azonosítása:** Hiányző értékek, értékhibák megtalálása"
            ],
            "metadata": {
                "azdata_cell_guid": "8fd69c6e-03f6-45e6-9d56-bede29ac68cf"
            },
            "attachments": {}
        },
        {
            "cell_type": "markdown",
            "source": [
                "### **Az adatprofilozást a \"Termek\" tábla egyes oszlopain fogom elvégezni**"
            ],
            "metadata": {
                "language": "sql",
                "azdata_cell_guid": "0953c67b-4556-4192-bc81-ce2aaf6f5982"
            },
            "attachments": {}
        },
        {
            "cell_type": "code",
            "source": [
                "SELECT COUNT(*) AS 'Sorok száma'\r\n",
                "FROM Termek\r\n",
                "-- 551 sor van a táblában"
            ],
            "metadata": {
                "azdata_cell_guid": "70824d52-0b15-4125-b61b-ecc5e890bfc6",
                "language": "sql"
            },
            "outputs": [
                {
                    "output_type": "display_data",
                    "data": {
                        "text/html": "(1 row affected)"
                    },
                    "metadata": {}
                },
                {
                    "output_type": "display_data",
                    "data": {
                        "text/html": "Total execution time: 00:00:00.105"
                    },
                    "metadata": {}
                },
                {
                    "output_type": "execute_result",
                    "metadata": {},
                    "execution_count": 1,
                    "data": {
                        "application/vnd.dataresource+json": {
                            "schema": {
                                "fields": [
                                    {
                                        "name": "Sorok száma"
                                    }
                                ]
                            },
                            "data": [
                                {
                                    "Sorok száma": "551"
                                }
                            ]
                        },
                        "text/html": [
                            "<table>",
                            "<tr><th>Sorok száma</th></tr>",
                            "<tr><td>551</td></tr>",
                            "</table>"
                        ]
                    }
                }
            ],
            "execution_count": 1
        },
        {
            "cell_type": "code",
            "source": [
                "-- Mivel a listaar oszlop egy számértékű változó (informatikusosan float típusú), ezért itt van értelme a különböző leíró statisztikai mutatók értelmezésének\r\n",
                "SELECT MIN(LISTAAR) AS 'Minimum ár', \r\n",
                "       MAX(LISTAAR) AS 'Maximum ár', \r\n",
                "       ROUND(AVG(LISTAAR),2) AS 'Átlagos ár', \r\n",
                "       ROUND(STDEV(LISTAAR),2) AS 'Árak szórása', \r\n",
                "       ROUND(VAR(LISTAAR),2) AS 'Árak varianciája'\r\n",
                "FROM Termek\r\n",
                "WHERE LISTAAR IS NOT NULL -- A hiányzó értékeket nem vettem bele a leíró statisztikai mutatók kiszámolásába, mivel ezekkel nem tudnának a lekérdezések mit kezdeni"
            ],
            "metadata": {
                "language": "sql",
                "azdata_cell_guid": "18a7fd75-7ef6-4df8-8dd0-446d32c16db3"
            },
            "outputs": [
                {
                    "output_type": "display_data",
                    "data": {
                        "text/html": "(1 row affected)"
                    },
                    "metadata": {}
                },
                {
                    "output_type": "display_data",
                    "data": {
                        "text/html": "Total execution time: 00:00:00.072"
                    },
                    "metadata": {}
                },
                {
                    "output_type": "execute_result",
                    "metadata": {},
                    "execution_count": 23,
                    "data": {
                        "application/vnd.dataresource+json": {
                            "schema": {
                                "fields": [
                                    {
                                        "name": "Minimum ár"
                                    },
                                    {
                                        "name": "Maximum ár"
                                    },
                                    {
                                        "name": "Átlagos ár"
                                    },
                                    {
                                        "name": "Árak szórása"
                                    },
                                    {
                                        "name": "Árak varianciája"
                                    }
                                ]
                            },
                            "data": [
                                {
                                    "Minimum ár": "0",
                                    "Maximum ár": "46000",
                                    "Átlagos ár": "786,28",
                                    "Árak szórása": "3602,48",
                                    "Árak varianciája": "12977870,53"
                                }
                            ]
                        },
                        "text/html": [
                            "<table>",
                            "<tr><th>Minimum ár</th><th>Maximum ár</th><th>Átlagos ár</th><th>Árak szórása</th><th>Árak varianciája</th></tr>",
                            "<tr><td>0</td><td>46000</td><td>786,28</td><td>3602,48</td><td>12977870,53</td></tr>",
                            "</table>"
                        ]
                    }
                }
            ],
            "execution_count": 23
        },
        {
            "cell_type": "markdown",
            "source": [
                "_Levonható az a következtetés, hogy az árak alapvetően inkább jobbra elnyúló eloszlást követnek és van pár magasan kiugró érték, amelyek miatt nagy az árak szórása_"
            ],
            "metadata": {
                "language": "sql",
                "azdata_cell_guid": "5953c597-de5a-4aae-b418-fd18150899b2"
            },
            "attachments": {}
        },
        {
            "cell_type": "code",
            "source": [
                "-- Az alábbi kóddal le tudjuk kérdezni, hogy hány hiányzó értékkel rendelkező sor van egy oszlopban, ami itt jelen esetben 527 db az 551-ből\r\n",
                "SELECT  \r\n",
                "    IIF(GROUPING(CASE WHEN LEIRAS IS NULL THEN 'Hiányzó érték'\r\n",
                "         ELSE 'Van érték' \r\n",
                "         END) = 1, 'Összesen', CASE WHEN LEIRAS IS NULL THEN 'Hiányzó érték'\r\n",
                "         ELSE 'Van érték' \r\n",
                "         END) AS 'Sor típus', \r\n",
                "         COUNT(*) AS 'Sorok száma'\r\n",
                "FROM Termek\r\n",
                "GROUP BY ROLLUP(CASE WHEN LEIRAS IS NULL THEN 'Hiányzó érték'\r\n",
                "         ELSE 'Van érték' \r\n",
                "         END) "
            ],
            "metadata": {
                "language": "sql",
                "azdata_cell_guid": "1a2e489b-fe38-45e4-b693-daf08a1973ac"
            },
            "outputs": [
                {
                    "output_type": "display_data",
                    "data": {
                        "text/html": "(3 rows affected)"
                    },
                    "metadata": {}
                },
                {
                    "output_type": "display_data",
                    "data": {
                        "text/html": "Total execution time: 00:00:00.031"
                    },
                    "metadata": {}
                },
                {
                    "output_type": "execute_result",
                    "metadata": {},
                    "execution_count": 14,
                    "data": {
                        "application/vnd.dataresource+json": {
                            "schema": {
                                "fields": [
                                    {
                                        "name": "Sor típus"
                                    },
                                    {
                                        "name": "Sorok száma"
                                    }
                                ]
                            },
                            "data": [
                                {
                                    "Sor típus": "Hiányzó érték",
                                    "Sorok száma": "527"
                                },
                                {
                                    "Sor típus": "Van érték",
                                    "Sorok száma": "24"
                                },
                                {
                                    "Sor típus": "Összesen",
                                    "Sorok száma": "551"
                                }
                            ]
                        },
                        "text/html": [
                            "<table>",
                            "<tr><th>Sor típus</th><th>Sorok száma</th></tr>",
                            "<tr><td>Hiányzó érték</td><td>527</td></tr>",
                            "<tr><td>Van érték</td><td>24</td></tr>",
                            "<tr><td>Összesen</td><td>551</td></tr>",
                            "</table>"
                        ]
                    }
                }
            ],
            "execution_count": 14
        },
        {
            "cell_type": "markdown",
            "source": [
                "_Túlnyomó többségben ebben az oszlopban hiányzó értékek vannak, ezért egy esetleges elemzés során ezzel a \"LEIRAS\" oszloppal nem sok mindent tudnánk kezdeni_"
            ],
            "metadata": {
                "azdata_cell_guid": "1792c6f7-60bd-4c3f-9d07-48539fc0f1f3"
            },
            "attachments": {}
        },
        {
            "cell_type": "code",
            "source": [
                "-- Feltéve, hogy az egyes termékekből a készlet minden esetben minimum 100, maximum 500 db-ra lenne meghatározva az alábbi módon tudjuk vizsgálni, hogy hány termék készlete felelne ennek meg \r\n",
                "DECLARE \r\n",
                "@min int = 100,\r\n",
                "@max int = 500;\r\n",
                "\r\n",
                "SELECT \r\n",
                "    SUM(CASE WHEN KESZLET < @min THEN 1 ELSE 0 end) AS 'Kisebb, mint az elvárt',\r\n",
                "    SUM(CASE WHEN KESZLET BETWEEN @min and @max THEN 1 ELSE 0 end) AS 'Megfelel az elvártnak',\r\n",
                "    SUM(CASE WHEN KESZLET > @max THEN 1 ELSE 0 end) AS 'Nagyobb, mint a megengedett'\r\n",
                "FROM Termek"
            ],
            "metadata": {
                "language": "sql",
                "azdata_cell_guid": "1197e240-2cca-4d2c-a209-e2500e503310",
                "tags": []
            },
            "outputs": [
                {
                    "output_type": "display_data",
                    "data": {
                        "text/html": "(1 row affected)"
                    },
                    "metadata": {}
                },
                {
                    "output_type": "display_data",
                    "data": {
                        "text/html": "Total execution time: 00:00:00.055"
                    },
                    "metadata": {}
                },
                {
                    "output_type": "execute_result",
                    "metadata": {},
                    "execution_count": 15,
                    "data": {
                        "application/vnd.dataresource+json": {
                            "schema": {
                                "fields": [
                                    {
                                        "name": "Kisebb, mint az elvárt"
                                    },
                                    {
                                        "name": "Megfelel az elvártnak"
                                    },
                                    {
                                        "name": "Nagyobb, mint a megengedett"
                                    }
                                ]
                            },
                            "data": [
                                {
                                    "Kisebb, mint az elvárt": "6",
                                    "Megfelel az elvártnak": "321",
                                    "Nagyobb, mint a megengedett": "224"
                                }
                            ]
                        },
                        "text/html": [
                            "<table>",
                            "<tr><th>Kisebb, mint az elvárt</th><th>Megfelel az elvártnak</th><th>Nagyobb, mint a megengedett</th></tr>",
                            "<tr><td>6</td><td>321</td><td>224</td></tr>",
                            "</table>"
                        ]
                    }
                }
            ],
            "execution_count": 15
        },
        {
            "cell_type": "markdown",
            "source": [
                "_Ezekkel a minimum és maximum küsszöb értékekkel az 551 sorból csupán 321 felelne meg egy ilyen domain típusú megszorításnal_"
            ],
            "metadata": {
                "language": "sql",
                "azdata_cell_guid": "6cb212ae-977d-4d57-b4b6-7463d7bb7bac"
            },
            "attachments": {}
        },
        {
            "cell_type": "code",
            "source": [
                "-- Meg tudjuk nézni az alábbi kóddal a megnevezés mező karakterszám szerinti eloszlását\r\n",
                "SELECT LEN(MEGNEVEZES) AS 'Karakterszám',\r\n",
                "       count(*) AS 'Darabszám'\r\n",
                "FROM Termek\r\n",
                "GROUP BY LEN(MEGNEVEZES)\r\n",
                "ORDER BY 'Karakterszám' ASC"
            ],
            "metadata": {
                "language": "sql",
                "azdata_cell_guid": "dcc8a309-8ebe-4e94-82d3-64a2a81e6df5"
            },
            "outputs": [
                {
                    "output_type": "display_data",
                    "data": {
                        "text/html": "(33 rows affected)"
                    },
                    "metadata": {}
                },
                {
                    "output_type": "display_data",
                    "data": {
                        "text/html": "Total execution time: 00:00:00.186"
                    },
                    "metadata": {}
                },
                {
                    "output_type": "execute_result",
                    "metadata": {},
                    "execution_count": 19,
                    "data": {
                        "application/vnd.dataresource+json": {
                            "schema": {
                                "fields": [
                                    {
                                        "name": "Karakterszám"
                                    },
                                    {
                                        "name": "Darabszám"
                                    }
                                ]
                            },
                            "data": [
                                {
                                    "Karakterszám": "3",
                                    "Darabszám": "2"
                                },
                                {
                                    "Karakterszám": "5",
                                    "Darabszám": "2"
                                },
                                {
                                    "Karakterszám": "6",
                                    "Darabszám": "1"
                                },
                                {
                                    "Karakterszám": "7",
                                    "Darabszám": "2"
                                },
                                {
                                    "Karakterszám": "8",
                                    "Darabszám": "5"
                                },
                                {
                                    "Karakterszám": "9",
                                    "Darabszám": "8"
                                },
                                {
                                    "Karakterszám": "10",
                                    "Darabszám": "15"
                                },
                                {
                                    "Karakterszám": "11",
                                    "Darabszám": "18"
                                },
                                {
                                    "Karakterszám": "12",
                                    "Darabszám": "23"
                                },
                                {
                                    "Karakterszám": "13",
                                    "Darabszám": "30"
                                },
                                {
                                    "Karakterszám": "14",
                                    "Darabszám": "35"
                                },
                                {
                                    "Karakterszám": "15",
                                    "Darabszám": "32"
                                },
                                {
                                    "Karakterszám": "16",
                                    "Darabszám": "42"
                                },
                                {
                                    "Karakterszám": "17",
                                    "Darabszám": "32"
                                },
                                {
                                    "Karakterszám": "18",
                                    "Darabszám": "38"
                                },
                                {
                                    "Karakterszám": "19",
                                    "Darabszám": "37"
                                },
                                {
                                    "Karakterszám": "20",
                                    "Darabszám": "35"
                                },
                                {
                                    "Karakterszám": "21",
                                    "Darabszám": "37"
                                },
                                {
                                    "Karakterszám": "22",
                                    "Darabszám": "26"
                                },
                                {
                                    "Karakterszám": "23",
                                    "Darabszám": "20"
                                },
                                {
                                    "Karakterszám": "24",
                                    "Darabszám": "29"
                                },
                                {
                                    "Karakterszám": "25",
                                    "Darabszám": "16"
                                },
                                {
                                    "Karakterszám": "26",
                                    "Darabszám": "12"
                                },
                                {
                                    "Karakterszám": "27",
                                    "Darabszám": "10"
                                },
                                {
                                    "Karakterszám": "28",
                                    "Darabszám": "8"
                                },
                                {
                                    "Karakterszám": "29",
                                    "Darabszám": "11"
                                },
                                {
                                    "Karakterszám": "30",
                                    "Darabszám": "11"
                                },
                                {
                                    "Karakterszám": "31",
                                    "Darabszám": "5"
                                },
                                {
                                    "Karakterszám": "32",
                                    "Darabszám": "1"
                                },
                                {
                                    "Karakterszám": "33",
                                    "Darabszám": "2"
                                },
                                {
                                    "Karakterszám": "36",
                                    "Darabszám": "2"
                                },
                                {
                                    "Karakterszám": "39",
                                    "Darabszám": "2"
                                },
                                {
                                    "Karakterszám": "40",
                                    "Darabszám": "2"
                                }
                            ]
                        },
                        "text/html": [
                            "<table>",
                            "<tr><th>Karakterszám</th><th>Darabszám</th></tr>",
                            "<tr><td>3</td><td>2</td></tr>",
                            "<tr><td>5</td><td>2</td></tr>",
                            "<tr><td>6</td><td>1</td></tr>",
                            "<tr><td>7</td><td>2</td></tr>",
                            "<tr><td>8</td><td>5</td></tr>",
                            "<tr><td>9</td><td>8</td></tr>",
                            "<tr><td>10</td><td>15</td></tr>",
                            "<tr><td>11</td><td>18</td></tr>",
                            "<tr><td>12</td><td>23</td></tr>",
                            "<tr><td>13</td><td>30</td></tr>",
                            "<tr><td>14</td><td>35</td></tr>",
                            "<tr><td>15</td><td>32</td></tr>",
                            "<tr><td>16</td><td>42</td></tr>",
                            "<tr><td>17</td><td>32</td></tr>",
                            "<tr><td>18</td><td>38</td></tr>",
                            "<tr><td>19</td><td>37</td></tr>",
                            "<tr><td>20</td><td>35</td></tr>",
                            "<tr><td>21</td><td>37</td></tr>",
                            "<tr><td>22</td><td>26</td></tr>",
                            "<tr><td>23</td><td>20</td></tr>",
                            "<tr><td>24</td><td>29</td></tr>",
                            "<tr><td>25</td><td>16</td></tr>",
                            "<tr><td>26</td><td>12</td></tr>",
                            "<tr><td>27</td><td>10</td></tr>",
                            "<tr><td>28</td><td>8</td></tr>",
                            "<tr><td>29</td><td>11</td></tr>",
                            "<tr><td>30</td><td>11</td></tr>",
                            "<tr><td>31</td><td>5</td></tr>",
                            "<tr><td>32</td><td>1</td></tr>",
                            "<tr><td>33</td><td>2</td></tr>",
                            "<tr><td>36</td><td>2</td></tr>",
                            "<tr><td>39</td><td>2</td></tr>",
                            "<tr><td>40</td><td>2</td></tr>",
                            "</table>"
                        ]
                    }
                }
            ],
            "execution_count": 19
        },
        {
            "cell_type": "markdown",
            "source": [
                "_Ezek alapján egy lapult normális eloszláshoz közelít leginkább a karakterszámok szerinti eloszlása az oszlopnak_"
            ],
            "metadata": {
                "language": "sql",
                "azdata_cell_guid": "0f8e7c5c-b987-4975-bac3-33b688d96c74"
            },
            "attachments": {}
        },
        {
            "cell_type": "code",
            "source": [
                "--Ki tudjuk gyűjteni például az 5 leggyakrabban előforduló értéket egy oszlopban legyen az számértékű, vagy kategórikus változó (int/float vagy varchar/nvarchar sőt dátum is lehet)\r\n",
                "SELECT TOP 3\r\n",
                "    MEGYS AS value, \r\n",
                "    COUNT(*) row_count\r\n",
                "FROM Termek\r\n",
                "WHERE MEGYS IS NOT null\r\n",
                "GROUP BY MEGYS\r\n",
                "ORDER BY COUNT(*) DESC"
            ],
            "metadata": {
                "azdata_cell_guid": "7daabb7e-5b37-4d25-8e2b-9c887ddc63a9",
                "language": "sql"
            },
            "outputs": [
                {
                    "output_type": "display_data",
                    "data": {
                        "text/html": "(3 rows affected)"
                    },
                    "metadata": {}
                },
                {
                    "output_type": "display_data",
                    "data": {
                        "text/html": "Total execution time: 00:00:00.028"
                    },
                    "metadata": {}
                },
                {
                    "output_type": "execute_result",
                    "metadata": {},
                    "execution_count": 21,
                    "data": {
                        "application/vnd.dataresource+json": {
                            "schema": {
                                "fields": [
                                    {
                                        "name": "value"
                                    },
                                    {
                                        "name": "row_count"
                                    }
                                ]
                            },
                            "data": [
                                {
                                    "value": "db",
                                    "row_count": "483"
                                },
                                {
                                    "value": "csomag",
                                    "row_count": "44"
                                },
                                {
                                    "value": "ív",
                                    "row_count": "21"
                                }
                            ]
                        },
                        "text/html": [
                            "<table>",
                            "<tr><th>value</th><th>row_count</th></tr>",
                            "<tr><td>db</td><td>483</td></tr>",
                            "<tr><td>csomag</td><td>44</td></tr>",
                            "<tr><td>ív</td><td>21</td></tr>",
                            "</table>"
                        ]
                    }
                }
            ],
            "execution_count": 21
        },
        {
            "cell_type": "markdown",
            "source": [
                "_A három leggyakoribb mennyiségi egység a db, a csomag és az ív_"
            ],
            "metadata": {
                "azdata_cell_guid": "0e1d1255-6eb3-4172-b049-13b3df00d055"
            },
            "attachments": {}
        }
    ]
}